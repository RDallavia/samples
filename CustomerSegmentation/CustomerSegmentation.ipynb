{
 "cells": [
  {
   "cell_type": "markdown",
   "id": "d6318db1",
   "metadata": {},
   "source": [
    "# Who's Who in our Customer Database?\n",
    "\n",
    "## An Exercise in Unsupervised Learning"
   ]
  },
  {
   "cell_type": "markdown",
   "id": "bd7aec60-6b32-42ef-8255-9388483a4cc6",
   "metadata": {},
   "source": [
    "We begin our analysis by loading the requisite packages. In this instance, we need only the `tidyverse` suite of packages and `caret`, R's machine learning library. "
   ]
  },
  {
   "cell_type": "code",
   "execution_count": 6,
   "id": "9e637460",
   "metadata": {},
   "outputs": [
    {
     "name": "stderr",
     "output_type": "stream",
     "text": [
      "Updating HTML index of packages in '.Library'\n",
      "\n",
      "Making 'packages.html' ...\n",
      " done\n",
      "\n",
      "Updating HTML index of packages in '.Library'\n",
      "\n",
      "Making 'packages.html' ...\n",
      " done\n",
      "\n",
      "Loading required package: lattice\n",
      "\n",
      "\n",
      "Attaching package: ‘caret’\n",
      "\n",
      "\n",
      "The following object is masked from ‘package:purrr’:\n",
      "\n",
      "    lift\n",
      "\n",
      "\n"
     ]
    }
   ],
   "source": [
    "install.packages(\"tidyverse\")\n",
    "install.packages(\"caret\")\n",
    "library(tidyverse)\n",
    "library(caret)"
   ]
  },
  {
   "cell_type": "markdown",
   "id": "120aa74e-bb50-4946-b785-33b6fdf8cb4d",
   "metadata": {},
   "source": [
    "In the cells that follow, we load our data and inspect its dimensions."
   ]
  },
  {
   "cell_type": "code",
   "execution_count": 9,
   "id": "af51d411-c248-4837-b3a1-bc764f179382",
   "metadata": {},
   "outputs": [
    {
     "name": "stderr",
     "output_type": "stream",
     "text": [
      "\u001b[1mRows: \u001b[22m\u001b[34m3999\u001b[39m \u001b[1mColumns: \u001b[22m\u001b[34m7\u001b[39m\n",
      "\u001b[36m──\u001b[39m \u001b[1mColumn specification\u001b[22m \u001b[36m────────────────────────────────────────────────────────\u001b[39m\n",
      "\u001b[1mDelimiter:\u001b[22m \",\"\n",
      "\u001b[32mdbl\u001b[39m (7): Balance, QualMiles, BonusMiles, BonusTrans, FlightMiles, FlightTran...\n",
      "\n",
      "\u001b[36mℹ\u001b[39m Use `spec()` to retrieve the full column specification for this data.\n",
      "\u001b[36mℹ\u001b[39m Specify the column types or set `show_col_types = FALSE` to quiet this message.\n"
     ]
    }
   ],
   "source": [
    "df = read_csv(\"data/AirlinesCluster.csv\")"
   ]
  },
  {
   "cell_type": "markdown",
   "id": "6013010a-e42c-4ecf-b8b2-95218e61c639",
   "metadata": {},
   "source": [
    "The display shows us that our data frame contains 3999 rows and 7 columns (i.e., features). "
   ]
  },
  {
   "cell_type": "code",
   "execution_count": 4,
   "id": "4e1613e0-f239-4328-9ef7-3bfd438dbd27",
   "metadata": {},
   "outputs": [
    {
     "data": {
      "text/html": [
       "<style>\n",
       ".list-inline {list-style: none; margin:0; padding: 0}\n",
       ".list-inline>li {display: inline-block}\n",
       ".list-inline>li:not(:last-child)::after {content: \"\\00b7\"; padding: 0 .5ex}\n",
       "</style>\n",
       "<ol class=list-inline><li>3999</li><li>7</li></ol>\n"
      ],
      "text/latex": [
       "\\begin{enumerate*}\n",
       "\\item 3999\n",
       "\\item 7\n",
       "\\end{enumerate*}\n"
      ],
      "text/markdown": [
       "1. 3999\n",
       "2. 7\n",
       "\n",
       "\n"
      ],
      "text/plain": [
       "[1] 3999    7"
      ]
     },
     "metadata": {},
     "output_type": "display_data"
    }
   ],
   "source": [
    "dim(df)"
   ]
  },
  {
   "cell_type": "markdown",
   "id": "99391bd5-ba26-47fd-9c93-2da96f9aa338",
   "metadata": {},
   "source": [
    "Below, we examine the top of our data frame by calling the `head()` function. Note that the scale of the variables differs substantially from one column to the next. This suggests further analytics will require normalization. "
   ]
  },
  {
   "cell_type": "code",
   "execution_count": 10,
   "id": "2a5de8cd-184f-4d2e-8f4e-aeb2c66b0ff4",
   "metadata": {},
   "outputs": [
    {
     "data": {
      "text/html": [
       "<table class=\"dataframe\">\n",
       "<caption>A tibble: 6 × 7</caption>\n",
       "<thead>\n",
       "\t<tr><th scope=col>Balance</th><th scope=col>QualMiles</th><th scope=col>BonusMiles</th><th scope=col>BonusTrans</th><th scope=col>FlightMiles</th><th scope=col>FlightTrans</th><th scope=col>DaysSinceEnroll</th></tr>\n",
       "\t<tr><th scope=col>&lt;dbl&gt;</th><th scope=col>&lt;dbl&gt;</th><th scope=col>&lt;dbl&gt;</th><th scope=col>&lt;dbl&gt;</th><th scope=col>&lt;dbl&gt;</th><th scope=col>&lt;dbl&gt;</th><th scope=col>&lt;dbl&gt;</th></tr>\n",
       "</thead>\n",
       "<tbody>\n",
       "\t<tr><td>28143</td><td>0</td><td>  174</td><td> 1</td><td>   0</td><td>0</td><td>7000</td></tr>\n",
       "\t<tr><td>19244</td><td>0</td><td>  215</td><td> 2</td><td>   0</td><td>0</td><td>6968</td></tr>\n",
       "\t<tr><td>41354</td><td>0</td><td> 4123</td><td> 4</td><td>   0</td><td>0</td><td>7034</td></tr>\n",
       "\t<tr><td>14776</td><td>0</td><td>  500</td><td> 1</td><td>   0</td><td>0</td><td>6952</td></tr>\n",
       "\t<tr><td>97752</td><td>0</td><td>43300</td><td>26</td><td>2077</td><td>4</td><td>6935</td></tr>\n",
       "\t<tr><td>16420</td><td>0</td><td>    0</td><td> 0</td><td>   0</td><td>0</td><td>6942</td></tr>\n",
       "</tbody>\n",
       "</table>\n"
      ],
      "text/latex": [
       "A tibble: 6 × 7\n",
       "\\begin{tabular}{lllllll}\n",
       " Balance & QualMiles & BonusMiles & BonusTrans & FlightMiles & FlightTrans & DaysSinceEnroll\\\\\n",
       " <dbl> & <dbl> & <dbl> & <dbl> & <dbl> & <dbl> & <dbl>\\\\\n",
       "\\hline\n",
       "\t 28143 & 0 &   174 &  1 &    0 & 0 & 7000\\\\\n",
       "\t 19244 & 0 &   215 &  2 &    0 & 0 & 6968\\\\\n",
       "\t 41354 & 0 &  4123 &  4 &    0 & 0 & 7034\\\\\n",
       "\t 14776 & 0 &   500 &  1 &    0 & 0 & 6952\\\\\n",
       "\t 97752 & 0 & 43300 & 26 & 2077 & 4 & 6935\\\\\n",
       "\t 16420 & 0 &     0 &  0 &    0 & 0 & 6942\\\\\n",
       "\\end{tabular}\n"
      ],
      "text/markdown": [
       "\n",
       "A tibble: 6 × 7\n",
       "\n",
       "| Balance &lt;dbl&gt; | QualMiles &lt;dbl&gt; | BonusMiles &lt;dbl&gt; | BonusTrans &lt;dbl&gt; | FlightMiles &lt;dbl&gt; | FlightTrans &lt;dbl&gt; | DaysSinceEnroll &lt;dbl&gt; |\n",
       "|---|---|---|---|---|---|---|\n",
       "| 28143 | 0 |   174 |  1 |    0 | 0 | 7000 |\n",
       "| 19244 | 0 |   215 |  2 |    0 | 0 | 6968 |\n",
       "| 41354 | 0 |  4123 |  4 |    0 | 0 | 7034 |\n",
       "| 14776 | 0 |   500 |  1 |    0 | 0 | 6952 |\n",
       "| 97752 | 0 | 43300 | 26 | 2077 | 4 | 6935 |\n",
       "| 16420 | 0 |     0 |  0 |    0 | 0 | 6942 |\n",
       "\n"
      ],
      "text/plain": [
       "  Balance QualMiles BonusMiles BonusTrans FlightMiles FlightTrans\n",
       "1 28143   0           174       1            0        0          \n",
       "2 19244   0           215       2            0        0          \n",
       "3 41354   0          4123       4            0        0          \n",
       "4 14776   0           500       1            0        0          \n",
       "5 97752   0         43300      26         2077        4          \n",
       "6 16420   0             0       0            0        0          \n",
       "  DaysSinceEnroll\n",
       "1 7000           \n",
       "2 6968           \n",
       "3 7034           \n",
       "4 6952           \n",
       "5 6935           \n",
       "6 6942           "
      ]
     },
     "metadata": {},
     "output_type": "display_data"
    }
   ],
   "source": [
    "head(df)"
   ]
  },
  {
   "cell_type": "markdown",
   "id": "75803d74-843d-4425-8e23-aa8718a475c7",
   "metadata": {},
   "source": [
    "If we summarize the data we can see that 1) there are no NA's and 2) BonusTrans and FlightTrans have the lowest means, while Balance and BonusMiles have the largest maximum values. The spread between these minima and maxima strengthen our case for data normalization."
   ]
  },
  {
   "cell_type": "code",
   "execution_count": 12,
   "id": "a633603d-2cae-41be-8e7d-fb89563be868",
   "metadata": {},
   "outputs": [
    {
     "data": {
      "text/plain": [
       "    Balance          QualMiles         BonusMiles       BonusTrans  \n",
       " Min.   :      0   Min.   :    0.0   Min.   :     0   Min.   : 0.0  \n",
       " 1st Qu.:  18528   1st Qu.:    0.0   1st Qu.:  1250   1st Qu.: 3.0  \n",
       " Median :  43097   Median :    0.0   Median :  7171   Median :12.0  \n",
       " Mean   :  73601   Mean   :  144.1   Mean   : 17145   Mean   :11.6  \n",
       " 3rd Qu.:  92404   3rd Qu.:    0.0   3rd Qu.: 23800   3rd Qu.:17.0  \n",
       " Max.   :1704838   Max.   :11148.0   Max.   :263685   Max.   :86.0  \n",
       "  FlightMiles       FlightTrans     DaysSinceEnroll\n",
       " Min.   :    0.0   Min.   : 0.000   Min.   :   2   \n",
       " 1st Qu.:    0.0   1st Qu.: 0.000   1st Qu.:2330   \n",
       " Median :    0.0   Median : 0.000   Median :4096   \n",
       " Mean   :  460.1   Mean   : 1.374   Mean   :4119   \n",
       " 3rd Qu.:  311.0   3rd Qu.: 1.000   3rd Qu.:5790   \n",
       " Max.   :30817.0   Max.   :53.000   Max.   :8296   "
      ]
     },
     "metadata": {},
     "output_type": "display_data"
    }
   ],
   "source": [
    "summary(df)"
   ]
  },
  {
   "cell_type": "markdown",
   "id": "e0ed60b3-e31c-448a-b5cc-5c7fd3851680",
   "metadata": {},
   "source": [
    "Below, we normalize our data, so that we can use it in cluster formation."
   ]
  },
  {
   "cell_type": "code",
   "execution_count": 13,
   "id": "3c4d65e5-401e-4a39-9758-773183b22951",
   "metadata": {},
   "outputs": [],
   "source": [
    "preproc = preProcess(df)\n",
    "airlinesNorm = predict(preproc, df)"
   ]
  },
  {
   "cell_type": "markdown",
   "id": "90d71424-36f8-45ad-972d-a0120552b97a",
   "metadata": {},
   "source": [
    "The mean of each vector below is zero. This confirms we have normalized data. "
   ]
  },
  {
   "cell_type": "code",
   "execution_count": 14,
   "id": "8ba9184d-017e-4290-afb2-04ef14fbba77",
   "metadata": {},
   "outputs": [
    {
     "data": {
      "text/plain": [
       "    Balance          QualMiles         BonusMiles        BonusTrans      \n",
       " Min.   :-0.7303   Min.   :-0.1863   Min.   :-0.7099   Min.   :-1.20805  \n",
       " 1st Qu.:-0.5465   1st Qu.:-0.1863   1st Qu.:-0.6581   1st Qu.:-0.89568  \n",
       " Median :-0.3027   Median :-0.1863   Median :-0.4130   Median : 0.04145  \n",
       " Mean   : 0.0000   Mean   : 0.0000   Mean   : 0.0000   Mean   : 0.00000  \n",
       " 3rd Qu.: 0.1866   3rd Qu.:-0.1863   3rd Qu.: 0.2756   3rd Qu.: 0.56208  \n",
       " Max.   :16.1868   Max.   :14.2231   Max.   :10.2083   Max.   : 7.74673  \n",
       "  FlightMiles       FlightTrans       DaysSinceEnroll   \n",
       " Min.   :-0.3286   Min.   :-0.36212   Min.   :-1.99336  \n",
       " 1st Qu.:-0.3286   1st Qu.:-0.36212   1st Qu.:-0.86607  \n",
       " Median :-0.3286   Median :-0.36212   Median :-0.01092  \n",
       " Mean   : 0.0000   Mean   : 0.00000   Mean   : 0.00000  \n",
       " 3rd Qu.:-0.1065   3rd Qu.:-0.09849   3rd Qu.: 0.80960  \n",
       " Max.   :21.6803   Max.   :13.61035   Max.   : 2.02284  "
      ]
     },
     "metadata": {},
     "output_type": "display_data"
    }
   ],
   "source": [
    "summary(airlinesNorm)"
   ]
  },
  {
   "cell_type": "markdown",
   "id": "ee0ede2f-98c3-4582-a461-ec8447bca014",
   "metadata": {},
   "source": [
    "Having successfully normalized our data, we can execute the hierarchical clustering commands and plot the resulting dendrogram. "
   ]
  },
  {
   "cell_type": "code",
   "execution_count": 16,
   "id": "71f3a107-f4db-4199-8ead-ba56143ab31f",
   "metadata": {},
   "outputs": [
    {
     "data": {
      "image/png": "[encoded data removed]",
      "text/plain": [
       "Plot with title “Cluster Dendrogram”"
      ]
     },
     "metadata": {
      "image/png": {
       "height": 420,
       "width": 420
      }
     },
     "output_type": "display_data"
    }
   ],
   "source": [
    "# prep for hierarchical clustering\n",
    "distances = dist(airlinesNorm, method=\"euclidean\")\n",
    "\n",
    "# perform clustering\n",
    "hierClust = hclust(distances, method=\"ward.D\")\n",
    "\n",
    "# plot dendrogram\n",
    "plot(hierClust)"
   ]
  },
  {
   "cell_type": "markdown",
   "id": "2fea3b92-399b-4a05-b76a-d2e01e268863",
   "metadata": {},
   "source": [
    "With dendrogram and domain knowledge in hand, we decide that 5 clusters is sufficient to capture the variance of the data."
   ]
  },
  {
   "cell_type": "code",
   "execution_count": 18,
   "id": "07e68f47-a857-49c3-bb9b-c4d6bcbbcce6",
   "metadata": {},
   "outputs": [
    {
     "data": {
      "text/plain": [
       "clusterGroups\n",
       "   1    2    3    4    5 \n",
       " 776  519  494  868 1342 "
      ]
     },
     "metadata": {},
     "output_type": "display_data"
    }
   ],
   "source": [
    "# divide data into 5 clusters per intel from marketing\n",
    "clusterGroups = cutree(hierClust, k=5)\n",
    "\n",
    "# display clusters and number of observations\n",
    "table(clusterGroups)"
   ]
  },
  {
   "cell_type": "markdown",
   "id": "919d4105-2c81-4cdf-a0c7-cd81cfc87636",
   "metadata": {},
   "source": [
    "Having split the data into clusters, we can now dive into the data and search for meaningful patterns. We'll use the raw data for this section, as it is easier to interpret. "
   ]
  },
  {
   "cell_type": "code",
   "execution_count": 32,
   "id": "e7ed379a-bec1-40c6-88fc-9025673c9c26",
   "metadata": {},
   "outputs": [],
   "source": [
    "# split raw data into clusters and calculate column means\n",
    "lyst = lapply(split(df, clusterGroups), colMeans)"
   ]
  },
  {
   "cell_type": "markdown",
   "id": "84b7b512-9bfc-4926-ab6e-7a5b191d6a33",
   "metadata": {},
   "source": [
    "Cluster 1 has the highest DaysSinceEnroll, but low relative FlightTrans and FlightMiles.\n",
    "The clientele in this cluster are infrequent but loyal customers who have been with the airline a long time."
   ]
  },
  {
   "cell_type": "code",
   "execution_count": 36,
   "id": "63506484-4658-4571-918d-6221272244e0",
   "metadata": {},
   "outputs": [
    {
     "data": {
      "text/html": [
       "<strong>$`1`</strong> = <style>\n",
       ".dl-inline {width: auto; margin:0; padding: 0}\n",
       ".dl-inline>dt, .dl-inline>dd {float: none; width: auto; display: inline-block}\n",
       ".dl-inline>dt::after {content: \":\\0020\"; padding-right: .5ex}\n",
       ".dl-inline>dt:not(:first-of-type) {padding-left: .5ex}\n",
       "</style><dl class=dl-inline><dt>Balance</dt><dd>57866.9046391753</dd><dt>QualMiles</dt><dd>0.644329896907217</dd><dt>BonusMiles</dt><dd>10360.1237113402</dd><dt>BonusTrans</dt><dd>10.8234536082474</dd><dt>FlightMiles</dt><dd>83.1842783505155</dd><dt>FlightTrans</dt><dd>0.302835051546392</dd><dt>DaysSinceEnroll</dt><dd>6235.36469072165</dd></dl>\n"
      ],
      "text/latex": [
       "\\textbf{\\$`1`} = \\begin{description*}\n",
       "\\item[Balance] 57866.9046391753\n",
       "\\item[QualMiles] 0.644329896907217\n",
       "\\item[BonusMiles] 10360.1237113402\n",
       "\\item[BonusTrans] 10.8234536082474\n",
       "\\item[FlightMiles] 83.1842783505155\n",
       "\\item[FlightTrans] 0.302835051546392\n",
       "\\item[DaysSinceEnroll] 6235.36469072165\n",
       "\\end{description*}\n"
      ],
      "text/markdown": [
       "**$`1`** = Balance\n",
       ":   57866.9046391753QualMiles\n",
       ":   0.644329896907217BonusMiles\n",
       ":   10360.1237113402BonusTrans\n",
       ":   10.8234536082474FlightMiles\n",
       ":   83.1842783505155FlightTrans\n",
       ":   0.302835051546392DaysSinceEnroll\n",
       ":   6235.36469072165\n",
       "\n"
      ],
      "text/plain": [
       "$`1`\n",
       "        Balance       QualMiles      BonusMiles      BonusTrans     FlightMiles \n",
       "   5.786690e+04    6.443299e-01    1.036012e+04    1.082345e+01    8.318428e+01 \n",
       "    FlightTrans DaysSinceEnroll \n",
       "   3.028351e-01    6.235365e+03 \n"
      ]
     },
     "metadata": {},
     "output_type": "display_data"
    }
   ],
   "source": [
    "lyst[1]"
   ]
  },
  {
   "cell_type": "markdown",
   "id": "fbd79d7b-d88d-4399-afcc-0c8b7a3358df",
   "metadata": {},
   "source": [
    "Cluster 2 has the most Qualifying Miles, Flight Miles, and Flight Transactions\n",
    "These customers are road warriors have accumulated a large number of miles and boast the largest number of Flight Transactions.\n"
   ]
  },
  {
   "cell_type": "code",
   "execution_count": 37,
   "id": "947c20cc-7cc1-4851-be2f-43a5c04cc1b2",
   "metadata": {},
   "outputs": [
    {
     "data": {
      "text/html": [
       "<strong>$`2`</strong> = <style>\n",
       ".dl-inline {width: auto; margin:0; padding: 0}\n",
       ".dl-inline>dt, .dl-inline>dd {float: none; width: auto; display: inline-block}\n",
       ".dl-inline>dt::after {content: \":\\0020\"; padding-right: .5ex}\n",
       ".dl-inline>dt:not(:first-of-type) {padding-left: .5ex}\n",
       "</style><dl class=dl-inline><dt>Balance</dt><dd>110669.265895954</dd><dt>QualMiles</dt><dd>1065.98265895954</dd><dt>BonusMiles</dt><dd>22881.7630057803</dd><dt>BonusTrans</dt><dd>18.2292870905588</dd><dt>FlightMiles</dt><dd>2613.41811175337</dd><dt>FlightTrans</dt><dd>7.40269749518304</dd><dt>DaysSinceEnroll</dt><dd>4402.41425818882</dd></dl>\n"
      ],
      "text/latex": [
       "\\textbf{\\$`2`} = \\begin{description*}\n",
       "\\item[Balance] 110669.265895954\n",
       "\\item[QualMiles] 1065.98265895954\n",
       "\\item[BonusMiles] 22881.7630057803\n",
       "\\item[BonusTrans] 18.2292870905588\n",
       "\\item[FlightMiles] 2613.41811175337\n",
       "\\item[FlightTrans] 7.40269749518304\n",
       "\\item[DaysSinceEnroll] 4402.41425818882\n",
       "\\end{description*}\n"
      ],
      "text/markdown": [
       "**$`2`** = Balance\n",
       ":   110669.265895954QualMiles\n",
       ":   1065.98265895954BonusMiles\n",
       ":   22881.7630057803BonusTrans\n",
       ":   18.2292870905588FlightMiles\n",
       ":   2613.41811175337FlightTrans\n",
       ":   7.40269749518304DaysSinceEnroll\n",
       ":   4402.41425818882\n",
       "\n"
      ],
      "text/plain": [
       "$`2`\n",
       "        Balance       QualMiles      BonusMiles      BonusTrans     FlightMiles \n",
       "   1.106693e+05    1.065983e+03    2.288176e+04    1.822929e+01    2.613418e+03 \n",
       "    FlightTrans DaysSinceEnroll \n",
       "   7.402697e+00    4.402414e+03 \n"
      ]
     },
     "metadata": {},
     "output_type": "display_data"
    }
   ],
   "source": [
    "lyst[2]"
   ]
  },
  {
   "cell_type": "markdown",
   "id": "b675b427-66a2-4dc5-8582-cf5a5fda5724",
   "metadata": {},
   "source": [
    "Cluster 3 has large relative balances in the Balance, BonusMiles, and BonusTrans categories.\n",
    "These customers have accumulated a large number of miles through non-flight transactions."
   ]
  },
  {
   "cell_type": "code",
   "execution_count": 24,
   "id": "eb271e77-04ae-4368-b6f2-8a065d179dd4",
   "metadata": {},
   "outputs": [
    {
     "data": {
      "text/html": [
       "<strong>$`3`</strong> = <style>\n",
       ".dl-inline {width: auto; margin:0; padding: 0}\n",
       ".dl-inline>dt, .dl-inline>dd {float: none; width: auto; display: inline-block}\n",
       ".dl-inline>dt::after {content: \":\\0020\"; padding-right: .5ex}\n",
       ".dl-inline>dt:not(:first-of-type) {padding-left: .5ex}\n",
       "</style><dl class=dl-inline><dt>Balance</dt><dd>198191.574898785</dd><dt>QualMiles</dt><dd>30.3461538461538</dd><dt>BonusMiles</dt><dd>55795.8603238866</dd><dt>BonusTrans</dt><dd>19.663967611336</dd><dt>FlightMiles</dt><dd>327.676113360324</dd><dt>FlightTrans</dt><dd>1.06882591093117</dd><dt>DaysSinceEnroll</dt><dd>5615.70850202429</dd></dl>\n"
      ],
      "text/latex": [
       "\\textbf{\\$`3`} = \\begin{description*}\n",
       "\\item[Balance] 198191.574898785\n",
       "\\item[QualMiles] 30.3461538461538\n",
       "\\item[BonusMiles] 55795.8603238866\n",
       "\\item[BonusTrans] 19.663967611336\n",
       "\\item[FlightMiles] 327.676113360324\n",
       "\\item[FlightTrans] 1.06882591093117\n",
       "\\item[DaysSinceEnroll] 5615.70850202429\n",
       "\\end{description*}\n"
      ],
      "text/markdown": [
       "**$`3`** = Balance\n",
       ":   198191.574898785QualMiles\n",
       ":   30.3461538461538BonusMiles\n",
       ":   55795.8603238866BonusTrans\n",
       ":   19.663967611336FlightMiles\n",
       ":   327.676113360324FlightTrans\n",
       ":   1.06882591093117DaysSinceEnroll\n",
       ":   5615.70850202429\n",
       "\n"
      ],
      "text/plain": [
       "$`3`\n",
       "        Balance       QualMiles      BonusMiles      BonusTrans     FlightMiles \n",
       "   1.981916e+05    3.034615e+01    5.579586e+04    1.966397e+01    3.276761e+02 \n",
       "    FlightTrans DaysSinceEnroll \n",
       "   1.068826e+00    5.615709e+03 \n"
      ]
     },
     "metadata": {},
     "output_type": "display_data"
    }
   ],
   "source": [
    "lyst[3]"
   ]
  },
  {
   "cell_type": "markdown",
   "id": "cfc3b779-59a1-4dc4-9e60-5ca267839897",
   "metadata": {},
   "source": [
    "Cluster 4 seems fairly unremarkable given its low values across all features.\n",
    "These are likely new customers accumulating miles via non-flight transactions."
   ]
  },
  {
   "cell_type": "code",
   "execution_count": 25,
   "id": "0a7ba21a-ecbd-417a-b8e3-6dd81da0267d",
   "metadata": {},
   "outputs": [
    {
     "data": {
      "text/html": [
       "<strong>$`4`</strong> = <style>\n",
       ".dl-inline {width: auto; margin:0; padding: 0}\n",
       ".dl-inline>dt, .dl-inline>dd {float: none; width: auto; display: inline-block}\n",
       ".dl-inline>dt::after {content: \":\\0020\"; padding-right: .5ex}\n",
       ".dl-inline>dt:not(:first-of-type) {padding-left: .5ex}\n",
       "</style><dl class=dl-inline><dt>Balance</dt><dd>52335.91359447</dd><dt>QualMiles</dt><dd>4.84792626728111</dd><dt>BonusMiles</dt><dd>20788.7661290323</dd><dt>BonusTrans</dt><dd>17.0875576036866</dd><dt>FlightMiles</dt><dd>111.573732718894</dd><dt>FlightTrans</dt><dd>0.344470046082949</dd><dt>DaysSinceEnroll</dt><dd>2840.82258064516</dd></dl>\n"
      ],
      "text/latex": [
       "\\textbf{\\$`4`} = \\begin{description*}\n",
       "\\item[Balance] 52335.91359447\n",
       "\\item[QualMiles] 4.84792626728111\n",
       "\\item[BonusMiles] 20788.7661290323\n",
       "\\item[BonusTrans] 17.0875576036866\n",
       "\\item[FlightMiles] 111.573732718894\n",
       "\\item[FlightTrans] 0.344470046082949\n",
       "\\item[DaysSinceEnroll] 2840.82258064516\n",
       "\\end{description*}\n"
      ],
      "text/markdown": [
       "**$`4`** = Balance\n",
       ":   52335.91359447QualMiles\n",
       ":   4.84792626728111BonusMiles\n",
       ":   20788.7661290323BonusTrans\n",
       ":   17.0875576036866FlightMiles\n",
       ":   111.573732718894FlightTrans\n",
       ":   0.344470046082949DaysSinceEnroll\n",
       ":   2840.82258064516\n",
       "\n"
      ],
      "text/plain": [
       "$`4`\n",
       "        Balance       QualMiles      BonusMiles      BonusTrans     FlightMiles \n",
       "   52335.913594        4.847926    20788.766129       17.087558      111.573733 \n",
       "    FlightTrans DaysSinceEnroll \n",
       "       0.344470     2840.822581 \n"
      ]
     },
     "metadata": {},
     "output_type": "display_data"
    }
   ],
   "source": [
    "lyst[4]"
   ]
  },
  {
   "cell_type": "markdown",
   "id": "1c1cd1da-284f-459e-a410-ad540d795837",
   "metadata": {},
   "source": [
    "Cluster 5's output suggests these are fairly new customers who fly very little."
   ]
  },
  {
   "cell_type": "code",
   "execution_count": 31,
   "id": "1a0c1efe-92d2-4bcf-836f-d39689c0ddc6",
   "metadata": {},
   "outputs": [
    {
     "data": {
      "text/html": [
       "<strong>$`5`</strong> = <style>\n",
       ".dl-inline {width: auto; margin:0; padding: 0}\n",
       ".dl-inline>dt, .dl-inline>dd {float: none; width: auto; display: inline-block}\n",
       ".dl-inline>dt::after {content: \":\\0020\"; padding-right: .5ex}\n",
       ".dl-inline>dt:not(:first-of-type) {padding-left: .5ex}\n",
       "</style><dl class=dl-inline><dt>Balance</dt><dd>36255.9098360656</dd><dt>QualMiles</dt><dd>2.51117734724292</dd><dt>BonusMiles</dt><dd>2264.78763040238</dd><dt>BonusTrans</dt><dd>2.97317436661699</dd><dt>FlightMiles</dt><dd>119.321907600596</dd><dt>FlightTrans</dt><dd>0.438897168405365</dd><dt>DaysSinceEnroll</dt><dd>3060.08122205663</dd></dl>\n"
      ],
      "text/latex": [
       "\\textbf{\\$`5`} = \\begin{description*}\n",
       "\\item[Balance] 36255.9098360656\n",
       "\\item[QualMiles] 2.51117734724292\n",
       "\\item[BonusMiles] 2264.78763040238\n",
       "\\item[BonusTrans] 2.97317436661699\n",
       "\\item[FlightMiles] 119.321907600596\n",
       "\\item[FlightTrans] 0.438897168405365\n",
       "\\item[DaysSinceEnroll] 3060.08122205663\n",
       "\\end{description*}\n"
      ],
      "text/markdown": [
       "**$`5`** = Balance\n",
       ":   36255.9098360656QualMiles\n",
       ":   2.51117734724292BonusMiles\n",
       ":   2264.78763040238BonusTrans\n",
       ":   2.97317436661699FlightMiles\n",
       ":   119.321907600596FlightTrans\n",
       ":   0.438897168405365DaysSinceEnroll\n",
       ":   3060.08122205663\n",
       "\n"
      ],
      "text/plain": [
       "$`5`\n",
       "        Balance       QualMiles      BonusMiles      BonusTrans     FlightMiles \n",
       "   3.625591e+04    2.511177e+00    2.264788e+03    2.973174e+00    1.193219e+02 \n",
       "    FlightTrans DaysSinceEnroll \n",
       "   4.388972e-01    3.060081e+03 \n"
      ]
     },
     "metadata": {},
     "output_type": "display_data"
    }
   ],
   "source": [
    "lyst[5]"
   ]
  },
  {
   "cell_type": "markdown",
   "id": "11d48ec8-8113-4d71-98f9-677be031bd5f",
   "metadata": {},
   "source": [
    "The data we have inspected is perfectly acceptable, however, it is a bit rough on the eyes. We can run k-means clustering on our data and produce more reader-friendly output."
   ]
  },
  {
   "cell_type": "code",
   "execution_count": 40,
   "id": "c14aa018-fa35-47a8-abdd-d6a1f8432fc8",
   "metadata": {},
   "outputs": [
    {
     "data": {
      "text/plain": [
       "\n",
       "   1    2    3    4    5 \n",
       "  22  106  440 2336 1095 "
      ]
     },
     "metadata": {},
     "output_type": "display_data"
    }
   ],
   "source": [
    "set.seed(88)\n",
    "\n",
    "kmeansClust = kmeans(df, centers=5, iter.max=1000)\n",
    "\n",
    "# clusters 4 & 5 seem interesting, given both are the only ones with over 1000 observations\n",
    "table(kmeansClust$cluster)"
   ]
  },
  {
   "cell_type": "markdown",
   "id": "f50c35cf-983b-4d0f-aaaa-d3f82ca42d8b",
   "metadata": {},
   "source": [
    "Note that the cluster and observation numbers above are different from hierarchical clustering, as the assignment of cluster numbers is somewhat arbitrary."
   ]
  },
  {
   "cell_type": "markdown",
   "id": "63985a87-6949-4829-b6b3-e3db06548857",
   "metadata": {},
   "source": [
    "Below, we have data that are based on the same input as above, but were calculated using the kmeans algorithm. Because of the numbering issue mentioned above, our generalizations about each group will change. For example, cluster 2 was initially our cluster of \"road warriors.\" It is now cluster 1."
   ]
  },
  {
   "cell_type": "code",
   "execution_count": 41,
   "id": "3eef6534-dab6-47b3-af14-4c0020d82a1a",
   "metadata": {},
   "outputs": [
    {
     "data": {
      "text/html": [
       "<table class=\"dataframe\">\n",
       "<caption>A matrix: 5 × 7 of type dbl</caption>\n",
       "<thead>\n",
       "\t<tr><th></th><th scope=col>Balance</th><th scope=col>QualMiles</th><th scope=col>BonusMiles</th><th scope=col>BonusTrans</th><th scope=col>FlightMiles</th><th scope=col>FlightTrans</th><th scope=col>DaysSinceEnroll</th></tr>\n",
       "</thead>\n",
       "<tbody>\n",
       "\t<tr><th scope=row>1</th><td>884040.64</td><td>605.90909</td><td>56643.136</td><td>21.636364</td><td>1945.1364</td><td>6.7727273</td><td>6247.773</td></tr>\n",
       "\t<tr><th scope=row>2</th><td>389711.50</td><td>390.01887</td><td>51653.019</td><td>19.830189</td><td>1409.0472</td><td>4.4622642</td><td>5882.321</td></tr>\n",
       "\t<tr><th scope=row>3</th><td>186467.78</td><td>251.00000</td><td>35467.236</td><td>17.722727</td><td>1002.7545</td><td>2.7227273</td><td>4972.057</td></tr>\n",
       "\t<tr><th scope=row>4</th><td> 23991.14</td><td> 95.81507</td><td> 7809.135</td><td> 8.371147</td><td> 239.5497</td><td>0.7470034</td><td>3716.071</td></tr>\n",
       "\t<tr><th scope=row>5</th><td> 87200.24</td><td>171.12146</td><td>25564.519</td><td>15.036530</td><td> 590.6950</td><td>1.7607306</td><td>4420.725</td></tr>\n",
       "</tbody>\n",
       "</table>\n"
      ],
      "text/latex": [
       "A matrix: 5 × 7 of type dbl\n",
       "\\begin{tabular}{r|lllllll}\n",
       "  & Balance & QualMiles & BonusMiles & BonusTrans & FlightMiles & FlightTrans & DaysSinceEnroll\\\\\n",
       "\\hline\n",
       "\t1 & 884040.64 & 605.90909 & 56643.136 & 21.636364 & 1945.1364 & 6.7727273 & 6247.773\\\\\n",
       "\t2 & 389711.50 & 390.01887 & 51653.019 & 19.830189 & 1409.0472 & 4.4622642 & 5882.321\\\\\n",
       "\t3 & 186467.78 & 251.00000 & 35467.236 & 17.722727 & 1002.7545 & 2.7227273 & 4972.057\\\\\n",
       "\t4 &  23991.14 &  95.81507 &  7809.135 &  8.371147 &  239.5497 & 0.7470034 & 3716.071\\\\\n",
       "\t5 &  87200.24 & 171.12146 & 25564.519 & 15.036530 &  590.6950 & 1.7607306 & 4420.725\\\\\n",
       "\\end{tabular}\n"
      ],
      "text/markdown": [
       "\n",
       "A matrix: 5 × 7 of type dbl\n",
       "\n",
       "| <!--/--> | Balance | QualMiles | BonusMiles | BonusTrans | FlightMiles | FlightTrans | DaysSinceEnroll |\n",
       "|---|---|---|---|---|---|---|---|\n",
       "| 1 | 884040.64 | 605.90909 | 56643.136 | 21.636364 | 1945.1364 | 6.7727273 | 6247.773 |\n",
       "| 2 | 389711.50 | 390.01887 | 51653.019 | 19.830189 | 1409.0472 | 4.4622642 | 5882.321 |\n",
       "| 3 | 186467.78 | 251.00000 | 35467.236 | 17.722727 | 1002.7545 | 2.7227273 | 4972.057 |\n",
       "| 4 |  23991.14 |  95.81507 |  7809.135 |  8.371147 |  239.5497 | 0.7470034 | 3716.071 |\n",
       "| 5 |  87200.24 | 171.12146 | 25564.519 | 15.036530 |  590.6950 | 1.7607306 | 4420.725 |\n",
       "\n"
      ],
      "text/plain": [
       "  Balance   QualMiles BonusMiles BonusTrans FlightMiles FlightTrans\n",
       "1 884040.64 605.90909 56643.136  21.636364  1945.1364   6.7727273  \n",
       "2 389711.50 390.01887 51653.019  19.830189  1409.0472   4.4622642  \n",
       "3 186467.78 251.00000 35467.236  17.722727  1002.7545   2.7227273  \n",
       "4  23991.14  95.81507  7809.135   8.371147   239.5497   0.7470034  \n",
       "5  87200.24 171.12146 25564.519  15.036530   590.6950   1.7607306  \n",
       "  DaysSinceEnroll\n",
       "1 6247.773       \n",
       "2 5882.321       \n",
       "3 4972.057       \n",
       "4 3716.071       \n",
       "5 4420.725       "
      ]
     },
     "metadata": {},
     "output_type": "display_data"
    }
   ],
   "source": [
    "# review clusters\n",
    "kmeansClust$centers"
   ]
  },
  {
   "cell_type": "code",
   "execution_count": null,
   "id": "164ae909-56f3-4108-ba82-1f07eb1f1b56",
   "metadata": {},
   "outputs": [],
   "source": []
  }
 ],
 "metadata": {
  "kernelspec": {
   "display_name": "R",
   "language": "R",
   "name": "ir"
  },
  "language_info": {
   "codemirror_mode": "r",
   "file_extension": ".r",
   "mimetype": "text/x-r-source",
   "name": "R",
   "pygments_lexer": "r",
   "version": "4.3.3"
  }
 },
 "nbformat": 4,
 "nbformat_minor": 5
}
