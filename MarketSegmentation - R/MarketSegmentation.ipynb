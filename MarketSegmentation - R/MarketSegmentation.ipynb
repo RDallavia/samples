{
 "cells": [
  {
   "cell_type": "markdown",
   "metadata": {},
   "source": [
    "## Market Segementation ##"
   ]
  },
  {
   "cell_type": "markdown",
   "metadata": {},
   "source": [
    "### Key Takeaways: ###\n",
    "\n",
    "- **Hierarchical and K-means clustering are forms of unsupervised learning that can be used in the presence or absence of a response variable to find meaningful patterns among predictors.**\n",
    "\n",
    "\n",
    "- **Clustering algorithms can inform corporate marketing efforts by segmenting the customer base into groups likely to be receptive to different offers and promotions.**\n",
    "\n",
    "\n",
    "- **Numerical cluster labels are not inherently meaningful and are not presented in any particular order.**"
   ]
  },
  {
   "cell_type": "markdown",
   "metadata": {},
   "source": [
    "### Background Information ###"
   ]
  },
  {
   "cell_type": "markdown",
   "metadata": {},
   "source": [
    "Market segmentation divides a broad target market into smaller, similar groups. Companies then design a specific marketing strategy for each segment. Clustering algorithms are commonly used to partition target markets, as they look for sub-groups within a data set that share distinctive characteristics.\n",
    "\n",
    "(source: MITx)"
   ]
  },
  {
   "cell_type": "markdown",
   "metadata": {},
   "source": [
    "### The Problem ###"
   ]
  },
  {
   "cell_type": "markdown",
   "metadata": {},
   "source": [
    "An airline has a frequent flyer program. Management wishes to learn more about this group, so that it can target different sub-segments with assorted, mileage-based offers. Use clustering to help them accomplish their objective.\n",
    "\n",
    "(source: MITx)"
   ]
  },
  {
   "cell_type": "markdown",
   "metadata": {},
   "source": [
    "### The Data"
   ]
  },
  {
   "cell_type": "markdown",
   "metadata": {},
   "source": [
    "The data come from the textbook \"Data Mining for Business Intelligence,\" by Galit Shmueli, Nitin R. Patel, and Peter C. Bruce. There are seven features in the dataset:\n",
    "\n",
    "**Balance:** number of miles eligible for award travel\n",
    "\n",
    "**QualMiles:** number of miles qualifying for TopFlight status\n",
    "\n",
    "**BonusMiles:** number of miles earned from non-flight bonus \n",
    "\n",
    "**Transactions:** in the past 12 months\n",
    "\n",
    "**BonusTrans:** number of non-flight bonus transactions in the past 12 months\n",
    "\n",
    "**FlightMiles:** number of flight miles in the past 12 months\n",
    "\n",
    "**FlightTrans:** number of flight transactions in the past 12 months\n",
    "\n",
    "**DaysSinceEnroll:** number of days since enrolled in the frequent flyer program\n",
    "\n",
    "(source: MITx)"
   ]
  },
  {
   "cell_type": "code",
   "execution_count": 20,
   "metadata": {},
   "outputs": [
    {
     "name": "stderr",
     "output_type": "stream",
     "text": [
      "Updating HTML index of packages in '.Library'\n",
      "Making 'packages.html' ... done\n"
     ]
    }
   ],
   "source": [
    "install.packages(\"caret\")\n",
    "suppressPackageStartupMessages(library(caret))"
   ]
  },
  {
   "cell_type": "code",
   "execution_count": 1,
   "metadata": {},
   "outputs": [],
   "source": [
    "airlines = read.csv(\"AirlinesCluster.csv\")"
   ]
  },
  {
   "cell_type": "markdown",
   "metadata": {},
   "source": [
    "### Data Structure ###"
   ]
  },
  {
   "cell_type": "code",
   "execution_count": 3,
   "metadata": {},
   "outputs": [
    {
     "name": "stdout",
     "output_type": "stream",
     "text": [
      "'data.frame':\t3999 obs. of  7 variables:\n",
      " $ Balance        : int  28143 19244 41354 14776 97752 16420 84914 20856 443003 104860 ...\n",
      " $ QualMiles      : int  0 0 0 0 0 0 0 0 0 0 ...\n",
      " $ BonusMiles     : int  174 215 4123 500 43300 0 27482 5250 1753 28426 ...\n",
      " $ BonusTrans     : int  1 2 4 1 26 0 25 4 43 28 ...\n",
      " $ FlightMiles    : int  0 0 0 0 2077 0 0 250 3850 1150 ...\n",
      " $ FlightTrans    : int  0 0 0 0 4 0 0 1 12 3 ...\n",
      " $ DaysSinceEnroll: int  7000 6968 7034 6952 6935 6942 6994 6938 6948 6931 ...\n"
     ]
    }
   ],
   "source": [
    "str(airlines)"
   ]
  },
  {
   "cell_type": "markdown",
   "metadata": {},
   "source": [
    "### Data Summary ###"
   ]
  },
  {
   "cell_type": "code",
   "execution_count": 4,
   "metadata": {},
   "outputs": [
    {
     "data": {
      "text/plain": [
       "    Balance          QualMiles         BonusMiles       BonusTrans  \n",
       " Min.   :      0   Min.   :    0.0   Min.   :     0   Min.   : 0.0  \n",
       " 1st Qu.:  18528   1st Qu.:    0.0   1st Qu.:  1250   1st Qu.: 3.0  \n",
       " Median :  43097   Median :    0.0   Median :  7171   Median :12.0  \n",
       " Mean   :  73601   Mean   :  144.1   Mean   : 17145   Mean   :11.6  \n",
       " 3rd Qu.:  92404   3rd Qu.:    0.0   3rd Qu.: 23800   3rd Qu.:17.0  \n",
       " Max.   :1704838   Max.   :11148.0   Max.   :263685   Max.   :86.0  \n",
       "  FlightMiles       FlightTrans     DaysSinceEnroll\n",
       " Min.   :    0.0   Min.   : 0.000   Min.   :   2   \n",
       " 1st Qu.:    0.0   1st Qu.: 0.000   1st Qu.:2330   \n",
       " Median :    0.0   Median : 0.000   Median :4096   \n",
       " Mean   :  460.1   Mean   : 1.374   Mean   :4119   \n",
       " 3rd Qu.:  311.0   3rd Qu.: 1.000   3rd Qu.:5790   \n",
       " Max.   :30817.0   Max.   :53.000   Max.   :8296   "
      ]
     },
     "metadata": {},
     "output_type": "display_data"
    }
   ],
   "source": [
    "summary(airlines)"
   ]
  },
  {
   "cell_type": "markdown",
   "metadata": {},
   "source": [
    "### Exploratory Data Analysis ###"
   ]
  },
  {
   "cell_type": "markdown",
   "metadata": {},
   "source": [
    "The data summary suggests our variables take on a wide array of values. We believe it would be fruitful to examine this range a bit more closely."
   ]
  },
  {
   "cell_type": "markdown",
   "metadata": {},
   "source": [
    "The Balance feature contains the largest value in our data set."
   ]
  },
  {
   "cell_type": "code",
   "execution_count": 21,
   "metadata": {},
   "outputs": [
    {
     "data": {
      "text/html": [
       "<dl class=dl-horizontal>\n",
       "\t<dt>Balance</dt>\n",
       "\t\t<dd>1704838</dd>\n",
       "\t<dt>BonusMiles</dt>\n",
       "\t\t<dd>263685</dd>\n",
       "\t<dt>FlightMiles</dt>\n",
       "\t\t<dd>30817</dd>\n",
       "\t<dt>QualMiles</dt>\n",
       "\t\t<dd>11148</dd>\n",
       "\t<dt>DaysSinceEnroll</dt>\n",
       "\t\t<dd>8296</dd>\n",
       "\t<dt>BonusTrans</dt>\n",
       "\t\t<dd>86</dd>\n",
       "\t<dt>FlightTrans</dt>\n",
       "\t\t<dd>53</dd>\n",
       "</dl>\n"
      ],
      "text/latex": [
       "\\begin{description*}\n",
       "\\item[Balance] 1704838\n",
       "\\item[BonusMiles] 263685\n",
       "\\item[FlightMiles] 30817\n",
       "\\item[QualMiles] 11148\n",
       "\\item[DaysSinceEnroll] 8296\n",
       "\\item[BonusTrans] 86\n",
       "\\item[FlightTrans] 53\n",
       "\\end{description*}\n"
      ],
      "text/markdown": [
       "Balance\n",
       ":   1704838BonusMiles\n",
       ":   263685FlightMiles\n",
       ":   30817QualMiles\n",
       ":   11148DaysSinceEnroll\n",
       ":   8296BonusTrans\n",
       ":   86FlightTrans\n",
       ":   53\n",
       "\n"
      ],
      "text/plain": [
       "        Balance      BonusMiles     FlightMiles       QualMiles DaysSinceEnroll \n",
       "        1704838          263685           30817           11148            8296 \n",
       "     BonusTrans     FlightTrans \n",
       "             86              53 "
      ]
     },
     "metadata": {},
     "output_type": "display_data"
    }
   ],
   "source": [
    "sort(sapply(airlines,max), decreasing=TRUE, method='radix')"
   ]
  },
  {
   "cell_type": "markdown",
   "metadata": {},
   "source": [
    "The FlightTrans feature has the smallest value in our data set."
   ]
  },
  {
   "cell_type": "code",
   "execution_count": 22,
   "metadata": {},
   "outputs": [
    {
     "data": {
      "text/html": [
       "<dl class=dl-horizontal>\n",
       "\t<dt>FlightTrans</dt>\n",
       "\t\t<dd>1.37359339834959</dd>\n",
       "\t<dt>BonusTrans</dt>\n",
       "\t\t<dd>11.6019004751188</dd>\n",
       "\t<dt>QualMiles</dt>\n",
       "\t\t<dd>144.114528632158</dd>\n",
       "\t<dt>FlightMiles</dt>\n",
       "\t\t<dd>460.055763940985</dd>\n",
       "\t<dt>DaysSinceEnroll</dt>\n",
       "\t\t<dd>4118.55938984746</dd>\n",
       "\t<dt>BonusMiles</dt>\n",
       "\t\t<dd>17144.8462115529</dd>\n",
       "\t<dt>Balance</dt>\n",
       "\t\t<dd>73601.3275818955</dd>\n",
       "</dl>\n"
      ],
      "text/latex": [
       "\\begin{description*}\n",
       "\\item[FlightTrans] 1.37359339834959\n",
       "\\item[BonusTrans] 11.6019004751188\n",
       "\\item[QualMiles] 144.114528632158\n",
       "\\item[FlightMiles] 460.055763940985\n",
       "\\item[DaysSinceEnroll] 4118.55938984746\n",
       "\\item[BonusMiles] 17144.8462115529\n",
       "\\item[Balance] 73601.3275818955\n",
       "\\end{description*}\n"
      ],
      "text/markdown": [
       "FlightTrans\n",
       ":   1.37359339834959BonusTrans\n",
       ":   11.6019004751188QualMiles\n",
       ":   144.114528632158FlightMiles\n",
       ":   460.055763940985DaysSinceEnroll\n",
       ":   4118.55938984746BonusMiles\n",
       ":   17144.8462115529Balance\n",
       ":   73601.3275818955\n",
       "\n"
      ],
      "text/plain": [
       "    FlightTrans      BonusTrans       QualMiles     FlightMiles DaysSinceEnroll \n",
       "       1.373593       11.601900      144.114529      460.055764     4118.559390 \n",
       "     BonusMiles         Balance \n",
       "   17144.846212    73601.327582 "
      ]
     },
     "metadata": {},
     "output_type": "display_data"
    }
   ],
   "source": [
    "sort(sapply(lapply(airlines, mean), min), decreasing=FALSE, method='radix')"
   ]
  },
  {
   "cell_type": "markdown",
   "metadata": {},
   "source": [
    "There is a vast discrepancy in scale among our variables. This is problematic in clustering where averages are relied upon to place observations within clusters. Below, we normalize the data to prevent larger values from dominating our calculations."
   ]
  },
  {
   "cell_type": "code",
   "execution_count": 4,
   "metadata": {},
   "outputs": [],
   "source": [
    "# preprocessing\n",
    "preproc = preProcess(airlines)\n",
    "# normalization step\n",
    "airlinesNorm = predict(preproc, airlines)"
   ]
  },
  {
   "cell_type": "code",
   "execution_count": 5,
   "metadata": {},
   "outputs": [
    {
     "data": {
      "text/plain": [
       "    Balance          QualMiles         BonusMiles        BonusTrans      \n",
       " Min.   :-0.7303   Min.   :-0.1863   Min.   :-0.7099   Min.   :-1.20805  \n",
       " 1st Qu.:-0.5465   1st Qu.:-0.1863   1st Qu.:-0.6581   1st Qu.:-0.89568  \n",
       " Median :-0.3027   Median :-0.1863   Median :-0.4130   Median : 0.04145  \n",
       " Mean   : 0.0000   Mean   : 0.0000   Mean   : 0.0000   Mean   : 0.00000  \n",
       " 3rd Qu.: 0.1866   3rd Qu.:-0.1863   3rd Qu.: 0.2756   3rd Qu.: 0.56208  \n",
       " Max.   :16.1868   Max.   :14.2231   Max.   :10.2083   Max.   : 7.74673  \n",
       "  FlightMiles       FlightTrans       DaysSinceEnroll   \n",
       " Min.   :-0.3286   Min.   :-0.36212   Min.   :-1.99336  \n",
       " 1st Qu.:-0.3286   1st Qu.:-0.36212   1st Qu.:-0.86607  \n",
       " Median :-0.3286   Median :-0.36212   Median :-0.01092  \n",
       " Mean   : 0.0000   Mean   : 0.00000   Mean   : 0.00000  \n",
       " 3rd Qu.:-0.1065   3rd Qu.:-0.09849   3rd Qu.: 0.80960  \n",
       " Max.   :21.6803   Max.   :13.61035   Max.   : 2.02284  "
      ]
     },
     "metadata": {},
     "output_type": "display_data"
    }
   ],
   "source": [
    "# verify normalization has occurred (mean = 0, sd = 1)\n",
    "summary(airlinesNorm)"
   ]
  },
  {
   "cell_type": "code",
   "execution_count": 6,
   "metadata": {},
   "outputs": [
    {
     "data": {
      "text/html": [
       "<dl>\n",
       "\t<dt>$Balance</dt>\n",
       "\t\t<dd>1</dd>\n",
       "\t<dt>$QualMiles</dt>\n",
       "\t\t<dd>1</dd>\n",
       "\t<dt>$BonusMiles</dt>\n",
       "\t\t<dd>1</dd>\n",
       "\t<dt>$BonusTrans</dt>\n",
       "\t\t<dd>1</dd>\n",
       "\t<dt>$FlightMiles</dt>\n",
       "\t\t<dd>1</dd>\n",
       "\t<dt>$FlightTrans</dt>\n",
       "\t\t<dd>1</dd>\n",
       "\t<dt>$DaysSinceEnroll</dt>\n",
       "\t\t<dd>1</dd>\n",
       "</dl>\n"
      ],
      "text/latex": [
       "\\begin{description}\n",
       "\\item[\\$Balance] 1\n",
       "\\item[\\$QualMiles] 1\n",
       "\\item[\\$BonusMiles] 1\n",
       "\\item[\\$BonusTrans] 1\n",
       "\\item[\\$FlightMiles] 1\n",
       "\\item[\\$FlightTrans] 1\n",
       "\\item[\\$DaysSinceEnroll] 1\n",
       "\\end{description}\n"
      ],
      "text/markdown": [
       "$Balance\n",
       ":   1\n",
       "$QualMiles\n",
       ":   1\n",
       "$BonusMiles\n",
       ":   1\n",
       "$BonusTrans\n",
       ":   1\n",
       "$FlightMiles\n",
       ":   1\n",
       "$FlightTrans\n",
       ":   1\n",
       "$DaysSinceEnroll\n",
       ":   1\n",
       "\n",
       "\n"
      ],
      "text/plain": [
       "$Balance\n",
       "[1] 1\n",
       "\n",
       "$QualMiles\n",
       "[1] 1\n",
       "\n",
       "$BonusMiles\n",
       "[1] 1\n",
       "\n",
       "$BonusTrans\n",
       "[1] 1\n",
       "\n",
       "$FlightMiles\n",
       "[1] 1\n",
       "\n",
       "$FlightTrans\n",
       "[1] 1\n",
       "\n",
       "$DaysSinceEnroll\n",
       "[1] 1\n"
      ]
     },
     "metadata": {},
     "output_type": "display_data"
    }
   ],
   "source": [
    "# retrieve standard deviations for normalized features\n",
    "lapply(airlinesNorm, sd)"
   ]
  },
  {
   "cell_type": "markdown",
   "metadata": {},
   "source": [
    "Each feature above has a mean of zero and a unit standard deviation. We can, therefore, conclude data normalization was successful."
   ]
  },
  {
   "cell_type": "markdown",
   "metadata": {},
   "source": [
    "Interestingly, prior to normalization, the variable with the maximum value was Balance. Post normalization, FlightMiles is in the top spot."
   ]
  },
  {
   "cell_type": "code",
   "execution_count": 78,
   "metadata": {},
   "outputs": [
    {
     "data": {
      "text/html": [
       "<dl class=dl-horizontal>\n",
       "\t<dt>FlightMiles</dt>\n",
       "\t\t<dd>21.6802923859018</dd>\n",
       "\t<dt>Balance</dt>\n",
       "\t\t<dd>16.1868113010578</dd>\n",
       "\t<dt>QualMiles</dt>\n",
       "\t\t<dd>14.2230842504047</dd>\n",
       "\t<dt>FlightTrans</dt>\n",
       "\t\t<dd>13.610350650989</dd>\n",
       "\t<dt>BonusMiles</dt>\n",
       "\t\t<dd>10.2082929165594</dd>\n",
       "\t<dt>BonusTrans</dt>\n",
       "\t\t<dd>7.74672728007656</dd>\n",
       "\t<dt>DaysSinceEnroll</dt>\n",
       "\t\t<dd>2.02284186757624</dd>\n",
       "</dl>\n"
      ],
      "text/latex": [
       "\\begin{description*}\n",
       "\\item[FlightMiles] 21.6802923859018\n",
       "\\item[Balance] 16.1868113010578\n",
       "\\item[QualMiles] 14.2230842504047\n",
       "\\item[FlightTrans] 13.610350650989\n",
       "\\item[BonusMiles] 10.2082929165594\n",
       "\\item[BonusTrans] 7.74672728007656\n",
       "\\item[DaysSinceEnroll] 2.02284186757624\n",
       "\\end{description*}\n"
      ],
      "text/markdown": [
       "FlightMiles\n",
       ":   21.6802923859018Balance\n",
       ":   16.1868113010578QualMiles\n",
       ":   14.2230842504047FlightTrans\n",
       ":   13.610350650989BonusMiles\n",
       ":   10.2082929165594BonusTrans\n",
       ":   7.74672728007656DaysSinceEnroll\n",
       ":   2.02284186757624\n",
       "\n"
      ],
      "text/plain": [
       "    FlightMiles         Balance       QualMiles     FlightTrans      BonusMiles \n",
       "      21.680292       16.186811       14.223084       13.610351       10.208293 \n",
       "     BonusTrans DaysSinceEnroll \n",
       "       7.746727        2.022842 "
      ]
     },
     "metadata": {},
     "output_type": "display_data"
    }
   ],
   "source": [
    "sort(sapply(airlinesNorm,max), decreasing=TRUE, method='radix')"
   ]
  },
  {
   "cell_type": "markdown",
   "metadata": {},
   "source": [
    "Additionally, pre-normalization, the FlightTrans variable was the smallest non-zero value in our data set. It has been supplanted by DaysSinceEnroll."
   ]
  },
  {
   "cell_type": "code",
   "execution_count": 72,
   "metadata": {},
   "outputs": [
    {
     "data": {
      "text/html": [
       "<dl class=dl-horizontal>\n",
       "\t<dt>DaysSinceEnroll</dt>\n",
       "\t\t<dd>-1.99336135716923</dd>\n",
       "\t<dt>BonusTrans</dt>\n",
       "\t\t<dd>-1.20805181160949</dd>\n",
       "\t<dt>Balance</dt>\n",
       "\t\t<dd>-0.730348220598438</dd>\n",
       "\t<dt>BonusMiles</dt>\n",
       "\t\t<dd>-0.709903070341544</dd>\n",
       "\t<dt>FlightTrans</dt>\n",
       "\t\t<dd>-0.362122584817356</dd>\n",
       "\t<dt>FlightMiles</dt>\n",
       "\t\t<dd>-0.328562170108424</dd>\n",
       "\t<dt>QualMiles</dt>\n",
       "\t\t<dd>-0.186275392249039</dd>\n",
       "</dl>\n"
      ],
      "text/latex": [
       "\\begin{description*}\n",
       "\\item[DaysSinceEnroll] -1.99336135716923\n",
       "\\item[BonusTrans] -1.20805181160949\n",
       "\\item[Balance] -0.730348220598438\n",
       "\\item[BonusMiles] -0.709903070341544\n",
       "\\item[FlightTrans] -0.362122584817356\n",
       "\\item[FlightMiles] -0.328562170108424\n",
       "\\item[QualMiles] -0.186275392249039\n",
       "\\end{description*}\n"
      ],
      "text/markdown": [
       "DaysSinceEnroll\n",
       ":   -1.99336135716923BonusTrans\n",
       ":   -1.20805181160949Balance\n",
       ":   -0.730348220598438BonusMiles\n",
       ":   -0.709903070341544FlightTrans\n",
       ":   -0.362122584817356FlightMiles\n",
       ":   -0.328562170108424QualMiles\n",
       ":   -0.186275392249039\n",
       "\n"
      ],
      "text/plain": [
       "DaysSinceEnroll      BonusTrans         Balance      BonusMiles     FlightTrans \n",
       "     -1.9933614      -1.2080518      -0.7303482      -0.7099031      -0.3621226 \n",
       "    FlightMiles       QualMiles \n",
       "     -0.3285622      -0.1862754 "
      ]
     },
     "metadata": {},
     "output_type": "display_data"
    }
   ],
   "source": [
    "sort(sapply(airlinesNorm,min), decreasing=FALSE, method='radix')"
   ]
  },
  {
   "cell_type": "markdown",
   "metadata": {},
   "source": [
    "### The Model: Hierarchical Clustering ###"
   ]
  },
  {
   "cell_type": "markdown",
   "metadata": {},
   "source": [
    "We begin by computing Euclidean distances among the data points."
   ]
  },
  {
   "cell_type": "code",
   "execution_count": 9,
   "metadata": {},
   "outputs": [],
   "source": [
    "distances = dist(airlinesNorm, method=\"euclidean\")"
   ]
  },
  {
   "cell_type": "markdown",
   "metadata": {},
   "source": [
    "Next, we use the distances calculated above to cluster our data points."
   ]
  },
  {
   "cell_type": "code",
   "execution_count": 10,
   "metadata": {},
   "outputs": [],
   "source": [
    "airClusters = hclust(distances, method=\"ward.D\")"
   ]
  },
  {
   "cell_type": "markdown",
   "metadata": {},
   "source": [
    "Finally, we construct the dendrogram, which will guide our analysis going forward."
   ]
  },
  {
   "cell_type": "code",
   "execution_count": 11,
   "metadata": {},
   "outputs": [
    {
     "data": {
      "image/png": "[encoded data removed]",
      "text/plain": [
       "Plot with title “Cluster Dendrogram”"
      ]
     },
     "metadata": {},
     "output_type": "display_data"
    }
   ],
   "source": [
    "plot(airClusters)"
   ]
  },
  {
   "cell_type": "markdown",
   "metadata": {},
   "source": [
    "Five appears to be a reasonable point at which to cut the tree, so we will have five clusters (i.e., customer segments) to explore."
   ]
  },
  {
   "cell_type": "code",
   "execution_count": 12,
   "metadata": {},
   "outputs": [],
   "source": [
    "clusterGrps = cutree(airClusters, k=5)"
   ]
  },
  {
   "cell_type": "markdown",
   "metadata": {},
   "source": [
    "Below, we split our dataset based on the clusters into which the observations have been collected and display the number of observations each cluster contains. We will be on the lookout for the attributes of clusters 5 and 4, which contain the most customers. Marketing will undoubtedly be interested in targeting these groups."
   ]
  },
  {
   "cell_type": "code",
   "execution_count": 23,
   "metadata": {},
   "outputs": [
    {
     "data": {
      "text/html": [
       "<dl class=dl-horizontal>\n",
       "\t<dt>5</dt>\n",
       "\t\t<dd>1342</dd>\n",
       "\t<dt>4</dt>\n",
       "\t\t<dd>868</dd>\n",
       "\t<dt>1</dt>\n",
       "\t\t<dd>776</dd>\n",
       "\t<dt>2</dt>\n",
       "\t\t<dd>519</dd>\n",
       "\t<dt>3</dt>\n",
       "\t\t<dd>494</dd>\n",
       "</dl>\n"
      ],
      "text/latex": [
       "\\begin{description*}\n",
       "\\item[5] 1342\n",
       "\\item[4] 868\n",
       "\\item[1] 776\n",
       "\\item[2] 519\n",
       "\\item[3] 494\n",
       "\\end{description*}\n"
      ],
      "text/markdown": [
       "5\n",
       ":   13424\n",
       ":   8681\n",
       ":   7762\n",
       ":   5193\n",
       ":   494\n",
       "\n"
      ],
      "text/plain": [
       "   5    4    1    2    3 \n",
       "1342  868  776  519  494 "
      ]
     },
     "metadata": {},
     "output_type": "display_data"
    }
   ],
   "source": [
    "spl = split(airlinesNorm, clusterGrps)\n",
    "sort(sapply(spl, nrow), decreasing=TRUE, method='radix')"
   ]
  },
  {
   "cell_type": "markdown",
   "metadata": {},
   "source": [
    "We'll now dig into the attributes of each cluster by examining their centroids. We'll use the original data, as this will facilitate interpretability."
   ]
  },
  {
   "cell_type": "code",
   "execution_count": 14,
   "metadata": {},
   "outputs": [
    {
     "data": {
      "text/html": [
       "<table>\n",
       "<caption>A matrix: 7 × 5 of type dbl</caption>\n",
       "<thead>\n",
       "\t<tr><th></th><th scope=col>1</th><th scope=col>2</th><th scope=col>3</th><th scope=col>4</th><th scope=col>5</th></tr>\n",
       "</thead>\n",
       "<tbody>\n",
       "\t<tr><th scope=row>Balance</th><td>5.786690e+04</td><td>1.106693e+05</td><td>1.981916e+05</td><td>52335.913594</td><td>3.625591e+04</td></tr>\n",
       "\t<tr><th scope=row>QualMiles</th><td>6.443299e-01</td><td>1.065983e+03</td><td>3.034615e+01</td><td>    4.847926</td><td>2.511177e+00</td></tr>\n",
       "\t<tr><th scope=row>BonusMiles</th><td>1.036012e+04</td><td>2.288176e+04</td><td>5.579586e+04</td><td>20788.766129</td><td>2.264788e+03</td></tr>\n",
       "\t<tr><th scope=row>BonusTrans</th><td>1.082345e+01</td><td>1.822929e+01</td><td>1.966397e+01</td><td>   17.087558</td><td>2.973174e+00</td></tr>\n",
       "\t<tr><th scope=row>FlightMiles</th><td>8.318428e+01</td><td>2.613418e+03</td><td>3.276761e+02</td><td>  111.573733</td><td>1.193219e+02</td></tr>\n",
       "\t<tr><th scope=row>FlightTrans</th><td>3.028351e-01</td><td>7.402697e+00</td><td>1.068826e+00</td><td>    0.344470</td><td>4.388972e-01</td></tr>\n",
       "\t<tr><th scope=row>DaysSinceEnroll</th><td>6.235365e+03</td><td>4.402414e+03</td><td>5.615709e+03</td><td> 2840.822581</td><td>3.060081e+03</td></tr>\n",
       "</tbody>\n",
       "</table>\n"
      ],
      "text/latex": [
       "A matrix: 7 × 5 of type dbl\n",
       "\\begin{tabular}{r|lllll}\n",
       "  & 1 & 2 & 3 & 4 & 5\\\\\n",
       "\\hline\n",
       "\tBalance & 5.786690e+04 & 1.106693e+05 & 1.981916e+05 & 52335.913594 & 3.625591e+04\\\\\n",
       "\tQualMiles & 6.443299e-01 & 1.065983e+03 & 3.034615e+01 &     4.847926 & 2.511177e+00\\\\\n",
       "\tBonusMiles & 1.036012e+04 & 2.288176e+04 & 5.579586e+04 & 20788.766129 & 2.264788e+03\\\\\n",
       "\tBonusTrans & 1.082345e+01 & 1.822929e+01 & 1.966397e+01 &    17.087558 & 2.973174e+00\\\\\n",
       "\tFlightMiles & 8.318428e+01 & 2.613418e+03 & 3.276761e+02 &   111.573733 & 1.193219e+02\\\\\n",
       "\tFlightTrans & 3.028351e-01 & 7.402697e+00 & 1.068826e+00 &     0.344470 & 4.388972e-01\\\\\n",
       "\tDaysSinceEnroll & 6.235365e+03 & 4.402414e+03 & 5.615709e+03 &  2840.822581 & 3.060081e+03\\\\\n",
       "\\end{tabular}\n"
      ],
      "text/markdown": [
       "\n",
       "A matrix: 7 × 5 of type dbl\n",
       "\n",
       "| <!--/--> | 1 | 2 | 3 | 4 | 5 |\n",
       "|---|---|---|---|---|---|\n",
       "| Balance | 5.786690e+04 | 1.106693e+05 | 1.981916e+05 | 52335.913594 | 3.625591e+04 |\n",
       "| QualMiles | 6.443299e-01 | 1.065983e+03 | 3.034615e+01 |     4.847926 | 2.511177e+00 |\n",
       "| BonusMiles | 1.036012e+04 | 2.288176e+04 | 5.579586e+04 | 20788.766129 | 2.264788e+03 |\n",
       "| BonusTrans | 1.082345e+01 | 1.822929e+01 | 1.966397e+01 |    17.087558 | 2.973174e+00 |\n",
       "| FlightMiles | 8.318428e+01 | 2.613418e+03 | 3.276761e+02 |   111.573733 | 1.193219e+02 |\n",
       "| FlightTrans | 3.028351e-01 | 7.402697e+00 | 1.068826e+00 |     0.344470 | 4.388972e-01 |\n",
       "| DaysSinceEnroll | 6.235365e+03 | 4.402414e+03 | 5.615709e+03 |  2840.822581 | 3.060081e+03 |\n",
       "\n"
      ],
      "text/plain": [
       "                1            2            3            4           \n",
       "Balance         5.786690e+04 1.106693e+05 1.981916e+05 52335.913594\n",
       "QualMiles       6.443299e-01 1.065983e+03 3.034615e+01     4.847926\n",
       "BonusMiles      1.036012e+04 2.288176e+04 5.579586e+04 20788.766129\n",
       "BonusTrans      1.082345e+01 1.822929e+01 1.966397e+01    17.087558\n",
       "FlightMiles     8.318428e+01 2.613418e+03 3.276761e+02   111.573733\n",
       "FlightTrans     3.028351e-01 7.402697e+00 1.068826e+00     0.344470\n",
       "DaysSinceEnroll 6.235365e+03 4.402414e+03 5.615709e+03  2840.822581\n",
       "                5           \n",
       "Balance         3.625591e+04\n",
       "QualMiles       2.511177e+00\n",
       "BonusMiles      2.264788e+03\n",
       "BonusTrans      2.973174e+00\n",
       "FlightMiles     1.193219e+02\n",
       "FlightTrans     4.388972e-01\n",
       "DaysSinceEnroll 3.060081e+03"
      ]
     },
     "metadata": {},
     "output_type": "display_data"
    }
   ],
   "source": [
    "spl2 = split(airlines, clusterGrps)\n",
    "sapply(spl2, colMeans)"
   ]
  },
  {
   "cell_type": "markdown",
   "metadata": {},
   "source": [
    "Cluster 1 contains the highest value for **DaysSinceEnroll**, but customers in this cluster travel few miles, execute few transactions, and maintain reasonably high balances. A fair characterization of this cluster is that these customers are loyal, but fly infrequently."
   ]
  },
  {
   "cell_type": "markdown",
   "metadata": {},
   "source": [
    "Cluster 2 maintains the largest values in **QualMiles**, **FlightMiles**, and **FlightTrans**. These are the airline's road warriors. They accumulate large amounts of miles and frequently execute flight transactions."
   ]
  },
  {
   "cell_type": "markdown",
   "metadata": {},
   "source": [
    "Cluster 3 exhibits the highest balances in the following categories: **Balance**, **BonusTrans**, **BonusMiles**. One is tempted to label members of cluster 3 \"hoarders,\" however, this doesn't adequately explain their behavior. Rather, they have accumulated large numbers of frequent flyer miles without actually flying (e.g., credit card programs)."
   ]
  },
  {
   "cell_type": "markdown",
   "metadata": {},
   "source": [
    "Cluster 4 is unremarkable insofar as it fails to exhibit a maximum value for any variable. Rather, customers in this cluster have low balances, transactions, miles, and days since enrollment. Hence, we conclude that they are fairly new and in the process of accumulating frequent flyer miles."
   ]
  },
  {
   "cell_type": "markdown",
   "metadata": {},
   "source": [
    "Cluster 5 is similar to cluster 4. Customers in this cohort appear to be relatively new and, based on their transaction, balance, and mileage accounts, use the airline infrequently."
   ]
  },
  {
   "cell_type": "markdown",
   "metadata": {},
   "source": [
    "Given that clusters 4 and 5 are the most populous clusters, it looks like our marketing department will be targeting the most infrequent of frequent flyers with promotional material."
   ]
  },
  {
   "cell_type": "markdown",
   "metadata": {},
   "source": [
    "### The Model: K-Means Clustering ###"
   ]
  },
  {
   "cell_type": "markdown",
   "metadata": {},
   "source": [
    "We now run the k-means clustering algorithm on our normalized data.  As before, we will create 5 clusters. For this model, however, we must set a max iteration parameter and a random seed value, as shown below."
   ]
  },
  {
   "cell_type": "code",
   "execution_count": 16,
   "metadata": {},
   "outputs": [
    {
     "data": {
      "text/html": [
       "<ol class=list-inline>\n",
       "\t<li>'cluster'</li>\n",
       "\t<li>'centers'</li>\n",
       "\t<li>'totss'</li>\n",
       "\t<li>'withinss'</li>\n",
       "\t<li>'tot.withinss'</li>\n",
       "\t<li>'betweenss'</li>\n",
       "\t<li>'size'</li>\n",
       "\t<li>'iter'</li>\n",
       "\t<li>'ifault'</li>\n",
       "</ol>\n"
      ],
      "text/latex": [
       "\\begin{enumerate*}\n",
       "\\item 'cluster'\n",
       "\\item 'centers'\n",
       "\\item 'totss'\n",
       "\\item 'withinss'\n",
       "\\item 'tot.withinss'\n",
       "\\item 'betweenss'\n",
       "\\item 'size'\n",
       "\\item 'iter'\n",
       "\\item 'ifault'\n",
       "\\end{enumerate*}\n"
      ],
      "text/markdown": [
       "1. 'cluster'\n",
       "2. 'centers'\n",
       "3. 'totss'\n",
       "4. 'withinss'\n",
       "5. 'tot.withinss'\n",
       "6. 'betweenss'\n",
       "7. 'size'\n",
       "8. 'iter'\n",
       "9. 'ifault'\n",
       "\n",
       "\n"
      ],
      "text/plain": [
       "[1] \"cluster\"      \"centers\"      \"totss\"        \"withinss\"     \"tot.withinss\"\n",
       "[6] \"betweenss\"    \"size\"         \"iter\"         \"ifault\"      "
      ]
     },
     "metadata": {},
     "output_type": "display_data"
    }
   ],
   "source": [
    "k = 5\n",
    "set.seed(88)\n",
    "KMC = kmeans(airlinesNorm, centers=k, iter.max=1000)\n",
    "names(KMC)"
   ]
  },
  {
   "cell_type": "markdown",
   "metadata": {},
   "source": [
    "Accessing the clusters and splitting our dataset by cluster is accomplished with the following single line of code."
   ]
  },
  {
   "cell_type": "code",
   "execution_count": 17,
   "metadata": {},
   "outputs": [],
   "source": [
    "spl3 = split(airlines, KMC$cluster)"
   ]
  },
  {
   "cell_type": "markdown",
   "metadata": {},
   "source": [
    "Two of our clusters are quite large relative to the remaining three."
   ]
  },
  {
   "cell_type": "code",
   "execution_count": 18,
   "metadata": {},
   "outputs": [
    {
     "data": {
      "text/html": [
       "<ol class=list-inline>\n",
       "\t<li>776</li>\n",
       "\t<li>57</li>\n",
       "\t<li>143</li>\n",
       "\t<li>1373</li>\n",
       "\t<li>1650</li>\n",
       "</ol>\n"
      ],
      "text/latex": [
       "\\begin{enumerate*}\n",
       "\\item 776\n",
       "\\item 57\n",
       "\\item 143\n",
       "\\item 1373\n",
       "\\item 1650\n",
       "\\end{enumerate*}\n"
      ],
      "text/markdown": [
       "1. 776\n",
       "2. 57\n",
       "3. 143\n",
       "4. 1373\n",
       "5. 1650\n",
       "\n",
       "\n"
      ],
      "text/plain": [
       "[1]  776   57  143 1373 1650"
      ]
     },
     "metadata": {},
     "output_type": "display_data"
    }
   ],
   "source": [
    "KMC$size"
   ]
  },
  {
   "cell_type": "code",
   "execution_count": 19,
   "metadata": {},
   "outputs": [
    {
     "data": {
      "text/html": [
       "<table>\n",
       "<caption>A matrix: 7 × 5 of type dbl</caption>\n",
       "<thead>\n",
       "\t<tr><th></th><th scope=col>1</th><th scope=col>2</th><th scope=col>3</th><th scope=col>4</th><th scope=col>5</th></tr>\n",
       "</thead>\n",
       "<tbody>\n",
       "\t<tr><th scope=row>Balance</th><td>1.528793e+05</td><td>1.140122e+05</td><td>191736.33566</td><td>5.741614e+04</td><td>3.815031e+04</td></tr>\n",
       "\t<tr><th scope=row>QualMiles</th><td>7.798711e+01</td><td>5.543333e+03</td><td>   471.56643</td><td>5.510415e+01</td><td>3.438424e+01</td></tr>\n",
       "\t<tr><th scope=row>BonusMiles</th><td>5.100809e+04</td><td>1.919668e+04</td><td> 33093.33566</td><td>8.756787e+03</td><td>6.745658e+03</td></tr>\n",
       "\t<tr><th scope=row>BonusTrans</th><td>2.131572e+01</td><td>1.229825e+01</td><td>    28.35664</td><td>9.101238e+00</td><td>7.638182e+00</td></tr>\n",
       "\t<tr><th scope=row>FlightMiles</th><td>4.799072e+02</td><td>9.397719e+02</td><td>  5763.13287</td><td>2.135805e+02</td><td>1.796448e+02</td></tr>\n",
       "\t<tr><th scope=row>FlightTrans</th><td>1.457474e+00</td><td>2.824561e+00</td><td>    16.76923</td><td>6.460306e-01</td><td>5.551515e-01</td></tr>\n",
       "\t<tr><th scope=row>DaysSinceEnroll</th><td>4.915534e+03</td><td>3.872175e+03</td><td>  4666.41259</td><td>5.826598e+03</td><td>2.283476e+03</td></tr>\n",
       "</tbody>\n",
       "</table>\n"
      ],
      "text/latex": [
       "A matrix: 7 × 5 of type dbl\n",
       "\\begin{tabular}{r|lllll}\n",
       "  & 1 & 2 & 3 & 4 & 5\\\\\n",
       "\\hline\n",
       "\tBalance & 1.528793e+05 & 1.140122e+05 & 191736.33566 & 5.741614e+04 & 3.815031e+04\\\\\n",
       "\tQualMiles & 7.798711e+01 & 5.543333e+03 &    471.56643 & 5.510415e+01 & 3.438424e+01\\\\\n",
       "\tBonusMiles & 5.100809e+04 & 1.919668e+04 &  33093.33566 & 8.756787e+03 & 6.745658e+03\\\\\n",
       "\tBonusTrans & 2.131572e+01 & 1.229825e+01 &     28.35664 & 9.101238e+00 & 7.638182e+00\\\\\n",
       "\tFlightMiles & 4.799072e+02 & 9.397719e+02 &   5763.13287 & 2.135805e+02 & 1.796448e+02\\\\\n",
       "\tFlightTrans & 1.457474e+00 & 2.824561e+00 &     16.76923 & 6.460306e-01 & 5.551515e-01\\\\\n",
       "\tDaysSinceEnroll & 4.915534e+03 & 3.872175e+03 &   4666.41259 & 5.826598e+03 & 2.283476e+03\\\\\n",
       "\\end{tabular}\n"
      ],
      "text/markdown": [
       "\n",
       "A matrix: 7 × 5 of type dbl\n",
       "\n",
       "| <!--/--> | 1 | 2 | 3 | 4 | 5 |\n",
       "|---|---|---|---|---|---|\n",
       "| Balance | 1.528793e+05 | 1.140122e+05 | 191736.33566 | 5.741614e+04 | 3.815031e+04 |\n",
       "| QualMiles | 7.798711e+01 | 5.543333e+03 |    471.56643 | 5.510415e+01 | 3.438424e+01 |\n",
       "| BonusMiles | 5.100809e+04 | 1.919668e+04 |  33093.33566 | 8.756787e+03 | 6.745658e+03 |\n",
       "| BonusTrans | 2.131572e+01 | 1.229825e+01 |     28.35664 | 9.101238e+00 | 7.638182e+00 |\n",
       "| FlightMiles | 4.799072e+02 | 9.397719e+02 |   5763.13287 | 2.135805e+02 | 1.796448e+02 |\n",
       "| FlightTrans | 1.457474e+00 | 2.824561e+00 |     16.76923 | 6.460306e-01 | 5.551515e-01 |\n",
       "| DaysSinceEnroll | 4.915534e+03 | 3.872175e+03 |   4666.41259 | 5.826598e+03 | 2.283476e+03 |\n",
       "\n"
      ],
      "text/plain": [
       "                1            2            3            4           \n",
       "Balance         1.528793e+05 1.140122e+05 191736.33566 5.741614e+04\n",
       "QualMiles       7.798711e+01 5.543333e+03    471.56643 5.510415e+01\n",
       "BonusMiles      5.100809e+04 1.919668e+04  33093.33566 8.756787e+03\n",
       "BonusTrans      2.131572e+01 1.229825e+01     28.35664 9.101238e+00\n",
       "FlightMiles     4.799072e+02 9.397719e+02   5763.13287 2.135805e+02\n",
       "FlightTrans     1.457474e+00 2.824561e+00     16.76923 6.460306e-01\n",
       "DaysSinceEnroll 4.915534e+03 3.872175e+03   4666.41259 5.826598e+03\n",
       "                5           \n",
       "Balance         3.815031e+04\n",
       "QualMiles       3.438424e+01\n",
       "BonusMiles      6.745658e+03\n",
       "BonusTrans      7.638182e+00\n",
       "FlightMiles     1.796448e+02\n",
       "FlightTrans     5.551515e-01\n",
       "DaysSinceEnroll 2.283476e+03"
      ]
     },
     "metadata": {},
     "output_type": "display_data"
    }
   ],
   "source": [
    "sapply(spl3, colMeans)"
   ]
  },
  {
   "cell_type": "markdown",
   "metadata": {},
   "source": [
    "The k-means algorithm appears to have found clusters similar to those of the hierarchical method. The clusters, however, are not necessarily displayed in the same order. For example, cluster 1 under the hierarchical method had the highest balance for **DaysSinceEnroll**. Here, cluster 4 exhibits the highest balance in the **DaysSinceEnroll** account. The implication is that cluster numbers are merely labels with no intrinsic meaning. The clusters discovered by k-means, however, are substantially similar to those uncovered by hierarchical clustering."
   ]
  }
 ],
 "metadata": {
  "kernelspec": {
   "display_name": "R",
   "language": "R",
   "name": "ir"
  },
  "language_info": {
   "codemirror_mode": "r",
   "file_extension": ".r",
   "mimetype": "text/x-r-source",
   "name": "R",
   "pygments_lexer": "r",
   "version": "3.6.0"
  }
 },
 "nbformat": 4,
 "nbformat_minor": 2
}
