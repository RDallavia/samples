{
  "cells": [
    {
      "cell_type": "markdown",
      "metadata": {
        "id": "AVbUQ1v5xUve"
      },
      "source": [
        "# About\n",
        "\n",
        "The objective of this study is to create a model capable of separating customer credit card accounts that have fallen into delinquency from those that have not. Our data set is comprised of their monthly customer profile. Per Kaggle, the purveyor of the data, \"the target binary variable is calculated by observing 18 months performance window after the latest credit card statement . . . . if the customer does not pay [the amount due] 120 days after their latest statement date it is considered a default event.\"\n",
        "\n",
        "The data set contains customer-level statement information. Features are anonymized, normalized, and fall into the following general categories:\n",
        "\n",
        "D_* = Delinquency variables, S_* = Spend variables, P_* = Payment variables, B_* = Balance variables, R_* = Risk variables. \n",
        "\n",
        "The following features are categorical:\n",
        "['B_30', 'B_38', 'D_114', 'D_116', 'D_117', 'D_120', 'D_126', 'D_63', 'D_64', 'D_66', 'D_68']\n",
        "\n",
        "Our task is to predict, for each customer_ID, the probability of future payment default (target = 1).\n",
        "\n",
        "Source(https://www.kaggle.com/competitions/amex-default-prediction/data?select=train_labels.csv)"
      ]
    },
    {
      "cell_type": "markdown",
      "metadata": {
        "id": "k6JMxtzx0bxJ"
      },
      "source": [
        "# 1.0 Imports"
      ]
    },
    {
      "cell_type": "markdown",
      "metadata": {
        "id": "6rOZlN4w0mi1"
      },
      "source": [
        "If you read our Pricing Analytics study, you will have seen the typical data science tech stack used extensively. Here, a considerable amount of our modeling will ultimately rely on [PyCaret](https://pycaret.org/), an industry standard. Running the notebok requires importing PyCaret from outside of the Colab environment (i.e., the environment in which this study was first conceived). To load and enable PyCaret, run the following cell and then restart the notebook runtime."
      ]
    },
    {
      "cell_type": "code",
      "execution_count": 1,
      "metadata": {
        "colab": {
          "base_uri": "https://localhost:8080/",
          "height": 911
        },
        "id": "2AH77QniYsKP",
        "outputId": "1defaa08-f3b4-45f3-e533-1711189d56d5"
      },
      "outputs": [
        {
          "name": "stdout",
          "output_type": "stream",
          "text": [
            "\u001b[2K     \u001b[90m━━━━━━━━━━━━━━━━━━━━━━━━━━━━━━━━━━━━━━━\u001b[0m \u001b[32m504.3/504.3 KB\u001b[0m \u001b[31m8.5 MB/s\u001b[0m eta \u001b[36m0:00:00\u001b[0m\n",
            "\u001b[2K     \u001b[90m━━━━━━━━━━━━━━━━━━━━━━━━━━━━━━━━━━━━━━━━\u001b[0m \u001b[32m81.2/81.2 KB\u001b[0m \u001b[31m6.1 MB/s\u001b[0m eta \u001b[36m0:00:00\u001b[0m\n",
            "\u001b[2K     \u001b[90m━━━━━━━━━━━━━━━━━━━━━━━━━━━━━━━━━━━━━━━━\u001b[0m \u001b[32m16.0/16.0 MB\u001b[0m \u001b[31m76.2 MB/s\u001b[0m eta \u001b[36m0:00:00\u001b[0m\n",
            "\u001b[2K     \u001b[90m━━━━━━━━━━━━━━━━━━━━━━━━━━━━━━━━━━━━━━\u001b[0m \u001b[32m147.7/147.7 KB\u001b[0m \u001b[31m13.2 MB/s\u001b[0m eta \u001b[36m0:00:00\u001b[0m\n",
            "\u001b[?25h  Preparing metadata (setup.py) ... \u001b[?25l\u001b[?25hdone\n",
            "\u001b[2K     \u001b[90m━━━━━━━━━━━━━━━━━━━━━━━━━━━━━━━━━━━━━━\u001b[0m \u001b[32m280.2/280.2 KB\u001b[0m \u001b[31m17.8 MB/s\u001b[0m eta \u001b[36m0:00:00\u001b[0m\n",
            "\u001b[2K     \u001b[90m━━━━━━━━━━━━━━━━━━━━━━━━━━━━━━━━━━━━━━\u001b[0m \u001b[32m106.8/106.8 KB\u001b[0m \u001b[31m10.5 MB/s\u001b[0m eta \u001b[36m0:00:00\u001b[0m\n",
            "\u001b[2K     \u001b[90m━━━━━━━━━━━━━━━━━━━━━━━━━━━━━━━━━━━━━━━━\u001b[0m \u001b[32m79.9/79.9 MB\u001b[0m \u001b[31m21.2 MB/s\u001b[0m eta \u001b[36m0:00:00\u001b[0m\n",
            "\u001b[2K     \u001b[90m━━━━━━━━━━━━━━━━━━━━━━━━━━━━━━━━━━━━━━━━\u001b[0m \u001b[32m2.0/2.0 MB\u001b[0m \u001b[31m84.6 MB/s\u001b[0m eta \u001b[36m0:00:00\u001b[0m\n",
            "\u001b[2K     \u001b[90m━━━━━━━━━━━━━━━━━━━━━━━━━━━━━━━━━━━━━━━━\u001b[0m \u001b[32m43.8/43.8 KB\u001b[0m \u001b[31m5.4 MB/s\u001b[0m eta \u001b[36m0:00:00\u001b[0m\n",
            "\u001b[2K     \u001b[90m━━━━━━━━━━━━━━━━━━━━━━━━━━━━━━━━━━━━━━━━\u001b[0m \u001b[32m62.8/62.8 KB\u001b[0m \u001b[31m8.4 MB/s\u001b[0m eta \u001b[36m0:00:00\u001b[0m\n",
            "\u001b[2K     \u001b[90m━━━━━━━━━━━━━━━━━━━━━━━━━━━━━━━━━━━━━━━━\u001b[0m \u001b[32m9.2/9.2 MB\u001b[0m \u001b[31m110.0 MB/s\u001b[0m eta \u001b[36m0:00:00\u001b[0m\n",
            "\u001b[2K     \u001b[90m━━━━━━━━━━━━━━━━━━━━━━━━━━━━━━━━━━━━━━━━\u001b[0m \u001b[32m1.9/1.9 MB\u001b[0m \u001b[31m86.4 MB/s\u001b[0m eta \u001b[36m0:00:00\u001b[0m\n",
            "\u001b[2K     \u001b[90m━━━━━━━━━━━━━━━━━━━━━━━━━━━━━━━━━━━━━━━━\u001b[0m \u001b[32m45.8/45.8 KB\u001b[0m \u001b[31m6.0 MB/s\u001b[0m eta \u001b[36m0:00:00\u001b[0m\n",
            "\u001b[?25h  Installing build dependencies ... \u001b[?25l\u001b[?25hdone\n",
            "  Getting requirements to build wheel ... \u001b[?25l\u001b[?25hdone\n",
            "  Preparing metadata (pyproject.toml) ... \u001b[?25l\u001b[?25hdone\n",
            "\u001b[33m  WARNING: Requested plotly-resampler>=0.7.2.2 from https://files.pythonhosted.org/packages/d7/5e/71a9e34a36c1855d0c4e30a88405d58c4bbbe7ece802b188628a643f2cda/plotly_resampler-0.8.4rc1.tar.gz#sha256=154ebffa9778813fe457ac9112e71e085ac283644a1e26b869bd5c6b7bf064a2 (from pycaret), but installing version 0.8.4rc1\u001b[0m\u001b[33m\n",
            "\u001b[2K     \u001b[90m━━━━━━━━━━━━━━━━━━━━━━━━━━━━━━━━━━━━━━━━\u001b[0m \u001b[32m1.6/1.6 MB\u001b[0m \u001b[31m80.8 MB/s\u001b[0m eta \u001b[36m0:00:00\u001b[0m\n",
            "\u001b[2K     \u001b[90m━━━━━━━━━━━━━━━━━━━━━━━━━━━━━━━━━━━━━━\u001b[0m \u001b[32m965.4/965.4 KB\u001b[0m \u001b[31m50.0 MB/s\u001b[0m eta \u001b[36m0:00:00\u001b[0m\n",
            "\u001b[2K     \u001b[90m━━━━━━━━━━━━━━━━━━━━━━━━━━━━━━━━━━━━━━\u001b[0m \u001b[32m300.0/300.0 KB\u001b[0m \u001b[31m32.8 MB/s\u001b[0m eta \u001b[36m0:00:00\u001b[0m\n",
            "\u001b[2K     \u001b[90m━━━━━━━━━━━━━━━━━━━━━━━━━━━━━━━━━━━━━━━━\u001b[0m \u001b[32m9.9/9.9 MB\u001b[0m \u001b[31m103.8 MB/s\u001b[0m eta \u001b[36m0:00:00\u001b[0m\n",
            "\u001b[2K     \u001b[90m━━━━━━━━━━━━━━━━━━━━━━━━━━━━━━━━━━━━━━\u001b[0m \u001b[32m185.1/185.1 KB\u001b[0m \u001b[31m24.7 MB/s\u001b[0m eta \u001b[36m0:00:00\u001b[0m\n",
            "\u001b[2K     \u001b[90m━━━━━━━━━━━━━━━━━━━━━━━━━━━━━━━━━━━━━━\u001b[0m \u001b[32m140.6/140.6 KB\u001b[0m \u001b[31m21.0 MB/s\u001b[0m eta \u001b[36m0:00:00\u001b[0m\n",
            "\u001b[2K     \u001b[90m━━━━━━━━━━━━━━━━━━━━━━━━━━━━━━━━━━━━━━━━\u001b[0m \u001b[32m9.9/9.9 MB\u001b[0m \u001b[31m108.5 MB/s\u001b[0m eta \u001b[36m0:00:00\u001b[0m\n",
            "\u001b[?25h  Building wheel for plotly-resampler (pyproject.toml) ... \u001b[?25l\u001b[?25hdone\n",
            "  Building wheel for pyod (setup.py) ... \u001b[?25l\u001b[?25hdone\n",
            "Looking in indexes: https://pypi.org/simple, https://us-python.pkg.dev/colab-wheels/public/simple/\n",
            "Collecting matplotlib==3.4.2\n",
            "  Downloading matplotlib-3.4.2-cp38-cp38-manylinux1_x86_64.whl (10.3 MB)\n",
            "\u001b[2K     \u001b[90m━━━━━━━━━━━━━━━━━━━━━━━━━━━━━━━━━━━━━━━━\u001b[0m \u001b[32m10.3/10.3 MB\u001b[0m \u001b[31m71.7 MB/s\u001b[0m eta \u001b[36m0:00:00\u001b[0m\n",
            "\u001b[?25hRequirement already satisfied: pyparsing>=2.2.1 in /usr/local/lib/python3.8/dist-packages (from matplotlib==3.4.2) (3.0.9)\n",
            "Requirement already satisfied: python-dateutil>=2.7 in /usr/local/lib/python3.8/dist-packages (from matplotlib==3.4.2) (2.8.2)\n",
            "Requirement already satisfied: pillow>=6.2.0 in /usr/local/lib/python3.8/dist-packages (from matplotlib==3.4.2) (7.1.2)\n",
            "Requirement already satisfied: kiwisolver>=1.0.1 in /usr/local/lib/python3.8/dist-packages (from matplotlib==3.4.2) (1.4.4)\n",
            "Requirement already satisfied: cycler>=0.10 in /usr/local/lib/python3.8/dist-packages (from matplotlib==3.4.2) (0.11.0)\n",
            "Requirement already satisfied: numpy>=1.16 in /usr/local/lib/python3.8/dist-packages (from matplotlib==3.4.2) (1.21.6)\n",
            "Requirement already satisfied: six>=1.5 in /usr/local/lib/python3.8/dist-packages (from python-dateutil>=2.7->matplotlib==3.4.2) (1.15.0)\n",
            "Installing collected packages: matplotlib\n",
            "  Attempting uninstall: matplotlib\n",
            "    Found existing installation: matplotlib 3.7.0rc1\n",
            "    Uninstalling matplotlib-3.7.0rc1:\n",
            "      Successfully uninstalled matplotlib-3.7.0rc1\n",
            "Successfully installed matplotlib-3.4.2\n"
          ]
        },
        {
          "data": {
            "application/vnd.colab-display-data+json": {
              "pip_warning": {
                "packages": [
                  "matplotlib",
                  "mpl_toolkits"
                ]
              }
            }
          },
          "metadata": {},
          "output_type": "display_data"
        }
      ],
      "source": [
        "!pip install --pre pycaret --quiet\n",
        "!pip install matplotlib==3.4.2"
      ]
    },
    {
      "cell_type": "markdown",
      "metadata": {
        "id": "1Egm-XAD1c-a"
      },
      "source": [
        "We import the standard data science packages in the following cell. Note that PyCaret import its preferred version of a number of common packages -- including numpy -- automatically."
      ]
    },
    {
      "cell_type": "code",
      "execution_count": 1,
      "metadata": {
        "id": "2rcOznX-hgqR"
      },
      "outputs": [],
      "source": [
        "from statsmodels import *\n",
        "import pandas as pd\n",
        "import matplotlib.pyplot as plt\n",
        "%matplotlib inline\n",
        "import seaborn as sns"
      ]
    },
    {
      "cell_type": "markdown",
      "metadata": {
        "id": "MEp-_5TY2Oyj"
      },
      "source": [
        "# 2.0 Data Acquisition"
      ]
    },
    {
      "cell_type": "markdown",
      "metadata": {
        "id": "XpL4IsY13jBk"
      },
      "source": [
        "Initially, we used pip and a wide array of command-line statements to import four csv files into our environment. This approach was needlessly time consuming; thirty minutes to execute a simple data transfer is a bridge too far."
      ]
    },
    {
      "cell_type": "markdown",
      "metadata": {
        "id": "Hf4SSVIY5xzS"
      },
      "source": [
        "The code below brings our data into the Colab environment. The original files contained 10 million observations. Having so much information at our disposal would be a delight. We are, however, capacity constrained. Hence, we use only 10% of the data provided in the source files. This is a limitation of the study."
      ]
    },
    {
      "cell_type": "code",
      "execution_count": 82,
      "metadata": {
        "id": "1u90Wcztgoay"
      },
      "outputs": [],
      "source": [
        "train_labels = pd.read_csv('/content/drive/MyDrive/Amex/train_labels.csv', chunksize=10000)\n",
        "train_set = pd.read_csv('/content/drive/MyDrive/Amex/train_data.csv', chunksize=10000)\n",
        "sample_submission = pd.read_csv('/content/drive/MyDrive/Amex/sample_submission.csv', chunksize=10000)\n",
        "test_set = pd.read_csv('/content/drive/MyDrive/Amex/test_data.csv', nrows=10000)"
      ]
    },
    {
      "cell_type": "markdown",
      "metadata": {
        "id": "Mm5Ijb6-6qmD"
      },
      "source": [
        "Our design matrix (i.e., training set) and target labels are provided in separate files. Here, we merge them together and add a an extra column for our convenience."
      ]
    },
    {
      "cell_type": "code",
      "execution_count": 83,
      "metadata": {
        "colab": {
          "base_uri": "https://localhost:8080/",
          "height": 386
        },
        "id": "1xrDs3Xwiahn",
        "outputId": "0ad6e509-f8b1-4e67-90e9-44b7d308c305"
      },
      "outputs": [
        {
          "data": {
            "text/html": [
              "\n",
              "  <div id=\"df-ce8e09b8-c510-4f99-818e-c7865930621f\">\n",
              "    <div class=\"colab-df-container\">\n",
              "      <div>\n",
              "<style scoped>\n",
              "    .dataframe tbody tr th:only-of-type {\n",
              "        vertical-align: middle;\n",
              "    }\n",
              "\n",
              "    .dataframe tbody tr th {\n",
              "        vertical-align: top;\n",
              "    }\n",
              "\n",
              "    .dataframe thead th {\n",
              "        text-align: right;\n",
              "    }\n",
              "</style>\n",
              "<table border=\"1\" class=\"dataframe\">\n",
              "  <thead>\n",
              "    <tr style=\"text-align: right;\">\n",
              "      <th></th>\n",
              "      <th>customer_ID</th>\n",
              "      <th>S_2</th>\n",
              "      <th>P_2</th>\n",
              "      <th>D_39</th>\n",
              "      <th>B_1</th>\n",
              "      <th>B_2</th>\n",
              "      <th>R_1</th>\n",
              "      <th>S_3</th>\n",
              "      <th>D_41</th>\n",
              "      <th>B_3</th>\n",
              "      <th>...</th>\n",
              "      <th>D_138</th>\n",
              "      <th>D_139</th>\n",
              "      <th>D_140</th>\n",
              "      <th>D_141</th>\n",
              "      <th>D_142</th>\n",
              "      <th>D_143</th>\n",
              "      <th>D_144</th>\n",
              "      <th>D_145</th>\n",
              "      <th>target</th>\n",
              "      <th>Count</th>\n",
              "    </tr>\n",
              "  </thead>\n",
              "  <tbody>\n",
              "    <tr>\n",
              "      <th>0</th>\n",
              "      <td>0000099d6bd597052cdcda90ffabf56573fe9d7c79be5f...</td>\n",
              "      <td>2017-03-09</td>\n",
              "      <td>0.938469</td>\n",
              "      <td>0.001733</td>\n",
              "      <td>0.008724</td>\n",
              "      <td>1.006838</td>\n",
              "      <td>0.009228</td>\n",
              "      <td>0.124035</td>\n",
              "      <td>0.008771</td>\n",
              "      <td>0.004709</td>\n",
              "      <td>...</td>\n",
              "      <td>NaN</td>\n",
              "      <td>0.002427</td>\n",
              "      <td>0.003706</td>\n",
              "      <td>0.003818</td>\n",
              "      <td>NaN</td>\n",
              "      <td>0.000569</td>\n",
              "      <td>0.000610</td>\n",
              "      <td>0.002674</td>\n",
              "      <td>0</td>\n",
              "      <td>1</td>\n",
              "    </tr>\n",
              "    <tr>\n",
              "      <th>1</th>\n",
              "      <td>0000099d6bd597052cdcda90ffabf56573fe9d7c79be5f...</td>\n",
              "      <td>2017-04-07</td>\n",
              "      <td>0.936665</td>\n",
              "      <td>0.005775</td>\n",
              "      <td>0.004923</td>\n",
              "      <td>1.000653</td>\n",
              "      <td>0.006151</td>\n",
              "      <td>0.126750</td>\n",
              "      <td>0.000798</td>\n",
              "      <td>0.002714</td>\n",
              "      <td>...</td>\n",
              "      <td>NaN</td>\n",
              "      <td>0.003954</td>\n",
              "      <td>0.003167</td>\n",
              "      <td>0.005032</td>\n",
              "      <td>NaN</td>\n",
              "      <td>0.009576</td>\n",
              "      <td>0.005492</td>\n",
              "      <td>0.009217</td>\n",
              "      <td>0</td>\n",
              "      <td>1</td>\n",
              "    </tr>\n",
              "    <tr>\n",
              "      <th>2</th>\n",
              "      <td>0000099d6bd597052cdcda90ffabf56573fe9d7c79be5f...</td>\n",
              "      <td>2017-05-28</td>\n",
              "      <td>0.954180</td>\n",
              "      <td>0.091505</td>\n",
              "      <td>0.021655</td>\n",
              "      <td>1.009672</td>\n",
              "      <td>0.006815</td>\n",
              "      <td>0.123977</td>\n",
              "      <td>0.007598</td>\n",
              "      <td>0.009423</td>\n",
              "      <td>...</td>\n",
              "      <td>NaN</td>\n",
              "      <td>0.003269</td>\n",
              "      <td>0.007329</td>\n",
              "      <td>0.000427</td>\n",
              "      <td>NaN</td>\n",
              "      <td>0.003429</td>\n",
              "      <td>0.006986</td>\n",
              "      <td>0.002603</td>\n",
              "      <td>0</td>\n",
              "      <td>1</td>\n",
              "    </tr>\n",
              "    <tr>\n",
              "      <th>3</th>\n",
              "      <td>0000099d6bd597052cdcda90ffabf56573fe9d7c79be5f...</td>\n",
              "      <td>2017-06-13</td>\n",
              "      <td>0.960384</td>\n",
              "      <td>0.002455</td>\n",
              "      <td>0.013683</td>\n",
              "      <td>1.002700</td>\n",
              "      <td>0.001373</td>\n",
              "      <td>0.117169</td>\n",
              "      <td>0.000685</td>\n",
              "      <td>0.005531</td>\n",
              "      <td>...</td>\n",
              "      <td>NaN</td>\n",
              "      <td>0.006117</td>\n",
              "      <td>0.004516</td>\n",
              "      <td>0.003200</td>\n",
              "      <td>NaN</td>\n",
              "      <td>0.008419</td>\n",
              "      <td>0.006527</td>\n",
              "      <td>0.009600</td>\n",
              "      <td>0</td>\n",
              "      <td>1</td>\n",
              "    </tr>\n",
              "    <tr>\n",
              "      <th>4</th>\n",
              "      <td>0000099d6bd597052cdcda90ffabf56573fe9d7c79be5f...</td>\n",
              "      <td>2017-07-16</td>\n",
              "      <td>0.947248</td>\n",
              "      <td>0.002483</td>\n",
              "      <td>0.015193</td>\n",
              "      <td>1.000727</td>\n",
              "      <td>0.007605</td>\n",
              "      <td>0.117325</td>\n",
              "      <td>0.004653</td>\n",
              "      <td>0.009312</td>\n",
              "      <td>...</td>\n",
              "      <td>NaN</td>\n",
              "      <td>0.003671</td>\n",
              "      <td>0.004946</td>\n",
              "      <td>0.008889</td>\n",
              "      <td>NaN</td>\n",
              "      <td>0.001670</td>\n",
              "      <td>0.008126</td>\n",
              "      <td>0.009827</td>\n",
              "      <td>0</td>\n",
              "      <td>1</td>\n",
              "    </tr>\n",
              "  </tbody>\n",
              "</table>\n",
              "<p>5 rows × 192 columns</p>\n",
              "</div>\n",
              "      <button class=\"colab-df-convert\" onclick=\"convertToInteractive('df-ce8e09b8-c510-4f99-818e-c7865930621f')\"\n",
              "              title=\"Convert this dataframe to an interactive table.\"\n",
              "              style=\"display:none;\">\n",
              "        \n",
              "  <svg xmlns=\"http://www.w3.org/2000/svg\" height=\"24px\"viewBox=\"0 0 24 24\"\n",
              "       width=\"24px\">\n",
              "    <path d=\"M0 0h24v24H0V0z\" fill=\"none\"/>\n",
              "    <path d=\"M18.56 5.44l.94 2.06.94-2.06 2.06-.94-2.06-.94-.94-2.06-.94 2.06-2.06.94zm-11 1L8.5 8.5l.94-2.06 2.06-.94-2.06-.94L8.5 2.5l-.94 2.06-2.06.94zm10 10l.94 2.06.94-2.06 2.06-.94-2.06-.94-.94-2.06-.94 2.06-2.06.94z\"/><path d=\"M17.41 7.96l-1.37-1.37c-.4-.4-.92-.59-1.43-.59-.52 0-1.04.2-1.43.59L10.3 9.45l-7.72 7.72c-.78.78-.78 2.05 0 2.83L4 21.41c.39.39.9.59 1.41.59.51 0 1.02-.2 1.41-.59l7.78-7.78 2.81-2.81c.8-.78.8-2.07 0-2.86zM5.41 20L4 18.59l7.72-7.72 1.47 1.35L5.41 20z\"/>\n",
              "  </svg>\n",
              "      </button>\n",
              "      \n",
              "  <style>\n",
              "    .colab-df-container {\n",
              "      display:flex;\n",
              "      flex-wrap:wrap;\n",
              "      gap: 12px;\n",
              "    }\n",
              "\n",
              "    .colab-df-convert {\n",
              "      background-color: #E8F0FE;\n",
              "      border: none;\n",
              "      border-radius: 50%;\n",
              "      cursor: pointer;\n",
              "      display: none;\n",
              "      fill: #1967D2;\n",
              "      height: 32px;\n",
              "      padding: 0 0 0 0;\n",
              "      width: 32px;\n",
              "    }\n",
              "\n",
              "    .colab-df-convert:hover {\n",
              "      background-color: #E2EBFA;\n",
              "      box-shadow: 0px 1px 2px rgba(60, 64, 67, 0.3), 0px 1px 3px 1px rgba(60, 64, 67, 0.15);\n",
              "      fill: #174EA6;\n",
              "    }\n",
              "\n",
              "    [theme=dark] .colab-df-convert {\n",
              "      background-color: #3B4455;\n",
              "      fill: #D2E3FC;\n",
              "    }\n",
              "\n",
              "    [theme=dark] .colab-df-convert:hover {\n",
              "      background-color: #434B5C;\n",
              "      box-shadow: 0px 1px 3px 1px rgba(0, 0, 0, 0.15);\n",
              "      filter: drop-shadow(0px 1px 2px rgba(0, 0, 0, 0.3));\n",
              "      fill: #FFFFFF;\n",
              "    }\n",
              "  </style>\n",
              "\n",
              "      <script>\n",
              "        const buttonEl =\n",
              "          document.querySelector('#df-ce8e09b8-c510-4f99-818e-c7865930621f button.colab-df-convert');\n",
              "        buttonEl.style.display =\n",
              "          google.colab.kernel.accessAllowed ? 'block' : 'none';\n",
              "\n",
              "        async function convertToInteractive(key) {\n",
              "          const element = document.querySelector('#df-ce8e09b8-c510-4f99-818e-c7865930621f');\n",
              "          const dataTable =\n",
              "            await google.colab.kernel.invokeFunction('convertToInteractive',\n",
              "                                                     [key], {});\n",
              "          if (!dataTable) return;\n",
              "\n",
              "          const docLinkHtml = 'Like what you see? Visit the ' +\n",
              "            '<a target=\"_blank\" href=https://colab.research.google.com/notebooks/data_table.ipynb>data table notebook</a>'\n",
              "            + ' to learn more about interactive tables.';\n",
              "          element.innerHTML = '';\n",
              "          dataTable['output_type'] = 'display_data';\n",
              "          await google.colab.output.renderOutput(dataTable, element);\n",
              "          const docLink = document.createElement('div');\n",
              "          docLink.innerHTML = docLinkHtml;\n",
              "          element.appendChild(docLink);\n",
              "        }\n",
              "      </script>\n",
              "    </div>\n",
              "  </div>\n",
              "  "
            ],
            "text/plain": [
              "                                         customer_ID         S_2       P_2  \\\n",
              "0  0000099d6bd597052cdcda90ffabf56573fe9d7c79be5f...  2017-03-09  0.938469   \n",
              "1  0000099d6bd597052cdcda90ffabf56573fe9d7c79be5f...  2017-04-07  0.936665   \n",
              "2  0000099d6bd597052cdcda90ffabf56573fe9d7c79be5f...  2017-05-28  0.954180   \n",
              "3  0000099d6bd597052cdcda90ffabf56573fe9d7c79be5f...  2017-06-13  0.960384   \n",
              "4  0000099d6bd597052cdcda90ffabf56573fe9d7c79be5f...  2017-07-16  0.947248   \n",
              "\n",
              "       D_39       B_1       B_2       R_1       S_3      D_41       B_3  ...  \\\n",
              "0  0.001733  0.008724  1.006838  0.009228  0.124035  0.008771  0.004709  ...   \n",
              "1  0.005775  0.004923  1.000653  0.006151  0.126750  0.000798  0.002714  ...   \n",
              "2  0.091505  0.021655  1.009672  0.006815  0.123977  0.007598  0.009423  ...   \n",
              "3  0.002455  0.013683  1.002700  0.001373  0.117169  0.000685  0.005531  ...   \n",
              "4  0.002483  0.015193  1.000727  0.007605  0.117325  0.004653  0.009312  ...   \n",
              "\n",
              "   D_138     D_139     D_140     D_141  D_142     D_143     D_144     D_145  \\\n",
              "0    NaN  0.002427  0.003706  0.003818    NaN  0.000569  0.000610  0.002674   \n",
              "1    NaN  0.003954  0.003167  0.005032    NaN  0.009576  0.005492  0.009217   \n",
              "2    NaN  0.003269  0.007329  0.000427    NaN  0.003429  0.006986  0.002603   \n",
              "3    NaN  0.006117  0.004516  0.003200    NaN  0.008419  0.006527  0.009600   \n",
              "4    NaN  0.003671  0.004946  0.008889    NaN  0.001670  0.008126  0.009827   \n",
              "\n",
              "   target  Count  \n",
              "0       0      1  \n",
              "1       0      1  \n",
              "2       0      1  \n",
              "3       0      1  \n",
              "4       0      1  \n",
              "\n",
              "[5 rows x 192 columns]"
            ]
          },
          "execution_count": 83,
          "metadata": {},
          "output_type": "execute_result"
        }
      ],
      "source": [
        "df = pd.DataFrame()\n",
        "for chunk, target in zip(train_set, train_labels):\n",
        "  merger = chunk.merge(target, how='inner', on='customer_ID')\n",
        "  merger['Count'] = 1\n",
        "  df = df.append(merger, ignore_index=True)\n",
        "df.head()"
      ]
    },
    {
      "cell_type": "markdown",
      "metadata": {
        "id": "R8zvVhtF8TwT"
      },
      "source": [
        "# 3.0 Exploratory Data Analysis"
      ]
    },
    {
      "cell_type": "markdown",
      "metadata": {
        "id": "BWfP6UN07yv-"
      },
      "source": [
        "The next two cells provide us with a global view of our data set."
      ]
    },
    {
      "cell_type": "code",
      "execution_count": 84,
      "metadata": {
        "colab": {
          "base_uri": "https://localhost:8080/"
        },
        "id": "8hp_thaHk9nb",
        "outputId": "559ee5ee-f2a8-420e-f6ef-602c979c6cf8"
      },
      "outputs": [
        {
          "name": "stdout",
          "output_type": "stream",
          "text": [
            "We have 192 features in our data set (including the target and our count columns) and 10000 observations.\n"
          ]
        }
      ],
      "source": [
        "print(f'We have {len(df.columns)} features in our data set (including the target and our count columns) and {df.shape[0]} observations.')"
      ]
    },
    {
      "cell_type": "code",
      "execution_count": 85,
      "metadata": {
        "colab": {
          "base_uri": "https://localhost:8080/"
        },
        "id": "2MOlrpGrlAOv",
        "outputId": "5ef0914f-002c-4878-afd9-b6038dc20b8e"
      },
      "outputs": [
        {
          "name": "stdout",
          "output_type": "stream",
          "text": [
            "customer_ID     object\n",
            "S_2             object\n",
            "P_2            float64\n",
            "D_39           float64\n",
            "B_1            float64\n",
            "B_2            float64\n",
            "R_1            float64\n",
            "S_3            float64\n",
            "D_41           float64\n",
            "B_3            float64\n",
            "D_42           float64\n",
            "D_43           float64\n",
            "D_44           float64\n",
            "B_4            float64\n",
            "D_45           float64\n",
            "B_5            float64\n",
            "R_2            float64\n",
            "D_46           float64\n",
            "D_47           float64\n",
            "D_48           float64\n",
            "D_49           float64\n",
            "B_6            float64\n",
            "B_7            float64\n",
            "B_8            float64\n",
            "D_50           float64\n",
            "dtype: object\n"
          ]
        }
      ],
      "source": [
        "print(df.dtypes[:25])"
      ]
    },
    {
      "cell_type": "markdown",
      "metadata": {
        "id": "BexTFVo885FB"
      },
      "source": [
        "Our data look quite different when grouped."
      ]
    },
    {
      "cell_type": "code",
      "execution_count": 86,
      "metadata": {
        "colab": {
          "base_uri": "https://localhost:8080/"
        },
        "id": "yIydbal3lFQj",
        "outputId": "3da18550-b51a-4bd7-d9cc-4dad8ee5cb1d"
      },
      "outputs": [
        {
          "name": "stdout",
          "output_type": "stream",
          "text": [
            "There are 826 unique customers in our data set versus 10000 individual observations.\n",
            "This suggests the data contain multiple transactions per customer.\n"
          ]
        }
      ],
      "source": [
        "print(f'There are {len(df[\"customer_ID\"].unique())} unique customers in our data set versus {len(df)} individual observations.\\nThis suggests the data contain multiple transactions per customer.')"
      ]
    },
    {
      "cell_type": "code",
      "execution_count": 87,
      "metadata": {
        "colab": {
          "base_uri": "https://localhost:8080/"
        },
        "id": "4qDhkD1flNgf",
        "outputId": "33a900f5-5892-4bdd-99fa-27b1287e27ee"
      },
      "outputs": [
        {
          "data": {
            "text/plain": [
              "count    826.000000\n",
              "mean      12.106538\n",
              "std        2.520852\n",
              "min        1.000000\n",
              "25%       13.000000\n",
              "50%       13.000000\n",
              "75%       13.000000\n",
              "max       13.000000\n",
              "Name: Count, dtype: float64"
            ]
          },
          "execution_count": 87,
          "metadata": {},
          "output_type": "execute_result"
        }
      ],
      "source": [
        "df.groupby('customer_ID')['Count'].agg('sum').describe()"
      ]
    },
    {
      "cell_type": "markdown",
      "metadata": {
        "id": "kSjIHcFQlWzk"
      },
      "source": [
        "The above results are unexpected. The mean and median (marked '50%') are nearly the same. Furthermore, the same number characterizes the entire interquartile range.  This is either quite a coincidence or evidence that our data are manufactured."
      ]
    },
    {
      "cell_type": "markdown",
      "metadata": {
        "id": "xNx6SbLulqF3"
      },
      "source": [
        "As demonstrated by the graph below, a maximum of 13 observations were taken from a large number customers, while fewer than 13 transactions were collected in a minority of cases. Consequently, it seems likely the unusual summary statistics are the result of human intervention."
      ]
    },
    {
      "cell_type": "code",
      "execution_count": 88,
      "metadata": {
        "colab": {
          "base_uri": "https://localhost:8080/",
          "height": 519
        },
        "id": "vPnHcY65lke6",
        "outputId": "4375c75d-5f3d-4b90-c0f6-b40307c12531"
      },
      "outputs": [
        {
          "data": {
            "image/png": "[encoded data removed]",
            "text/plain": [
              "<Figure size 1008x576 with 1 Axes>"
            ]
          },
          "metadata": {
            "needs_background": "light"
          },
          "output_type": "display_data"
        }
      ],
      "source": [
        "group_obj = df.groupby(['customer_ID'])['Count'].sum().reset_index()\n",
        "plt.figure(figsize = (14,8))\n",
        "sns.histplot(data = group_obj, x = 'Count', bins=13)\n",
        "plt.ylabel(\"Number of Transactions\", size=14)\n",
        "plt.xlabel(\"Transaction Count\", size=14)\n",
        "plt.title(\"Number of Transactions Per Customer ID\", size=16);"
      ]
    },
    {
      "cell_type": "markdown",
      "metadata": {
        "id": "sdDugM_F-Mnu"
      },
      "source": [
        "Classification problems are typified by an imbalance between the positive and negative classes. There are fewer positive cases in our study than there are instances of the negative case. \n",
        "\n",
        "Represented by a '1' in our target column, our positive case is 'delinquency,' an admittedly negative event. Our negative case, represented by a '0' by in the target column, indicates a customer account up-to-date. Below, we explore the distribution between the positive and negative classes. "
      ]
    },
    {
      "cell_type": "code",
      "execution_count": 89,
      "metadata": {
        "colab": {
          "base_uri": "https://localhost:8080/"
        },
        "id": "VlPmGb6KnOAc",
        "outputId": "e861aeb4-56e1-46de-9fab-a5fcaf6337a3"
      },
      "outputs": [
        {
          "name": "stdout",
          "output_type": "stream",
          "text": [
            "Approximately 34.0% of observations are in the positive (delinquent) class.\n"
          ]
        },
        {
          "data": {
            "text/plain": [
              "0    7447\n",
              "1    2553\n",
              "Name: target, dtype: int64"
            ]
          },
          "execution_count": 89,
          "metadata": {},
          "output_type": "execute_result"
        }
      ],
      "source": [
        "class_distribution = df.target.value_counts()\n",
        "print(f'Approximately {round(class_distribution[1]/class_distribution[0],2)*100}% of observations are in the positive (delinquent) class.')\n",
        "class_distribution"
      ]
    },
    {
      "cell_type": "markdown",
      "metadata": {
        "id": "7Z1ll4jhClmE"
      },
      "source": [
        "Features with cases missing data are commonplace in business. In the cell below, we calculate that, on average, our features are missing just over 15% of their data."
      ]
    },
    {
      "cell_type": "code",
      "execution_count": 90,
      "metadata": {
        "colab": {
          "base_uri": "https://localhost:8080/"
        },
        "id": "9TF_MQmcn1zs",
        "outputId": "793bb02c-7f72-4fbe-ccb5-aeccc01bc3b5"
      },
      "outputs": [
        {
          "name": "stdout",
          "output_type": "stream",
          "text": [
            "The mean percentage of missing values is 15.03%.\n"
          ]
        }
      ],
      "source": [
        "missing = round(((df.isna().sum())/len(df)),2) * 100\n",
        "avg = round(((df.isna().sum())/len(df)),2)* 100\n",
        "print(f'The mean percentage of missing values is {round(avg.mean(), 2)}%.')"
      ]
    },
    {
      "cell_type": "markdown",
      "metadata": {
        "id": "ZhRJpJt9_6bO"
      },
      "source": [
        "All columns (features) are not equally informative. Here, we narrow the feature space to include only the most informative columns. Using our average percentage missing as a guide, we keep only those columns with at least 15% of their data and dispense with all other columns, including `customer ID`."
      ]
    },
    {
      "cell_type": "code",
      "execution_count": 91,
      "metadata": {
        "id": "gIIfOgEWn9cS"
      },
      "outputs": [],
      "source": [
        "# the threshold is the percentage missing above which we no longer wish to consider the feature\n",
        "threshold = .15\n",
        "df = df.copy(deep=True)\n",
        "df = df.loc[:, df.isnull().mean() < threshold]\n",
        "df.drop('customer_ID', axis=1, inplace=True)\n",
        "train_columns = list(df.columns)"
      ]
    },
    {
      "cell_type": "markdown",
      "metadata": {
        "id": "E-vibd3_AR6m"
      },
      "source": [
        "The feature space of our training set must match the feature space of our test set. We accomplish this by taking the set intersection of the features in our training set."
      ]
    },
    {
      "cell_type": "code",
      "execution_count": 92,
      "metadata": {
        "id": "1uCyS_eVoD7z"
      },
      "outputs": [],
      "source": [
        "test_set.drop('customer_ID', axis=1, inplace=True)\n",
        "test_columns = list(test_set)\n",
        "cols_to_keep = set(test_columns).intersection(set(train_columns))"
      ]
    },
    {
      "cell_type": "markdown",
      "metadata": {
        "id": "GMgifT-GA1Bb"
      },
      "source": [
        "The set intersection above provides us with the names of the features with which we will work. Below, we make the actual modifications to our data sets by keeping only the columns we've selected."
      ]
    },
    {
      "cell_type": "code",
      "execution_count": 93,
      "metadata": {
        "id": "kGcQJy61oOxu"
      },
      "outputs": [],
      "source": [
        "test_modified = test_set[list(cols_to_keep)]\n",
        "target = df['target']\n",
        "train_modified = df[list(cols_to_keep)]"
      ]
    },
    {
      "cell_type": "markdown",
      "metadata": {
        "id": "r63W4aVyD8m0"
      },
      "source": [
        "Here, we ensure that our target column is attached to our new training data frame."
      ]
    },
    {
      "cell_type": "code",
      "execution_count": 94,
      "metadata": {
        "id": "U5wJ6W7_oa3x"
      },
      "outputs": [],
      "source": [
        "train_modified2 = pd.concat([train_modified, pd.DataFrame(target)], axis=\"columns\")"
      ]
    },
    {
      "cell_type": "markdown",
      "metadata": {
        "id": "pbHBCHYhEP1e"
      },
      "source": [
        "To avoid copy modification errors and seamlessly proceed to feature engineering, we make deep copies of both data frames and introduce a change of variable."
      ]
    },
    {
      "cell_type": "code",
      "execution_count": 95,
      "metadata": {
        "id": "PVcM0RC4oySV"
      },
      "outputs": [],
      "source": [
        "train = train_modified2.copy(deep=True)\n",
        "test = test_modified.copy(deep=True)"
      ]
    },
    {
      "cell_type": "markdown",
      "metadata": {
        "id": "y93mucUGE2yL"
      },
      "source": [
        "#4.0 Feature Engineering"
      ]
    },
    {
      "cell_type": "markdown",
      "metadata": {
        "id": "YZuYkgqYE1xW"
      },
      "source": [
        "Our dataframes contain date data. This can be mined for the month, the number of the day during the month, and the day of the week for which it stands. Below, we extract this information for future use."
      ]
    },
    {
      "cell_type": "code",
      "execution_count": 99,
      "metadata": {
        "id": "ZBnawXMApFHx"
      },
      "outputs": [],
      "source": [
        "train['S_2'] = train['S_2'].astype('datetime64[ns]')\n",
        "train['month'] = train['S_2'].dt.month\n",
        "train['day'] = train['S_2'].dt.day\n",
        "train['weekday'] = train['S_2'].dt.day_name()\n",
        "train.drop(['S_2'], axis=1, inplace=True)"
      ]
    },
    {
      "cell_type": "code",
      "execution_count": 100,
      "metadata": {
        "id": "Moy61J17pNDB"
      },
      "outputs": [],
      "source": [
        "test['S_2'] = test['S_2'].astype('datetime64[ns]')\n",
        "test['month'] = test['S_2'].dt.month\n",
        "test['day'] = test['S_2'].dt.day\n",
        "test['weekday'] = test['S_2'].dt.day_name()\n",
        "test.drop(['S_2'], axis=1, inplace=True)"
      ]
    },
    {
      "cell_type": "markdown",
      "metadata": {
        "id": "5fDq6aibGDrw"
      },
      "source": [
        "For the curious, the new date information vectors are now appended to our data sets, as shown in the cells to the far right."
      ]
    },
    {
      "cell_type": "code",
      "execution_count": 101,
      "metadata": {
        "colab": {
          "base_uri": "https://localhost:8080/",
          "height": 300
        },
        "id": "aDRrYcGNpUhv",
        "outputId": "566ac49c-a47b-483e-8cd6-894c03fad6f6"
      },
      "outputs": [
        {
          "data": {
            "text/html": [
              "\n",
              "  <div id=\"df-18715cbe-3944-4de6-9079-86c0b166337b\">\n",
              "    <div class=\"colab-df-container\">\n",
              "      <div>\n",
              "<style scoped>\n",
              "    .dataframe tbody tr th:only-of-type {\n",
              "        vertical-align: middle;\n",
              "    }\n",
              "\n",
              "    .dataframe tbody tr th {\n",
              "        vertical-align: top;\n",
              "    }\n",
              "\n",
              "    .dataframe thead th {\n",
              "        text-align: right;\n",
              "    }\n",
              "</style>\n",
              "<table border=\"1\" class=\"dataframe\">\n",
              "  <thead>\n",
              "    <tr style=\"text-align: right;\">\n",
              "      <th></th>\n",
              "      <th>D_145</th>\n",
              "      <th>D_126</th>\n",
              "      <th>B_10</th>\n",
              "      <th>D_83</th>\n",
              "      <th>R_15</th>\n",
              "      <th>D_75</th>\n",
              "      <th>B_30</th>\n",
              "      <th>R_17</th>\n",
              "      <th>R_21</th>\n",
              "      <th>D_89</th>\n",
              "      <th>...</th>\n",
              "      <th>R_25</th>\n",
              "      <th>S_13</th>\n",
              "      <th>D_133</th>\n",
              "      <th>S_15</th>\n",
              "      <th>D_96</th>\n",
              "      <th>D_51</th>\n",
              "      <th>target</th>\n",
              "      <th>month</th>\n",
              "      <th>day</th>\n",
              "      <th>weekday</th>\n",
              "    </tr>\n",
              "  </thead>\n",
              "  <tbody>\n",
              "    <tr>\n",
              "      <th>0</th>\n",
              "      <td>0.002674</td>\n",
              "      <td>1.0</td>\n",
              "      <td>0.096219</td>\n",
              "      <td>0.007043</td>\n",
              "      <td>0.006452</td>\n",
              "      <td>0.069067</td>\n",
              "      <td>0.0</td>\n",
              "      <td>0.000198</td>\n",
              "      <td>0.002450</td>\n",
              "      <td>0.002665</td>\n",
              "      <td>...</td>\n",
              "      <td>0.003647</td>\n",
              "      <td>0.515222</td>\n",
              "      <td>0.004345</td>\n",
              "      <td>0.108271</td>\n",
              "      <td>0.004950</td>\n",
              "      <td>1.335856</td>\n",
              "      <td>0</td>\n",
              "      <td>3</td>\n",
              "      <td>9</td>\n",
              "      <td>Thursday</td>\n",
              "    </tr>\n",
              "    <tr>\n",
              "      <th>1</th>\n",
              "      <td>0.009217</td>\n",
              "      <td>1.0</td>\n",
              "      <td>0.099804</td>\n",
              "      <td>0.007789</td>\n",
              "      <td>0.002332</td>\n",
              "      <td>0.074166</td>\n",
              "      <td>0.0</td>\n",
              "      <td>0.001142</td>\n",
              "      <td>0.002247</td>\n",
              "      <td>0.002508</td>\n",
              "      <td>...</td>\n",
              "      <td>0.008850</td>\n",
              "      <td>0.509048</td>\n",
              "      <td>0.007495</td>\n",
              "      <td>0.101018</td>\n",
              "      <td>0.003180</td>\n",
              "      <td>1.339794</td>\n",
              "      <td>0</td>\n",
              "      <td>4</td>\n",
              "      <td>7</td>\n",
              "      <td>Friday</td>\n",
              "    </tr>\n",
              "    <tr>\n",
              "      <th>2</th>\n",
              "      <td>0.002603</td>\n",
              "      <td>1.0</td>\n",
              "      <td>0.134073</td>\n",
              "      <td>0.004093</td>\n",
              "      <td>0.008358</td>\n",
              "      <td>0.076510</td>\n",
              "      <td>0.0</td>\n",
              "      <td>0.008013</td>\n",
              "      <td>0.007794</td>\n",
              "      <td>0.009634</td>\n",
              "      <td>...</td>\n",
              "      <td>0.009769</td>\n",
              "      <td>0.679257</td>\n",
              "      <td>0.009227</td>\n",
              "      <td>0.103239</td>\n",
              "      <td>0.005433</td>\n",
              "      <td>1.337179</td>\n",
              "      <td>0</td>\n",
              "      <td>5</td>\n",
              "      <td>28</td>\n",
              "      <td>Sunday</td>\n",
              "    </tr>\n",
              "    <tr>\n",
              "      <th>3</th>\n",
              "      <td>0.009600</td>\n",
              "      <td>1.0</td>\n",
              "      <td>0.134437</td>\n",
              "      <td>0.008817</td>\n",
              "      <td>0.007364</td>\n",
              "      <td>0.071547</td>\n",
              "      <td>0.0</td>\n",
              "      <td>0.009455</td>\n",
              "      <td>0.007686</td>\n",
              "      <td>0.007791</td>\n",
              "      <td>...</td>\n",
              "      <td>0.004858</td>\n",
              "      <td>0.515282</td>\n",
              "      <td>0.007206</td>\n",
              "      <td>0.206394</td>\n",
              "      <td>0.000063</td>\n",
              "      <td>1.339909</td>\n",
              "      <td>0</td>\n",
              "      <td>6</td>\n",
              "      <td>13</td>\n",
              "      <td>Tuesday</td>\n",
              "    </tr>\n",
              "    <tr>\n",
              "      <th>4</th>\n",
              "      <td>0.009827</td>\n",
              "      <td>1.0</td>\n",
              "      <td>0.121518</td>\n",
              "      <td>0.001845</td>\n",
              "      <td>0.002470</td>\n",
              "      <td>0.074432</td>\n",
              "      <td>0.0</td>\n",
              "      <td>0.002019</td>\n",
              "      <td>0.009656</td>\n",
              "      <td>0.005158</td>\n",
              "      <td>...</td>\n",
              "      <td>0.002983</td>\n",
              "      <td>0.507712</td>\n",
              "      <td>0.006312</td>\n",
              "      <td>0.106020</td>\n",
              "      <td>0.000535</td>\n",
              "      <td>1.341735</td>\n",
              "      <td>0</td>\n",
              "      <td>7</td>\n",
              "      <td>16</td>\n",
              "      <td>Sunday</td>\n",
              "    </tr>\n",
              "  </tbody>\n",
              "</table>\n",
              "<p>5 rows × 146 columns</p>\n",
              "</div>\n",
              "      <button class=\"colab-df-convert\" onclick=\"convertToInteractive('df-18715cbe-3944-4de6-9079-86c0b166337b')\"\n",
              "              title=\"Convert this dataframe to an interactive table.\"\n",
              "              style=\"display:none;\">\n",
              "        \n",
              "  <svg xmlns=\"http://www.w3.org/2000/svg\" height=\"24px\"viewBox=\"0 0 24 24\"\n",
              "       width=\"24px\">\n",
              "    <path d=\"M0 0h24v24H0V0z\" fill=\"none\"/>\n",
              "    <path d=\"M18.56 5.44l.94 2.06.94-2.06 2.06-.94-2.06-.94-.94-2.06-.94 2.06-2.06.94zm-11 1L8.5 8.5l.94-2.06 2.06-.94-2.06-.94L8.5 2.5l-.94 2.06-2.06.94zm10 10l.94 2.06.94-2.06 2.06-.94-2.06-.94-.94-2.06-.94 2.06-2.06.94z\"/><path d=\"M17.41 7.96l-1.37-1.37c-.4-.4-.92-.59-1.43-.59-.52 0-1.04.2-1.43.59L10.3 9.45l-7.72 7.72c-.78.78-.78 2.05 0 2.83L4 21.41c.39.39.9.59 1.41.59.51 0 1.02-.2 1.41-.59l7.78-7.78 2.81-2.81c.8-.78.8-2.07 0-2.86zM5.41 20L4 18.59l7.72-7.72 1.47 1.35L5.41 20z\"/>\n",
              "  </svg>\n",
              "      </button>\n",
              "      \n",
              "  <style>\n",
              "    .colab-df-container {\n",
              "      display:flex;\n",
              "      flex-wrap:wrap;\n",
              "      gap: 12px;\n",
              "    }\n",
              "\n",
              "    .colab-df-convert {\n",
              "      background-color: #E8F0FE;\n",
              "      border: none;\n",
              "      border-radius: 50%;\n",
              "      cursor: pointer;\n",
              "      display: none;\n",
              "      fill: #1967D2;\n",
              "      height: 32px;\n",
              "      padding: 0 0 0 0;\n",
              "      width: 32px;\n",
              "    }\n",
              "\n",
              "    .colab-df-convert:hover {\n",
              "      background-color: #E2EBFA;\n",
              "      box-shadow: 0px 1px 2px rgba(60, 64, 67, 0.3), 0px 1px 3px 1px rgba(60, 64, 67, 0.15);\n",
              "      fill: #174EA6;\n",
              "    }\n",
              "\n",
              "    [theme=dark] .colab-df-convert {\n",
              "      background-color: #3B4455;\n",
              "      fill: #D2E3FC;\n",
              "    }\n",
              "\n",
              "    [theme=dark] .colab-df-convert:hover {\n",
              "      background-color: #434B5C;\n",
              "      box-shadow: 0px 1px 3px 1px rgba(0, 0, 0, 0.15);\n",
              "      filter: drop-shadow(0px 1px 2px rgba(0, 0, 0, 0.3));\n",
              "      fill: #FFFFFF;\n",
              "    }\n",
              "  </style>\n",
              "\n",
              "      <script>\n",
              "        const buttonEl =\n",
              "          document.querySelector('#df-18715cbe-3944-4de6-9079-86c0b166337b button.colab-df-convert');\n",
              "        buttonEl.style.display =\n",
              "          google.colab.kernel.accessAllowed ? 'block' : 'none';\n",
              "\n",
              "        async function convertToInteractive(key) {\n",
              "          const element = document.querySelector('#df-18715cbe-3944-4de6-9079-86c0b166337b');\n",
              "          const dataTable =\n",
              "            await google.colab.kernel.invokeFunction('convertToInteractive',\n",
              "                                                     [key], {});\n",
              "          if (!dataTable) return;\n",
              "\n",
              "          const docLinkHtml = 'Like what you see? Visit the ' +\n",
              "            '<a target=\"_blank\" href=https://colab.research.google.com/notebooks/data_table.ipynb>data table notebook</a>'\n",
              "            + ' to learn more about interactive tables.';\n",
              "          element.innerHTML = '';\n",
              "          dataTable['output_type'] = 'display_data';\n",
              "          await google.colab.output.renderOutput(dataTable, element);\n",
              "          const docLink = document.createElement('div');\n",
              "          docLink.innerHTML = docLinkHtml;\n",
              "          element.appendChild(docLink);\n",
              "        }\n",
              "      </script>\n",
              "    </div>\n",
              "  </div>\n",
              "  "
            ],
            "text/plain": [
              "      D_145  D_126      B_10      D_83      R_15      D_75  B_30      R_17  \\\n",
              "0  0.002674    1.0  0.096219  0.007043  0.006452  0.069067   0.0  0.000198   \n",
              "1  0.009217    1.0  0.099804  0.007789  0.002332  0.074166   0.0  0.001142   \n",
              "2  0.002603    1.0  0.134073  0.004093  0.008358  0.076510   0.0  0.008013   \n",
              "3  0.009600    1.0  0.134437  0.008817  0.007364  0.071547   0.0  0.009455   \n",
              "4  0.009827    1.0  0.121518  0.001845  0.002470  0.074432   0.0  0.002019   \n",
              "\n",
              "       R_21      D_89  ...      R_25      S_13     D_133      S_15      D_96  \\\n",
              "0  0.002450  0.002665  ...  0.003647  0.515222  0.004345  0.108271  0.004950   \n",
              "1  0.002247  0.002508  ...  0.008850  0.509048  0.007495  0.101018  0.003180   \n",
              "2  0.007794  0.009634  ...  0.009769  0.679257  0.009227  0.103239  0.005433   \n",
              "3  0.007686  0.007791  ...  0.004858  0.515282  0.007206  0.206394  0.000063   \n",
              "4  0.009656  0.005158  ...  0.002983  0.507712  0.006312  0.106020  0.000535   \n",
              "\n",
              "       D_51  target  month  day   weekday  \n",
              "0  1.335856       0      3    9  Thursday  \n",
              "1  1.339794       0      4    7    Friday  \n",
              "2  1.337179       0      5   28    Sunday  \n",
              "3  1.339909       0      6   13   Tuesday  \n",
              "4  1.341735       0      7   16    Sunday  \n",
              "\n",
              "[5 rows x 146 columns]"
            ]
          },
          "execution_count": 101,
          "metadata": {},
          "output_type": "execute_result"
        }
      ],
      "source": [
        "train.loc[:,'D_145':].head()"
      ]
    },
    {
      "cell_type": "code",
      "execution_count": 102,
      "metadata": {
        "colab": {
          "base_uri": "https://localhost:8080/",
          "height": 300
        },
        "id": "o_q1b_yQpZdw",
        "outputId": "857e6d4e-c0a3-4f57-c8b2-0d304965e67b"
      },
      "outputs": [
        {
          "data": {
            "text/html": [
              "\n",
              "  <div id=\"df-db070187-3291-49dc-9691-7af25ee942f3\">\n",
              "    <div class=\"colab-df-container\">\n",
              "      <div>\n",
              "<style scoped>\n",
              "    .dataframe tbody tr th:only-of-type {\n",
              "        vertical-align: middle;\n",
              "    }\n",
              "\n",
              "    .dataframe tbody tr th {\n",
              "        vertical-align: top;\n",
              "    }\n",
              "\n",
              "    .dataframe thead th {\n",
              "        text-align: right;\n",
              "    }\n",
              "</style>\n",
              "<table border=\"1\" class=\"dataframe\">\n",
              "  <thead>\n",
              "    <tr style=\"text-align: right;\">\n",
              "      <th></th>\n",
              "      <th>D_145</th>\n",
              "      <th>D_126</th>\n",
              "      <th>B_10</th>\n",
              "      <th>D_83</th>\n",
              "      <th>R_15</th>\n",
              "      <th>D_75</th>\n",
              "      <th>B_30</th>\n",
              "      <th>R_17</th>\n",
              "      <th>R_21</th>\n",
              "      <th>D_89</th>\n",
              "      <th>...</th>\n",
              "      <th>B_33</th>\n",
              "      <th>R_25</th>\n",
              "      <th>S_13</th>\n",
              "      <th>D_133</th>\n",
              "      <th>S_15</th>\n",
              "      <th>D_96</th>\n",
              "      <th>D_51</th>\n",
              "      <th>month</th>\n",
              "      <th>day</th>\n",
              "      <th>weekday</th>\n",
              "    </tr>\n",
              "  </thead>\n",
              "  <tbody>\n",
              "    <tr>\n",
              "      <th>0</th>\n",
              "      <td>NaN</td>\n",
              "      <td>0.0</td>\n",
              "      <td>-0.002919</td>\n",
              "      <td>NaN</td>\n",
              "      <td>0.004144</td>\n",
              "      <td>0.204590</td>\n",
              "      <td>0.0</td>\n",
              "      <td>0.008908</td>\n",
              "      <td>0.004635</td>\n",
              "      <td>0.006653</td>\n",
              "      <td>...</td>\n",
              "      <td>1.003810</td>\n",
              "      <td>0.008442</td>\n",
              "      <td>0.409411</td>\n",
              "      <td>0.007082</td>\n",
              "      <td>0.400602</td>\n",
              "      <td>0.009575</td>\n",
              "      <td>0.008718</td>\n",
              "      <td>2</td>\n",
              "      <td>19</td>\n",
              "      <td>Tuesday</td>\n",
              "    </tr>\n",
              "    <tr>\n",
              "      <th>1</th>\n",
              "      <td>0.001460</td>\n",
              "      <td>0.0</td>\n",
              "      <td>0.031222</td>\n",
              "      <td>NaN</td>\n",
              "      <td>0.002083</td>\n",
              "      <td>0.206570</td>\n",
              "      <td>0.0</td>\n",
              "      <td>0.000843</td>\n",
              "      <td>0.000574</td>\n",
              "      <td>0.004394</td>\n",
              "      <td>...</td>\n",
              "      <td>1.004629</td>\n",
              "      <td>0.006347</td>\n",
              "      <td>0.561424</td>\n",
              "      <td>0.007188</td>\n",
              "      <td>0.605887</td>\n",
              "      <td>0.006952</td>\n",
              "      <td>0.003146</td>\n",
              "      <td>3</td>\n",
              "      <td>25</td>\n",
              "      <td>Monday</td>\n",
              "    </tr>\n",
              "    <tr>\n",
              "      <th>2</th>\n",
              "      <td>0.006482</td>\n",
              "      <td>0.0</td>\n",
              "      <td>0.035532</td>\n",
              "      <td>NaN</td>\n",
              "      <td>0.001140</td>\n",
              "      <td>0.204640</td>\n",
              "      <td>0.0</td>\n",
              "      <td>0.000337</td>\n",
              "      <td>0.006438</td>\n",
              "      <td>0.004019</td>\n",
              "      <td>...</td>\n",
              "      <td>1.007063</td>\n",
              "      <td>0.009021</td>\n",
              "      <td>0.692383</td>\n",
              "      <td>0.008436</td>\n",
              "      <td>0.601936</td>\n",
              "      <td>0.003944</td>\n",
              "      <td>0.006082</td>\n",
              "      <td>4</td>\n",
              "      <td>25</td>\n",
              "      <td>Thursday</td>\n",
              "    </tr>\n",
              "    <tr>\n",
              "      <th>3</th>\n",
              "      <td>0.007855</td>\n",
              "      <td>0.0</td>\n",
              "      <td>0.043155</td>\n",
              "      <td>NaN</td>\n",
              "      <td>0.006834</td>\n",
              "      <td>0.203464</td>\n",
              "      <td>0.0</td>\n",
              "      <td>0.003653</td>\n",
              "      <td>0.002879</td>\n",
              "      <td>0.003135</td>\n",
              "      <td>...</td>\n",
              "      <td>1.009508</td>\n",
              "      <td>0.000756</td>\n",
              "      <td>0.690850</td>\n",
              "      <td>0.002422</td>\n",
              "      <td>0.508140</td>\n",
              "      <td>0.001333</td>\n",
              "      <td>0.004940</td>\n",
              "      <td>5</td>\n",
              "      <td>20</td>\n",
              "      <td>Monday</td>\n",
              "    </tr>\n",
              "    <tr>\n",
              "      <th>4</th>\n",
              "      <td>0.009471</td>\n",
              "      <td>0.0</td>\n",
              "      <td>0.063187</td>\n",
              "      <td>0.001843</td>\n",
              "      <td>0.005148</td>\n",
              "      <td>0.201180</td>\n",
              "      <td>0.0</td>\n",
              "      <td>0.003520</td>\n",
              "      <td>0.000445</td>\n",
              "      <td>0.004443</td>\n",
              "      <td>...</td>\n",
              "      <td>1.001869</td>\n",
              "      <td>0.003849</td>\n",
              "      <td>0.691550</td>\n",
              "      <td>0.000302</td>\n",
              "      <td>0.402430</td>\n",
              "      <td>0.009160</td>\n",
              "      <td>0.003320</td>\n",
              "      <td>6</td>\n",
              "      <td>15</td>\n",
              "      <td>Saturday</td>\n",
              "    </tr>\n",
              "  </tbody>\n",
              "</table>\n",
              "<p>5 rows × 145 columns</p>\n",
              "</div>\n",
              "      <button class=\"colab-df-convert\" onclick=\"convertToInteractive('df-db070187-3291-49dc-9691-7af25ee942f3')\"\n",
              "              title=\"Convert this dataframe to an interactive table.\"\n",
              "              style=\"display:none;\">\n",
              "        \n",
              "  <svg xmlns=\"http://www.w3.org/2000/svg\" height=\"24px\"viewBox=\"0 0 24 24\"\n",
              "       width=\"24px\">\n",
              "    <path d=\"M0 0h24v24H0V0z\" fill=\"none\"/>\n",
              "    <path d=\"M18.56 5.44l.94 2.06.94-2.06 2.06-.94-2.06-.94-.94-2.06-.94 2.06-2.06.94zm-11 1L8.5 8.5l.94-2.06 2.06-.94-2.06-.94L8.5 2.5l-.94 2.06-2.06.94zm10 10l.94 2.06.94-2.06 2.06-.94-2.06-.94-.94-2.06-.94 2.06-2.06.94z\"/><path d=\"M17.41 7.96l-1.37-1.37c-.4-.4-.92-.59-1.43-.59-.52 0-1.04.2-1.43.59L10.3 9.45l-7.72 7.72c-.78.78-.78 2.05 0 2.83L4 21.41c.39.39.9.59 1.41.59.51 0 1.02-.2 1.41-.59l7.78-7.78 2.81-2.81c.8-.78.8-2.07 0-2.86zM5.41 20L4 18.59l7.72-7.72 1.47 1.35L5.41 20z\"/>\n",
              "  </svg>\n",
              "      </button>\n",
              "      \n",
              "  <style>\n",
              "    .colab-df-container {\n",
              "      display:flex;\n",
              "      flex-wrap:wrap;\n",
              "      gap: 12px;\n",
              "    }\n",
              "\n",
              "    .colab-df-convert {\n",
              "      background-color: #E8F0FE;\n",
              "      border: none;\n",
              "      border-radius: 50%;\n",
              "      cursor: pointer;\n",
              "      display: none;\n",
              "      fill: #1967D2;\n",
              "      height: 32px;\n",
              "      padding: 0 0 0 0;\n",
              "      width: 32px;\n",
              "    }\n",
              "\n",
              "    .colab-df-convert:hover {\n",
              "      background-color: #E2EBFA;\n",
              "      box-shadow: 0px 1px 2px rgba(60, 64, 67, 0.3), 0px 1px 3px 1px rgba(60, 64, 67, 0.15);\n",
              "      fill: #174EA6;\n",
              "    }\n",
              "\n",
              "    [theme=dark] .colab-df-convert {\n",
              "      background-color: #3B4455;\n",
              "      fill: #D2E3FC;\n",
              "    }\n",
              "\n",
              "    [theme=dark] .colab-df-convert:hover {\n",
              "      background-color: #434B5C;\n",
              "      box-shadow: 0px 1px 3px 1px rgba(0, 0, 0, 0.15);\n",
              "      filter: drop-shadow(0px 1px 2px rgba(0, 0, 0, 0.3));\n",
              "      fill: #FFFFFF;\n",
              "    }\n",
              "  </style>\n",
              "\n",
              "      <script>\n",
              "        const buttonEl =\n",
              "          document.querySelector('#df-db070187-3291-49dc-9691-7af25ee942f3 button.colab-df-convert');\n",
              "        buttonEl.style.display =\n",
              "          google.colab.kernel.accessAllowed ? 'block' : 'none';\n",
              "\n",
              "        async function convertToInteractive(key) {\n",
              "          const element = document.querySelector('#df-db070187-3291-49dc-9691-7af25ee942f3');\n",
              "          const dataTable =\n",
              "            await google.colab.kernel.invokeFunction('convertToInteractive',\n",
              "                                                     [key], {});\n",
              "          if (!dataTable) return;\n",
              "\n",
              "          const docLinkHtml = 'Like what you see? Visit the ' +\n",
              "            '<a target=\"_blank\" href=https://colab.research.google.com/notebooks/data_table.ipynb>data table notebook</a>'\n",
              "            + ' to learn more about interactive tables.';\n",
              "          element.innerHTML = '';\n",
              "          dataTable['output_type'] = 'display_data';\n",
              "          await google.colab.output.renderOutput(dataTable, element);\n",
              "          const docLink = document.createElement('div');\n",
              "          docLink.innerHTML = docLinkHtml;\n",
              "          element.appendChild(docLink);\n",
              "        }\n",
              "      </script>\n",
              "    </div>\n",
              "  </div>\n",
              "  "
            ],
            "text/plain": [
              "      D_145  D_126      B_10      D_83      R_15      D_75  B_30      R_17  \\\n",
              "0       NaN    0.0 -0.002919       NaN  0.004144  0.204590   0.0  0.008908   \n",
              "1  0.001460    0.0  0.031222       NaN  0.002083  0.206570   0.0  0.000843   \n",
              "2  0.006482    0.0  0.035532       NaN  0.001140  0.204640   0.0  0.000337   \n",
              "3  0.007855    0.0  0.043155       NaN  0.006834  0.203464   0.0  0.003653   \n",
              "4  0.009471    0.0  0.063187  0.001843  0.005148  0.201180   0.0  0.003520   \n",
              "\n",
              "       R_21      D_89  ...      B_33      R_25      S_13     D_133      S_15  \\\n",
              "0  0.004635  0.006653  ...  1.003810  0.008442  0.409411  0.007082  0.400602   \n",
              "1  0.000574  0.004394  ...  1.004629  0.006347  0.561424  0.007188  0.605887   \n",
              "2  0.006438  0.004019  ...  1.007063  0.009021  0.692383  0.008436  0.601936   \n",
              "3  0.002879  0.003135  ...  1.009508  0.000756  0.690850  0.002422  0.508140   \n",
              "4  0.000445  0.004443  ...  1.001869  0.003849  0.691550  0.000302  0.402430   \n",
              "\n",
              "       D_96      D_51  month  day   weekday  \n",
              "0  0.009575  0.008718      2   19   Tuesday  \n",
              "1  0.006952  0.003146      3   25    Monday  \n",
              "2  0.003944  0.006082      4   25  Thursday  \n",
              "3  0.001333  0.004940      5   20    Monday  \n",
              "4  0.009160  0.003320      6   15  Saturday  \n",
              "\n",
              "[5 rows x 145 columns]"
            ]
          },
          "execution_count": 102,
          "metadata": {},
          "output_type": "execute_result"
        }
      ],
      "source": [
        "test.loc[:,'D_145':].head()"
      ]
    },
    {
      "cell_type": "markdown",
      "metadata": {
        "id": "ITWC60U6GkUz"
      },
      "source": [
        "We know which columns contain continuous data and which features are categorical. We separate the two here and fill the missing data in continuous columns with each columns' mean. The mean of any relevant training set column is also placed in the empty slots found in that column. This allows us to avoid data leakage.\n",
        "\n",
        "The cell immmediately below illustrates our work on features containing continuous values."
      ]
    },
    {
      "cell_type": "code",
      "execution_count": 103,
      "metadata": {
        "id": "cIHAICJ5pyVs"
      },
      "outputs": [],
      "source": [
        "# fill select columns with mean\n",
        "revised_columns = cols_to_keep - set(['D_63', 'D_64', 'D_68', 'B_30', 'B_31', 'B_38', 'D_114', 'D_116', 'D_117', 'D_120', 'D_126', 'S_2'])\n",
        "revised_columns = list(revised_columns)\n",
        "train[revised_columns] = train[revised_columns].fillna(value=train[revised_columns].mean())\n",
        "# missing test values replaced with train column means to prevent data leakage\n",
        "test[revised_columns] = test[revised_columns].fillna(value=train[revised_columns].mean())"
      ]
    },
    {
      "cell_type": "markdown",
      "metadata": {
        "id": "nfqmFjJ8Hhqf"
      },
      "source": [
        "Next, we illustrate how we cope with missing categorical data. Specifically, we find the most frequently seen data point in the training set for each categorical vector and use it to fill-in missing data. We execute this procedure on both our training and test sets."
      ]
    },
    {
      "cell_type": "code",
      "execution_count": 104,
      "metadata": {
        "colab": {
          "base_uri": "https://localhost:8080/"
        },
        "id": "YEpB1ihlp7OI",
        "outputId": "9520050f-05dc-4f2f-d9c2-0fbc1f7ac1f1"
      },
      "outputs": [
        {
          "name": "stdout",
          "output_type": "stream",
          "text": [
            "Training Set Missing Values Imputed.\n",
            "\n",
            "\n",
            "Missing values in test set replaced with mean of training set to prevent data leakage.\n"
          ]
        }
      ],
      "source": [
        "train['D_63'].fillna('CO', inplace=True)\n",
        "train['D_64'].fillna('O', inplace=True)\n",
        "train['D_68'].fillna(6, inplace=True)\n",
        "train['B_30'].fillna(0, inplace=True)\n",
        "train['B_31'].fillna(1, inplace=True)\n",
        "train['B_38'].fillna(2, inplace=True)\n",
        "train['D_114'].fillna(1, inplace=True)\n",
        "train['D_116'].fillna(0, inplace=True)\n",
        "train['D_117'].fillna(-1, inplace=True)\n",
        "train['D_120'].fillna(0, inplace=True)\n",
        "train['D_126'].fillna(1, inplace=True)\n",
        "print(\"Training Set Missing Values Imputed.\")\n",
        "print('\\n')\n",
        "test['D_63'].fillna('CO', inplace=True)\n",
        "test['D_64'].fillna('O', inplace=True)\n",
        "test['D_68'].fillna(6, inplace=True)\n",
        "test['B_30'].fillna(0, inplace=True)\n",
        "test['B_31'].fillna(1, inplace=True)\n",
        "test['B_38'].fillna(2, inplace=True)\n",
        "test['D_114'].fillna(1, inplace=True)\n",
        "test['D_116'].fillna(0, inplace=True)\n",
        "test['D_117'].fillna(-1, inplace=True)\n",
        "test['D_120'].fillna(0, inplace=True)\n",
        "test['D_126'].fillna(1, inplace=True)\n",
        "print(\"Missing values in test set replaced with mean of training set to prevent data leakage.\")"
      ]
    },
    {
      "cell_type": "markdown",
      "metadata": {
        "id": "lp90VrIDOy58"
      },
      "source": [
        "Both numerical and string data representing categorical information must be transformed to be useful in this context. Below, we import the binary encoder used to perform the transformation. Note, while we typically make a practice of doing all imports at the start of our notebook, issues with loading and working with PyCaret for the first time made this the most logical place to import encoder technology."
      ]
    },
    {
      "cell_type": "code",
      "execution_count": 105,
      "metadata": {
        "id": "F8ZtX_q1qDe_"
      },
      "outputs": [],
      "source": [
        "%pip install category_encoders --quiet\n",
        "import category_encoders\n",
        "from category_encoders import BinaryEncoder"
      ]
    },
    {
      "cell_type": "markdown",
      "metadata": {
        "id": "ihQskAnRPtHf"
      },
      "source": [
        "Here, we specify the columns whose encoding we will change, instantiate an encoder for both the training and test sets, and transform our data."
      ]
    },
    {
      "cell_type": "code",
      "execution_count": 106,
      "metadata": {
        "id": "SMyQ7f2wqObT"
      },
      "outputs": [],
      "source": [
        "cols = ['D_63', 'D_64', 'D_68', 'B_30', 'B_31', 'B_38', 'D_114', 'D_116', 'D_117', 'D_120', 'D_126', 'month', 'day', 'weekday']\n",
        "encoder = BinaryEncoder(cols = cols, return_df = True)\n",
        "train = encoder.fit_transform(train)\n",
        "train = train.copy(deep=True)\n",
        "\n",
        "#encoder2 = BinaryEncoder(cols = cols, return_df = True)\n",
        "test = encoder.fit_transform(test)\n",
        "test = test.copy(deep = True)"
      ]
    },
    {
      "cell_type": "markdown",
      "metadata": {
        "id": "v9OLHKPgRudV"
      },
      "source": [
        "# 5.0 Modeling and Model Testing"
      ]
    },
    {
      "cell_type": "markdown",
      "metadata": {
        "id": "QzPsezy4R6bf"
      },
      "source": [
        "PyCaret is designed to automatically do everything we just accomplished manually. This begs the question: Did we just waste our time? The answer is a firm, \"no.\" Using black boxes is horrible practice. Consequently, we've limited our use of PyCaret, restricting it to the modeling phase of our study. PyCaret's modeling capabilities are built on familiar scikit-learn technology. Hence, there are no black boxes, as we have used scikit-learn often in the past."
      ]
    },
    {
      "cell_type": "markdown",
      "metadata": {
        "id": "PhUjmvPRSjcO"
      },
      "source": [
        "Though we have a test set, PyCaret splits the data in its own way for training and testing. This is what occurs in the following cell. More importantly, it allows us to use the training set supplied by the Kaggle site as yet another test set. This is a marvelous turn of events because, typically, prototyping involves only one test set, which can cause data leakage issues if the test set is used more than once."
      ]
    },
    {
      "cell_type": "code",
      "execution_count": 107,
      "metadata": {
        "colab": {
          "base_uri": "https://localhost:8080/"
        },
        "id": "UzmcMsp_qqGI",
        "outputId": "ed85750e-50ef-47d1-fc58-afbbb245ac37"
      },
      "outputs": [
        {
          "name": "stdout",
          "output_type": "stream",
          "text": [
            "Data for Modeling: (7000, 181)\n",
            "Unseen Data For Predictions: (3000, 181)\n"
          ]
        }
      ],
      "source": [
        "y = train['target']\n",
        "X_pycaret = train.copy(deep=True)\n",
        "#X_pycaret = X_pycaret.drop(['Count', 'customer_ID'], axis=1)\n",
        "data = X_pycaret.sample(frac=0.70, random_state=144).reset_index(drop=True)\n",
        "data_unseen = X_pycaret.drop(data.index).reset_index(drop=True)\n",
        "\n",
        "print('Data for Modeling: ' + str(data.shape))\n",
        "print('Unseen Data For Predictions: ' + str(data_unseen.shape))"
      ]
    },
    {
      "cell_type": "code",
      "execution_count": 108,
      "metadata": {
        "colab": {
          "base_uri": "https://localhost:8080/",
          "height": 300
        },
        "id": "3s2lSWtn9hno",
        "outputId": "9b2245cb-248e-41aa-c420-c56b4696a1e5"
      },
      "outputs": [
        {
          "data": {
            "text/html": [
              "\n",
              "  <div id=\"df-8aea142b-a945-47f0-bc68-bbca5bc0099f\">\n",
              "    <div class=\"colab-df-container\">\n",
              "      <div>\n",
              "<style scoped>\n",
              "    .dataframe tbody tr th:only-of-type {\n",
              "        vertical-align: middle;\n",
              "    }\n",
              "\n",
              "    .dataframe tbody tr th {\n",
              "        vertical-align: top;\n",
              "    }\n",
              "\n",
              "    .dataframe thead th {\n",
              "        text-align: right;\n",
              "    }\n",
              "</style>\n",
              "<table border=\"1\" class=\"dataframe\">\n",
              "  <thead>\n",
              "    <tr style=\"text-align: right;\">\n",
              "      <th></th>\n",
              "      <th>D_52</th>\n",
              "      <th>R_2</th>\n",
              "      <th>B_11</th>\n",
              "      <th>S_16</th>\n",
              "      <th>B_4</th>\n",
              "      <th>S_12</th>\n",
              "      <th>D_48</th>\n",
              "      <th>D_62</th>\n",
              "      <th>P_4</th>\n",
              "      <th>R_6</th>\n",
              "      <th>...</th>\n",
              "      <th>month_2</th>\n",
              "      <th>month_3</th>\n",
              "      <th>day_0</th>\n",
              "      <th>day_1</th>\n",
              "      <th>day_2</th>\n",
              "      <th>day_3</th>\n",
              "      <th>day_4</th>\n",
              "      <th>weekday_0</th>\n",
              "      <th>weekday_1</th>\n",
              "      <th>weekday_2</th>\n",
              "    </tr>\n",
              "  </thead>\n",
              "  <tbody>\n",
              "    <tr>\n",
              "      <th>0</th>\n",
              "      <td>0.398898</td>\n",
              "      <td>0.002515</td>\n",
              "      <td>0.030000</td>\n",
              "      <td>0.003817</td>\n",
              "      <td>0.046623</td>\n",
              "      <td>0.213628</td>\n",
              "      <td>0.086219</td>\n",
              "      <td>0.630733</td>\n",
              "      <td>0.003984</td>\n",
              "      <td>0.000822</td>\n",
              "      <td>...</td>\n",
              "      <td>1</td>\n",
              "      <td>0</td>\n",
              "      <td>1</td>\n",
              "      <td>0</td>\n",
              "      <td>1</td>\n",
              "      <td>0</td>\n",
              "      <td>0</td>\n",
              "      <td>1</td>\n",
              "      <td>1</td>\n",
              "      <td>0</td>\n",
              "    </tr>\n",
              "    <tr>\n",
              "      <th>1</th>\n",
              "      <td>0.398679</td>\n",
              "      <td>0.008815</td>\n",
              "      <td>0.044275</td>\n",
              "      <td>0.000141</td>\n",
              "      <td>0.064387</td>\n",
              "      <td>0.206849</td>\n",
              "      <td>0.064676</td>\n",
              "      <td>0.635885</td>\n",
              "      <td>0.003244</td>\n",
              "      <td>0.004779</td>\n",
              "      <td>...</td>\n",
              "      <td>1</td>\n",
              "      <td>1</td>\n",
              "      <td>1</td>\n",
              "      <td>1</td>\n",
              "      <td>0</td>\n",
              "      <td>0</td>\n",
              "      <td>0</td>\n",
              "      <td>1</td>\n",
              "      <td>0</td>\n",
              "      <td>0</td>\n",
              "    </tr>\n",
              "    <tr>\n",
              "      <th>2</th>\n",
              "      <td>0.402825</td>\n",
              "      <td>0.007137</td>\n",
              "      <td>0.013518</td>\n",
              "      <td>0.004640</td>\n",
              "      <td>0.052499</td>\n",
              "      <td>0.221441</td>\n",
              "      <td>0.022703</td>\n",
              "      <td>0.629337</td>\n",
              "      <td>0.006916</td>\n",
              "      <td>0.004221</td>\n",
              "      <td>...</td>\n",
              "      <td>0</td>\n",
              "      <td>0</td>\n",
              "      <td>1</td>\n",
              "      <td>1</td>\n",
              "      <td>0</td>\n",
              "      <td>1</td>\n",
              "      <td>1</td>\n",
              "      <td>1</td>\n",
              "      <td>0</td>\n",
              "      <td>0</td>\n",
              "    </tr>\n",
              "    <tr>\n",
              "      <th>3</th>\n",
              "      <td>0.400943</td>\n",
              "      <td>0.007976</td>\n",
              "      <td>0.018204</td>\n",
              "      <td>0.003500</td>\n",
              "      <td>0.070618</td>\n",
              "      <td>0.325719</td>\n",
              "      <td>0.021549</td>\n",
              "      <td>0.631458</td>\n",
              "      <td>0.004984</td>\n",
              "      <td>0.007823</td>\n",
              "      <td>...</td>\n",
              "      <td>0</td>\n",
              "      <td>1</td>\n",
              "      <td>1</td>\n",
              "      <td>0</td>\n",
              "      <td>1</td>\n",
              "      <td>1</td>\n",
              "      <td>0</td>\n",
              "      <td>1</td>\n",
              "      <td>1</td>\n",
              "      <td>1</td>\n",
              "    </tr>\n",
              "    <tr>\n",
              "      <th>4</th>\n",
              "      <td>0.096993</td>\n",
              "      <td>0.006018</td>\n",
              "      <td>0.005175</td>\n",
              "      <td>0.009030</td>\n",
              "      <td>0.009390</td>\n",
              "      <td>0.187263</td>\n",
              "      <td>0.961863</td>\n",
              "      <td>0.185423</td>\n",
              "      <td>0.958002</td>\n",
              "      <td>0.007629</td>\n",
              "      <td>...</td>\n",
              "      <td>1</td>\n",
              "      <td>0</td>\n",
              "      <td>1</td>\n",
              "      <td>1</td>\n",
              "      <td>0</td>\n",
              "      <td>1</td>\n",
              "      <td>0</td>\n",
              "      <td>1</td>\n",
              "      <td>1</td>\n",
              "      <td>1</td>\n",
              "    </tr>\n",
              "  </tbody>\n",
              "</table>\n",
              "<p>5 rows × 181 columns</p>\n",
              "</div>\n",
              "      <button class=\"colab-df-convert\" onclick=\"convertToInteractive('df-8aea142b-a945-47f0-bc68-bbca5bc0099f')\"\n",
              "              title=\"Convert this dataframe to an interactive table.\"\n",
              "              style=\"display:none;\">\n",
              "        \n",
              "  <svg xmlns=\"http://www.w3.org/2000/svg\" height=\"24px\"viewBox=\"0 0 24 24\"\n",
              "       width=\"24px\">\n",
              "    <path d=\"M0 0h24v24H0V0z\" fill=\"none\"/>\n",
              "    <path d=\"M18.56 5.44l.94 2.06.94-2.06 2.06-.94-2.06-.94-.94-2.06-.94 2.06-2.06.94zm-11 1L8.5 8.5l.94-2.06 2.06-.94-2.06-.94L8.5 2.5l-.94 2.06-2.06.94zm10 10l.94 2.06.94-2.06 2.06-.94-2.06-.94-.94-2.06-.94 2.06-2.06.94z\"/><path d=\"M17.41 7.96l-1.37-1.37c-.4-.4-.92-.59-1.43-.59-.52 0-1.04.2-1.43.59L10.3 9.45l-7.72 7.72c-.78.78-.78 2.05 0 2.83L4 21.41c.39.39.9.59 1.41.59.51 0 1.02-.2 1.41-.59l7.78-7.78 2.81-2.81c.8-.78.8-2.07 0-2.86zM5.41 20L4 18.59l7.72-7.72 1.47 1.35L5.41 20z\"/>\n",
              "  </svg>\n",
              "      </button>\n",
              "      \n",
              "  <style>\n",
              "    .colab-df-container {\n",
              "      display:flex;\n",
              "      flex-wrap:wrap;\n",
              "      gap: 12px;\n",
              "    }\n",
              "\n",
              "    .colab-df-convert {\n",
              "      background-color: #E8F0FE;\n",
              "      border: none;\n",
              "      border-radius: 50%;\n",
              "      cursor: pointer;\n",
              "      display: none;\n",
              "      fill: #1967D2;\n",
              "      height: 32px;\n",
              "      padding: 0 0 0 0;\n",
              "      width: 32px;\n",
              "    }\n",
              "\n",
              "    .colab-df-convert:hover {\n",
              "      background-color: #E2EBFA;\n",
              "      box-shadow: 0px 1px 2px rgba(60, 64, 67, 0.3), 0px 1px 3px 1px rgba(60, 64, 67, 0.15);\n",
              "      fill: #174EA6;\n",
              "    }\n",
              "\n",
              "    [theme=dark] .colab-df-convert {\n",
              "      background-color: #3B4455;\n",
              "      fill: #D2E3FC;\n",
              "    }\n",
              "\n",
              "    [theme=dark] .colab-df-convert:hover {\n",
              "      background-color: #434B5C;\n",
              "      box-shadow: 0px 1px 3px 1px rgba(0, 0, 0, 0.15);\n",
              "      filter: drop-shadow(0px 1px 2px rgba(0, 0, 0, 0.3));\n",
              "      fill: #FFFFFF;\n",
              "    }\n",
              "  </style>\n",
              "\n",
              "      <script>\n",
              "        const buttonEl =\n",
              "          document.querySelector('#df-8aea142b-a945-47f0-bc68-bbca5bc0099f button.colab-df-convert');\n",
              "        buttonEl.style.display =\n",
              "          google.colab.kernel.accessAllowed ? 'block' : 'none';\n",
              "\n",
              "        async function convertToInteractive(key) {\n",
              "          const element = document.querySelector('#df-8aea142b-a945-47f0-bc68-bbca5bc0099f');\n",
              "          const dataTable =\n",
              "            await google.colab.kernel.invokeFunction('convertToInteractive',\n",
              "                                                     [key], {});\n",
              "          if (!dataTable) return;\n",
              "\n",
              "          const docLinkHtml = 'Like what you see? Visit the ' +\n",
              "            '<a target=\"_blank\" href=https://colab.research.google.com/notebooks/data_table.ipynb>data table notebook</a>'\n",
              "            + ' to learn more about interactive tables.';\n",
              "          element.innerHTML = '';\n",
              "          dataTable['output_type'] = 'display_data';\n",
              "          await google.colab.output.renderOutput(dataTable, element);\n",
              "          const docLink = document.createElement('div');\n",
              "          docLink.innerHTML = docLinkHtml;\n",
              "          element.appendChild(docLink);\n",
              "        }\n",
              "      </script>\n",
              "    </div>\n",
              "  </div>\n",
              "  "
            ],
            "text/plain": [
              "       D_52       R_2      B_11      S_16       B_4      S_12      D_48  \\\n",
              "0  0.398898  0.002515  0.030000  0.003817  0.046623  0.213628  0.086219   \n",
              "1  0.398679  0.008815  0.044275  0.000141  0.064387  0.206849  0.064676   \n",
              "2  0.402825  0.007137  0.013518  0.004640  0.052499  0.221441  0.022703   \n",
              "3  0.400943  0.007976  0.018204  0.003500  0.070618  0.325719  0.021549   \n",
              "4  0.096993  0.006018  0.005175  0.009030  0.009390  0.187263  0.961863   \n",
              "\n",
              "       D_62       P_4       R_6  ...  month_2  month_3  day_0  day_1  day_2  \\\n",
              "0  0.630733  0.003984  0.000822  ...        1        0      1      0      1   \n",
              "1  0.635885  0.003244  0.004779  ...        1        1      1      1      0   \n",
              "2  0.629337  0.006916  0.004221  ...        0        0      1      1      0   \n",
              "3  0.631458  0.004984  0.007823  ...        0        1      1      0      1   \n",
              "4  0.185423  0.958002  0.007629  ...        1        0      1      1      0   \n",
              "\n",
              "   day_3  day_4  weekday_0  weekday_1  weekday_2  \n",
              "0      0      0          1          1          0  \n",
              "1      0      0          1          0          0  \n",
              "2      1      1          1          0          0  \n",
              "3      1      0          1          1          1  \n",
              "4      1      0          1          1          1  \n",
              "\n",
              "[5 rows x 181 columns]"
            ]
          },
          "execution_count": 108,
          "metadata": {},
          "output_type": "execute_result"
        }
      ],
      "source": [
        "data_unseen.head()"
      ]
    },
    {
      "cell_type": "markdown",
      "metadata": {
        "id": "oQ8HepFWS9o4"
      },
      "source": [
        "This is one of our more exciting lines of code. Here, we setup PyCaret to use our training data and target to try several models that we believe could assist us in addressing our research question. PyCaret will also correct for multicollinearity (+70% correlation) and perform k-fold crossvalidation on our models where k = 3. Typically, we cross-validate on the interval [5, 10], however, we are resource constrained. We use SMOTE to correct the class imbalance given additional resources."
      ]
    },
    {
      "cell_type": "code",
      "execution_count": 109,
      "metadata": {
        "colab": {
          "base_uri": "https://localhost:8080/",
          "height": 771
        },
        "id": "q6FL5JLWrAPu",
        "outputId": "ab734bb0-bd6f-4887-d49b-26ce063e16eb"
      },
      "outputs": [
        {
          "data": {
            "text/html": [
              "<style type=\"text/css\">\n",
              "#T_5587c_row8_col1, #T_5587c_row12_col1, #T_5587c_row14_col1 {\n",
              "  background-color: lightgreen;\n",
              "}\n",
              "</style>\n",
              "<table id=\"T_5587c_\" class=\"dataframe\">\n",
              "  <thead>\n",
              "    <tr>\n",
              "      <th class=\"blank level0\" >&nbsp;</th>\n",
              "      <th class=\"col_heading level0 col0\" >Description</th>\n",
              "      <th class=\"col_heading level0 col1\" >Value</th>\n",
              "    </tr>\n",
              "  </thead>\n",
              "  <tbody>\n",
              "    <tr>\n",
              "      <th id=\"T_5587c_level0_row0\" class=\"row_heading level0 row0\" >0</th>\n",
              "      <td id=\"T_5587c_row0_col0\" class=\"data row0 col0\" >Session id</td>\n",
              "      <td id=\"T_5587c_row0_col1\" class=\"data row0 col1\" >1024</td>\n",
              "    </tr>\n",
              "    <tr>\n",
              "      <th id=\"T_5587c_level0_row1\" class=\"row_heading level0 row1\" >1</th>\n",
              "      <td id=\"T_5587c_row1_col0\" class=\"data row1 col0\" >Target</td>\n",
              "      <td id=\"T_5587c_row1_col1\" class=\"data row1 col1\" >target</td>\n",
              "    </tr>\n",
              "    <tr>\n",
              "      <th id=\"T_5587c_level0_row2\" class=\"row_heading level0 row2\" >2</th>\n",
              "      <td id=\"T_5587c_row2_col0\" class=\"data row2 col0\" >Target type</td>\n",
              "      <td id=\"T_5587c_row2_col1\" class=\"data row2 col1\" >Binary</td>\n",
              "    </tr>\n",
              "    <tr>\n",
              "      <th id=\"T_5587c_level0_row3\" class=\"row_heading level0 row3\" >3</th>\n",
              "      <td id=\"T_5587c_row3_col0\" class=\"data row3 col0\" >Original data shape</td>\n",
              "      <td id=\"T_5587c_row3_col1\" class=\"data row3 col1\" >(7000, 181)</td>\n",
              "    </tr>\n",
              "    <tr>\n",
              "      <th id=\"T_5587c_level0_row4\" class=\"row_heading level0 row4\" >4</th>\n",
              "      <td id=\"T_5587c_row4_col0\" class=\"data row4 col0\" >Transformed data shape</td>\n",
              "      <td id=\"T_5587c_row4_col1\" class=\"data row4 col1\" >(9424, 169)</td>\n",
              "    </tr>\n",
              "    <tr>\n",
              "      <th id=\"T_5587c_level0_row5\" class=\"row_heading level0 row5\" >5</th>\n",
              "      <td id=\"T_5587c_row5_col0\" class=\"data row5 col0\" >Transformed train set shape</td>\n",
              "      <td id=\"T_5587c_row5_col1\" class=\"data row5 col1\" >(7324, 169)</td>\n",
              "    </tr>\n",
              "    <tr>\n",
              "      <th id=\"T_5587c_level0_row6\" class=\"row_heading level0 row6\" >6</th>\n",
              "      <td id=\"T_5587c_row6_col0\" class=\"data row6 col0\" >Transformed test set shape</td>\n",
              "      <td id=\"T_5587c_row6_col1\" class=\"data row6 col1\" >(2100, 169)</td>\n",
              "    </tr>\n",
              "    <tr>\n",
              "      <th id=\"T_5587c_level0_row7\" class=\"row_heading level0 row7\" >7</th>\n",
              "      <td id=\"T_5587c_row7_col0\" class=\"data row7 col0\" >Numeric features</td>\n",
              "      <td id=\"T_5587c_row7_col1\" class=\"data row7 col1\" >180</td>\n",
              "    </tr>\n",
              "    <tr>\n",
              "      <th id=\"T_5587c_level0_row8\" class=\"row_heading level0 row8\" >8</th>\n",
              "      <td id=\"T_5587c_row8_col0\" class=\"data row8 col0\" >Preprocess</td>\n",
              "      <td id=\"T_5587c_row8_col1\" class=\"data row8 col1\" >True</td>\n",
              "    </tr>\n",
              "    <tr>\n",
              "      <th id=\"T_5587c_level0_row9\" class=\"row_heading level0 row9\" >9</th>\n",
              "      <td id=\"T_5587c_row9_col0\" class=\"data row9 col0\" >Imputation type</td>\n",
              "      <td id=\"T_5587c_row9_col1\" class=\"data row9 col1\" >simple</td>\n",
              "    </tr>\n",
              "    <tr>\n",
              "      <th id=\"T_5587c_level0_row10\" class=\"row_heading level0 row10\" >10</th>\n",
              "      <td id=\"T_5587c_row10_col0\" class=\"data row10 col0\" >Numeric imputation</td>\n",
              "      <td id=\"T_5587c_row10_col1\" class=\"data row10 col1\" >mean</td>\n",
              "    </tr>\n",
              "    <tr>\n",
              "      <th id=\"T_5587c_level0_row11\" class=\"row_heading level0 row11\" >11</th>\n",
              "      <td id=\"T_5587c_row11_col0\" class=\"data row11 col0\" >Categorical imputation</td>\n",
              "      <td id=\"T_5587c_row11_col1\" class=\"data row11 col1\" >mode</td>\n",
              "    </tr>\n",
              "    <tr>\n",
              "      <th id=\"T_5587c_level0_row12\" class=\"row_heading level0 row12\" >12</th>\n",
              "      <td id=\"T_5587c_row12_col0\" class=\"data row12 col0\" >Remove multicollinearity</td>\n",
              "      <td id=\"T_5587c_row12_col1\" class=\"data row12 col1\" >True</td>\n",
              "    </tr>\n",
              "    <tr>\n",
              "      <th id=\"T_5587c_level0_row13\" class=\"row_heading level0 row13\" >13</th>\n",
              "      <td id=\"T_5587c_row13_col0\" class=\"data row13 col0\" >Multicollinearity threshold</td>\n",
              "      <td id=\"T_5587c_row13_col1\" class=\"data row13 col1\" >0.900000</td>\n",
              "    </tr>\n",
              "    <tr>\n",
              "      <th id=\"T_5587c_level0_row14\" class=\"row_heading level0 row14\" >14</th>\n",
              "      <td id=\"T_5587c_row14_col0\" class=\"data row14 col0\" >Fix imbalance</td>\n",
              "      <td id=\"T_5587c_row14_col1\" class=\"data row14 col1\" >True</td>\n",
              "    </tr>\n",
              "    <tr>\n",
              "      <th id=\"T_5587c_level0_row15\" class=\"row_heading level0 row15\" >15</th>\n",
              "      <td id=\"T_5587c_row15_col0\" class=\"data row15 col0\" >Fix imbalance method</td>\n",
              "      <td id=\"T_5587c_row15_col1\" class=\"data row15 col1\" >SMOTE</td>\n",
              "    </tr>\n",
              "    <tr>\n",
              "      <th id=\"T_5587c_level0_row16\" class=\"row_heading level0 row16\" >16</th>\n",
              "      <td id=\"T_5587c_row16_col0\" class=\"data row16 col0\" >Fold Generator</td>\n",
              "      <td id=\"T_5587c_row16_col1\" class=\"data row16 col1\" >StratifiedKFold</td>\n",
              "    </tr>\n",
              "    <tr>\n",
              "      <th id=\"T_5587c_level0_row17\" class=\"row_heading level0 row17\" >17</th>\n",
              "      <td id=\"T_5587c_row17_col0\" class=\"data row17 col0\" >Fold Number</td>\n",
              "      <td id=\"T_5587c_row17_col1\" class=\"data row17 col1\" >3</td>\n",
              "    </tr>\n",
              "    <tr>\n",
              "      <th id=\"T_5587c_level0_row18\" class=\"row_heading level0 row18\" >18</th>\n",
              "      <td id=\"T_5587c_row18_col0\" class=\"data row18 col0\" >CPU Jobs</td>\n",
              "      <td id=\"T_5587c_row18_col1\" class=\"data row18 col1\" >-1</td>\n",
              "    </tr>\n",
              "    <tr>\n",
              "      <th id=\"T_5587c_level0_row19\" class=\"row_heading level0 row19\" >19</th>\n",
              "      <td id=\"T_5587c_row19_col0\" class=\"data row19 col0\" >Use GPU</td>\n",
              "      <td id=\"T_5587c_row19_col1\" class=\"data row19 col1\" >False</td>\n",
              "    </tr>\n",
              "    <tr>\n",
              "      <th id=\"T_5587c_level0_row20\" class=\"row_heading level0 row20\" >20</th>\n",
              "      <td id=\"T_5587c_row20_col0\" class=\"data row20 col0\" >Log Experiment</td>\n",
              "      <td id=\"T_5587c_row20_col1\" class=\"data row20 col1\" >False</td>\n",
              "    </tr>\n",
              "    <tr>\n",
              "      <th id=\"T_5587c_level0_row21\" class=\"row_heading level0 row21\" >21</th>\n",
              "      <td id=\"T_5587c_row21_col0\" class=\"data row21 col0\" >Experiment Name</td>\n",
              "      <td id=\"T_5587c_row21_col1\" class=\"data row21 col1\" >clf-default-name</td>\n",
              "    </tr>\n",
              "    <tr>\n",
              "      <th id=\"T_5587c_level0_row22\" class=\"row_heading level0 row22\" >22</th>\n",
              "      <td id=\"T_5587c_row22_col0\" class=\"data row22 col0\" >USI</td>\n",
              "      <td id=\"T_5587c_row22_col1\" class=\"data row22 col1\" >e564</td>\n",
              "    </tr>\n",
              "  </tbody>\n",
              "</table>\n"
            ],
            "text/plain": [
              "<pandas.io.formats.style.Styler at 0x7f30fb381760>"
            ]
          },
          "metadata": {},
          "output_type": "display_data"
        }
      ],
      "source": [
        "from pycaret.classification import *\n",
        "s = setup(data = data, target = 'target', remove_multicollinearity=True, fold=3, fix_imbalance = True, session_id=1024)"
      ]
    },
    {
      "cell_type": "markdown",
      "metadata": {
        "id": "maRV-yYsVQ7e"
      },
      "source": [
        "We received intelligence on 14 different models, after 5 hours of processing time. This run time is unacceptable. To remedy the situation, we did a second run, limiting the number of models considered to the most effective, as well as a `dummy` baseline model."
      ]
    },
    {
      "cell_type": "code",
      "execution_count": 67,
      "metadata": {
        "colab": {
          "base_uri": "https://localhost:8080/",
          "height": 143,
          "referenced_widgets": [
            "338d2da4164f4b30863ce890d6dc62fb",
            "f3a1bee153dc4e90a8fd2338d44e39e2",
            "791a255e5ca441e596d7b8c27f43f50e",
            "f43fc877279e4a21ada1c3f04565e83f",
            "b512f93057f4448fb52537c89aaeaa6d",
            "52ae5105b22741a7bfd6ccabe58795cb",
            "133564f29cff4f36b971bb0f643444d1",
            "1058046e0a574cb39df8c6aa38960657",
            "ee21f131481a458cab5dd8dd9c4b0989",
            "82c7eb14a95f457fa993f7ab72314bda",
            "1b6919e3a6bf474b971467ace0f91f7e"
          ]
        },
        "id": "mOobjHjlwS92",
        "outputId": "dc5d8c15-dbf5-4273-9748-93bfbde9fd91"
      },
      "outputs": [
        {
          "data": {
            "text/html": [],
            "text/plain": [
              "<IPython.core.display.HTML object>"
            ]
          },
          "metadata": {},
          "output_type": "display_data"
        },
        {
          "data": {
            "text/html": [
              "<style type=\"text/css\">\n",
              "#T_45ace_ th {\n",
              "  text-align: left;\n",
              "}\n",
              "#T_45ace_row0_col0, #T_45ace_row1_col0, #T_45ace_row1_col1, #T_45ace_row1_col2, #T_45ace_row1_col3, #T_45ace_row1_col4, #T_45ace_row1_col5, #T_45ace_row1_col6, #T_45ace_row1_col7, #T_45ace_row2_col0, #T_45ace_row2_col1, #T_45ace_row2_col2, #T_45ace_row2_col3, #T_45ace_row2_col4, #T_45ace_row2_col5, #T_45ace_row2_col6, #T_45ace_row2_col7 {\n",
              "  text-align: left;\n",
              "}\n",
              "#T_45ace_row0_col1, #T_45ace_row0_col2, #T_45ace_row0_col3, #T_45ace_row0_col4, #T_45ace_row0_col5, #T_45ace_row0_col6, #T_45ace_row0_col7 {\n",
              "  text-align: left;\n",
              "  background-color: yellow;\n",
              "}\n",
              "#T_45ace_row0_col8, #T_45ace_row1_col8 {\n",
              "  text-align: left;\n",
              "  background-color: lightgrey;\n",
              "}\n",
              "#T_45ace_row2_col8 {\n",
              "  text-align: left;\n",
              "  background-color: yellow;\n",
              "  background-color: lightgrey;\n",
              "}\n",
              "</style>\n",
              "<table id=\"T_45ace_\" class=\"dataframe\">\n",
              "  <thead>\n",
              "    <tr>\n",
              "      <th class=\"blank level0\" >&nbsp;</th>\n",
              "      <th class=\"col_heading level0 col0\" >Model</th>\n",
              "      <th class=\"col_heading level0 col1\" >Accuracy</th>\n",
              "      <th class=\"col_heading level0 col2\" >AUC</th>\n",
              "      <th class=\"col_heading level0 col3\" >Recall</th>\n",
              "      <th class=\"col_heading level0 col4\" >Prec.</th>\n",
              "      <th class=\"col_heading level0 col5\" >F1</th>\n",
              "      <th class=\"col_heading level0 col6\" >Kappa</th>\n",
              "      <th class=\"col_heading level0 col7\" >MCC</th>\n",
              "      <th class=\"col_heading level0 col8\" >TT (Sec)</th>\n",
              "    </tr>\n",
              "  </thead>\n",
              "  <tbody>\n",
              "    <tr>\n",
              "      <th id=\"T_45ace_level0_row0\" class=\"row_heading level0 row0\" >lightgbm</th>\n",
              "      <td id=\"T_45ace_row0_col0\" class=\"data row0 col0\" >Light Gradient Boosting Machine</td>\n",
              "      <td id=\"T_45ace_row0_col1\" class=\"data row0 col1\" >0.9400</td>\n",
              "      <td id=\"T_45ace_row0_col2\" class=\"data row0 col2\" >0.9828</td>\n",
              "      <td id=\"T_45ace_row0_col3\" class=\"data row0 col3\" >0.9047</td>\n",
              "      <td id=\"T_45ace_row0_col4\" class=\"data row0 col4\" >0.8646</td>\n",
              "      <td id=\"T_45ace_row0_col5\" class=\"data row0 col5\" >0.8841</td>\n",
              "      <td id=\"T_45ace_row0_col6\" class=\"data row0 col6\" >0.8437</td>\n",
              "      <td id=\"T_45ace_row0_col7\" class=\"data row0 col7\" >0.8441</td>\n",
              "      <td id=\"T_45ace_row0_col8\" class=\"data row0 col8\" >1.7267</td>\n",
              "    </tr>\n",
              "    <tr>\n",
              "      <th id=\"T_45ace_level0_row1\" class=\"row_heading level0 row1\" >gbc</th>\n",
              "      <td id=\"T_45ace_row1_col0\" class=\"data row1 col0\" >Gradient Boosting Classifier</td>\n",
              "      <td id=\"T_45ace_row1_col1\" class=\"data row1 col1\" >0.9065</td>\n",
              "      <td id=\"T_45ace_row1_col2\" class=\"data row1 col2\" >0.9649</td>\n",
              "      <td id=\"T_45ace_row1_col3\" class=\"data row1 col3\" >0.8796</td>\n",
              "      <td id=\"T_45ace_row1_col4\" class=\"data row1 col4\" >0.7793</td>\n",
              "      <td id=\"T_45ace_row1_col5\" class=\"data row1 col5\" >0.8264</td>\n",
              "      <td id=\"T_45ace_row1_col6\" class=\"data row1 col6\" >0.7628</td>\n",
              "      <td id=\"T_45ace_row1_col7\" class=\"data row1 col7\" >0.7654</td>\n",
              "      <td id=\"T_45ace_row1_col8\" class=\"data row1 col8\" >7.3067</td>\n",
              "    </tr>\n",
              "    <tr>\n",
              "      <th id=\"T_45ace_level0_row2\" class=\"row_heading level0 row2\" >dummy</th>\n",
              "      <td id=\"T_45ace_row2_col0\" class=\"data row2 col0\" >Dummy Classifier</td>\n",
              "      <td id=\"T_45ace_row2_col1\" class=\"data row2 col1\" >0.7473</td>\n",
              "      <td id=\"T_45ace_row2_col2\" class=\"data row2 col2\" >0.5000</td>\n",
              "      <td id=\"T_45ace_row2_col3\" class=\"data row2 col3\" >0.0000</td>\n",
              "      <td id=\"T_45ace_row2_col4\" class=\"data row2 col4\" >0.0000</td>\n",
              "      <td id=\"T_45ace_row2_col5\" class=\"data row2 col5\" >0.0000</td>\n",
              "      <td id=\"T_45ace_row2_col6\" class=\"data row2 col6\" >0.0000</td>\n",
              "      <td id=\"T_45ace_row2_col7\" class=\"data row2 col7\" >0.0000</td>\n",
              "      <td id=\"T_45ace_row2_col8\" class=\"data row2 col8\" >0.5533</td>\n",
              "    </tr>\n",
              "  </tbody>\n",
              "</table>\n"
            ],
            "text/plain": [
              "<pandas.io.formats.style.Styler at 0x7f30de2e36d0>"
            ]
          },
          "metadata": {},
          "output_type": "display_data"
        },
        {
          "data": {
            "application/vnd.jupyter.widget-view+json": {
              "model_id": "338d2da4164f4b30863ce890d6dc62fb",
              "version_major": 2,
              "version_minor": 0
            },
            "text/plain": [
              "Processing:   0%|          | 0/17 [00:00<?, ?it/s]"
            ]
          },
          "metadata": {
            "application/vnd.jupyter.widget-view+json": {
              "colab": {
                "custom_widget_manager": {
                  "url": "https://ssl.gstatic.com/colaboratory-static/widgets/colab-cdn-widget-manager/b3e629b1971e1542/manager.min.js"
                }
              }
            }
          },
          "output_type": "display_data"
        },
        {
          "data": {
            "text/html": [],
            "text/plain": [
              "<IPython.core.display.HTML object>"
            ]
          },
          "metadata": {},
          "output_type": "display_data"
        }
      ],
      "source": [
        "best = compare_models(sort=\"Recall\", include = ['lightgbm', 'gbc', 'dummy'])"
      ]
    },
    {
      "cell_type": "markdown",
      "metadata": {
        "id": "pRQhn57c4h2O"
      },
      "source": [
        "Let's take a look at the winning model, Light Gradient Boosting Machine, across 5 folds of cross validation.\n",
        "\n"
      ]
    },
    {
      "cell_type": "code",
      "execution_count": 68,
      "metadata": {
        "colab": {
          "base_uri": "https://localhost:8080/",
          "height": 300,
          "referenced_widgets": [
            "ef17ddc44e9848ad9083f3d33dce3e65",
            "42c40cd8fa3d4e3ab582eee678f34ee2",
            "917e69f546cf4b1893b4eedd04cebeab",
            "fb0586c3c5654d9fb777d35233f5016f",
            "2102c664744b4499a49d05858ba5350a",
            "d1225b34dc4741b483e27e96ab41b26b",
            "5c5c0c8e2fac430ab5bf7fd9f75033ce",
            "e5d8eb1a0b124417b55d80d8280ac1e0",
            "97f5f428cc0d4c18a1efe46e365b7872",
            "067632d5e5d34a69b3b126e3d61e3abe",
            "1b64c584fd4a49d6b3195a3b3f3e9f1e"
          ]
        },
        "id": "i00z-i6mEz6p",
        "outputId": "d8c5aa9a-3e4b-45b6-c35e-63557a6bfd30"
      },
      "outputs": [
        {
          "data": {
            "text/html": [],
            "text/plain": [
              "<IPython.core.display.HTML object>"
            ]
          },
          "metadata": {},
          "output_type": "display_data"
        },
        {
          "data": {
            "text/html": [
              "<style type=\"text/css\">\n",
              "#T_738e8_row5_col0, #T_738e8_row5_col1, #T_738e8_row5_col2, #T_738e8_row5_col3, #T_738e8_row5_col4, #T_738e8_row5_col5, #T_738e8_row5_col6 {\n",
              "  background: yellow;\n",
              "}\n",
              "</style>\n",
              "<table id=\"T_738e8_\" class=\"dataframe\">\n",
              "  <thead>\n",
              "    <tr>\n",
              "      <th class=\"blank level0\" >&nbsp;</th>\n",
              "      <th class=\"col_heading level0 col0\" >Accuracy</th>\n",
              "      <th class=\"col_heading level0 col1\" >AUC</th>\n",
              "      <th class=\"col_heading level0 col2\" >Recall</th>\n",
              "      <th class=\"col_heading level0 col3\" >Prec.</th>\n",
              "      <th class=\"col_heading level0 col4\" >F1</th>\n",
              "      <th class=\"col_heading level0 col5\" >Kappa</th>\n",
              "      <th class=\"col_heading level0 col6\" >MCC</th>\n",
              "    </tr>\n",
              "    <tr>\n",
              "      <th class=\"index_name level0\" >Fold</th>\n",
              "      <th class=\"blank col0\" >&nbsp;</th>\n",
              "      <th class=\"blank col1\" >&nbsp;</th>\n",
              "      <th class=\"blank col2\" >&nbsp;</th>\n",
              "      <th class=\"blank col3\" >&nbsp;</th>\n",
              "      <th class=\"blank col4\" >&nbsp;</th>\n",
              "      <th class=\"blank col5\" >&nbsp;</th>\n",
              "      <th class=\"blank col6\" >&nbsp;</th>\n",
              "    </tr>\n",
              "  </thead>\n",
              "  <tbody>\n",
              "    <tr>\n",
              "      <th id=\"T_738e8_level0_row0\" class=\"row_heading level0 row0\" >0</th>\n",
              "      <td id=\"T_738e8_row0_col0\" class=\"data row0 col0\" >0.9367</td>\n",
              "      <td id=\"T_738e8_row0_col1\" class=\"data row0 col1\" >0.9810</td>\n",
              "      <td id=\"T_738e8_row0_col2\" class=\"data row0 col2\" >0.8992</td>\n",
              "      <td id=\"T_738e8_row0_col3\" class=\"data row0 col3\" >0.8577</td>\n",
              "      <td id=\"T_738e8_row0_col4\" class=\"data row0 col4\" >0.8780</td>\n",
              "      <td id=\"T_738e8_row0_col5\" class=\"data row0 col5\" >0.8353</td>\n",
              "      <td id=\"T_738e8_row0_col6\" class=\"data row0 col6\" >0.8357</td>\n",
              "    </tr>\n",
              "    <tr>\n",
              "      <th id=\"T_738e8_level0_row1\" class=\"row_heading level0 row1\" >1</th>\n",
              "      <td id=\"T_738e8_row1_col0\" class=\"data row1 col0\" >0.9408</td>\n",
              "      <td id=\"T_738e8_row1_col1\" class=\"data row1 col1\" >0.9852</td>\n",
              "      <td id=\"T_738e8_row1_col2\" class=\"data row1 col2\" >0.8790</td>\n",
              "      <td id=\"T_738e8_row1_col3\" class=\"data row1 col3\" >0.8862</td>\n",
              "      <td id=\"T_738e8_row1_col4\" class=\"data row1 col4\" >0.8826</td>\n",
              "      <td id=\"T_738e8_row1_col5\" class=\"data row1 col5\" >0.8430</td>\n",
              "      <td id=\"T_738e8_row1_col6\" class=\"data row1 col6\" >0.8430</td>\n",
              "    </tr>\n",
              "    <tr>\n",
              "      <th id=\"T_738e8_level0_row2\" class=\"row_heading level0 row2\" >2</th>\n",
              "      <td id=\"T_738e8_row2_col0\" class=\"data row2 col0\" >0.9612</td>\n",
              "      <td id=\"T_738e8_row2_col1\" class=\"data row2 col1\" >0.9919</td>\n",
              "      <td id=\"T_738e8_row2_col2\" class=\"data row2 col2\" >0.9556</td>\n",
              "      <td id=\"T_738e8_row2_col3\" class=\"data row2 col3\" >0.8977</td>\n",
              "      <td id=\"T_738e8_row2_col4\" class=\"data row2 col4\" >0.9258</td>\n",
              "      <td id=\"T_738e8_row2_col5\" class=\"data row2 col5\" >0.8996</td>\n",
              "      <td id=\"T_738e8_row2_col6\" class=\"data row2 col6\" >0.9004</td>\n",
              "    </tr>\n",
              "    <tr>\n",
              "      <th id=\"T_738e8_level0_row3\" class=\"row_heading level0 row3\" >3</th>\n",
              "      <td id=\"T_738e8_row3_col0\" class=\"data row3 col0\" >0.9469</td>\n",
              "      <td id=\"T_738e8_row3_col1\" class=\"data row3 col1\" >0.9879</td>\n",
              "      <td id=\"T_738e8_row3_col2\" class=\"data row3 col2\" >0.9190</td>\n",
              "      <td id=\"T_738e8_row3_col3\" class=\"data row3 col3\" >0.8764</td>\n",
              "      <td id=\"T_738e8_row3_col4\" class=\"data row3 col4\" >0.8972</td>\n",
              "      <td id=\"T_738e8_row3_col5\" class=\"data row3 col5\" >0.8615</td>\n",
              "      <td id=\"T_738e8_row3_col6\" class=\"data row3 col6\" >0.8619</td>\n",
              "    </tr>\n",
              "    <tr>\n",
              "      <th id=\"T_738e8_level0_row4\" class=\"row_heading level0 row4\" >4</th>\n",
              "      <td id=\"T_738e8_row4_col0\" class=\"data row4 col0\" >0.9449</td>\n",
              "      <td id=\"T_738e8_row4_col1\" class=\"data row4 col1\" >0.9849</td>\n",
              "      <td id=\"T_738e8_row4_col2\" class=\"data row4 col2\" >0.9190</td>\n",
              "      <td id=\"T_738e8_row4_col3\" class=\"data row4 col3\" >0.8697</td>\n",
              "      <td id=\"T_738e8_row4_col4\" class=\"data row4 col4\" >0.8937</td>\n",
              "      <td id=\"T_738e8_row4_col5\" class=\"data row4 col5\" >0.8565</td>\n",
              "      <td id=\"T_738e8_row4_col6\" class=\"data row4 col6\" >0.8571</td>\n",
              "    </tr>\n",
              "    <tr>\n",
              "      <th id=\"T_738e8_level0_row5\" class=\"row_heading level0 row5\" >Mean</th>\n",
              "      <td id=\"T_738e8_row5_col0\" class=\"data row5 col0\" >0.9461</td>\n",
              "      <td id=\"T_738e8_row5_col1\" class=\"data row5 col1\" >0.9862</td>\n",
              "      <td id=\"T_738e8_row5_col2\" class=\"data row5 col2\" >0.9144</td>\n",
              "      <td id=\"T_738e8_row5_col3\" class=\"data row5 col3\" >0.8776</td>\n",
              "      <td id=\"T_738e8_row5_col4\" class=\"data row5 col4\" >0.8955</td>\n",
              "      <td id=\"T_738e8_row5_col5\" class=\"data row5 col5\" >0.8592</td>\n",
              "      <td id=\"T_738e8_row5_col6\" class=\"data row5 col6\" >0.8596</td>\n",
              "    </tr>\n",
              "    <tr>\n",
              "      <th id=\"T_738e8_level0_row6\" class=\"row_heading level0 row6\" >Std</th>\n",
              "      <td id=\"T_738e8_row6_col0\" class=\"data row6 col0\" >0.0083</td>\n",
              "      <td id=\"T_738e8_row6_col1\" class=\"data row6 col1\" >0.0036</td>\n",
              "      <td id=\"T_738e8_row6_col2\" class=\"data row6 col2\" >0.0254</td>\n",
              "      <td id=\"T_738e8_row6_col3\" class=\"data row6 col3\" >0.0137</td>\n",
              "      <td id=\"T_738e8_row6_col4\" class=\"data row6 col4\" >0.0167</td>\n",
              "      <td id=\"T_738e8_row6_col5\" class=\"data row6 col5\" >0.0223</td>\n",
              "      <td id=\"T_738e8_row6_col6\" class=\"data row6 col6\" >0.0224</td>\n",
              "    </tr>\n",
              "  </tbody>\n",
              "</table>\n"
            ],
            "text/plain": [
              "<pandas.io.formats.style.Styler at 0x7f304f302f40>"
            ]
          },
          "metadata": {},
          "output_type": "display_data"
        },
        {
          "data": {
            "application/vnd.jupyter.widget-view+json": {
              "model_id": "ef17ddc44e9848ad9083f3d33dce3e65",
              "version_major": 2,
              "version_minor": 0
            },
            "text/plain": [
              "Processing:   0%|          | 0/4 [00:00<?, ?it/s]"
            ]
          },
          "metadata": {
            "application/vnd.jupyter.widget-view+json": {
              "colab": {
                "custom_widget_manager": {
                  "url": "https://ssl.gstatic.com/colaboratory-static/widgets/colab-cdn-widget-manager/b3e629b1971e1542/manager.min.js"
                }
              }
            }
          },
          "output_type": "display_data"
        },
        {
          "data": {
            "text/html": [],
            "text/plain": [
              "<IPython.core.display.HTML object>"
            ]
          },
          "metadata": {},
          "output_type": "display_data"
        }
      ],
      "source": [
        "lgbm = create_model('lightgbm', cross_validation=True, fold=5)"
      ]
    },
    {
      "cell_type": "code",
      "execution_count": 69,
      "metadata": {
        "colab": {
          "base_uri": "https://localhost:8080/",
          "height": 318,
          "referenced_widgets": [
            "a3aabd3b4bda49b080d08274d2298e68",
            "df7d02f7dad2408e85bd51fc3240abde",
            "7b42291b312f4659a7ba6406a7a9225f",
            "49dde43b45524a108ea793cb4e9e6762",
            "3c9ff93d9c2d4250b4d9012d06e7815b",
            "9e875413fbfc411f8b0c40c8e786faed",
            "4ec69a10f243462bae303f73dabfe3f6",
            "48ba61841a9a4b3c93265d1fbb1c51e2",
            "a4307b4c0fd4464fa9751ab24b796881",
            "a93910f628dd4f958489045c8576d577",
            "4a721d40ee1641549f98a016205f5757"
          ]
        },
        "id": "L08mxhrCUU8j",
        "outputId": "2a77f3b9-af61-4831-d4e8-a7eb186030f0"
      },
      "outputs": [
        {
          "data": {
            "text/html": [],
            "text/plain": [
              "<IPython.core.display.HTML object>"
            ]
          },
          "metadata": {},
          "output_type": "display_data"
        },
        {
          "data": {
            "text/html": [
              "<style type=\"text/css\">\n",
              "#T_cc79f_row5_col0, #T_cc79f_row5_col1, #T_cc79f_row5_col2, #T_cc79f_row5_col3, #T_cc79f_row5_col4, #T_cc79f_row5_col5, #T_cc79f_row5_col6 {\n",
              "  background: yellow;\n",
              "}\n",
              "</style>\n",
              "<table id=\"T_cc79f_\" class=\"dataframe\">\n",
              "  <thead>\n",
              "    <tr>\n",
              "      <th class=\"blank level0\" >&nbsp;</th>\n",
              "      <th class=\"col_heading level0 col0\" >Accuracy</th>\n",
              "      <th class=\"col_heading level0 col1\" >AUC</th>\n",
              "      <th class=\"col_heading level0 col2\" >Recall</th>\n",
              "      <th class=\"col_heading level0 col3\" >Prec.</th>\n",
              "      <th class=\"col_heading level0 col4\" >F1</th>\n",
              "      <th class=\"col_heading level0 col5\" >Kappa</th>\n",
              "      <th class=\"col_heading level0 col6\" >MCC</th>\n",
              "    </tr>\n",
              "    <tr>\n",
              "      <th class=\"index_name level0\" >Fold</th>\n",
              "      <th class=\"blank col0\" >&nbsp;</th>\n",
              "      <th class=\"blank col1\" >&nbsp;</th>\n",
              "      <th class=\"blank col2\" >&nbsp;</th>\n",
              "      <th class=\"blank col3\" >&nbsp;</th>\n",
              "      <th class=\"blank col4\" >&nbsp;</th>\n",
              "      <th class=\"blank col5\" >&nbsp;</th>\n",
              "      <th class=\"blank col6\" >&nbsp;</th>\n",
              "    </tr>\n",
              "  </thead>\n",
              "  <tbody>\n",
              "    <tr>\n",
              "      <th id=\"T_cc79f_level0_row0\" class=\"row_heading level0 row0\" >0</th>\n",
              "      <td id=\"T_cc79f_row0_col0\" class=\"data row0 col0\" >0.8765</td>\n",
              "      <td id=\"T_cc79f_row0_col1\" class=\"data row0 col1\" >0.9544</td>\n",
              "      <td id=\"T_cc79f_row0_col2\" class=\"data row0 col2\" >0.8952</td>\n",
              "      <td id=\"T_cc79f_row0_col3\" class=\"data row0 col3\" >0.7003</td>\n",
              "      <td id=\"T_cc79f_row0_col4\" class=\"data row0 col4\" >0.7858</td>\n",
              "      <td id=\"T_cc79f_row0_col5\" class=\"data row0 col5\" >0.7009</td>\n",
              "      <td id=\"T_cc79f_row0_col6\" class=\"data row0 col6\" >0.7113</td>\n",
              "    </tr>\n",
              "    <tr>\n",
              "      <th id=\"T_cc79f_level0_row1\" class=\"row_heading level0 row1\" >1</th>\n",
              "      <td id=\"T_cc79f_row1_col0\" class=\"data row1 col0\" >0.8959</td>\n",
              "      <td id=\"T_cc79f_row1_col1\" class=\"data row1 col1\" >0.9582</td>\n",
              "      <td id=\"T_cc79f_row1_col2\" class=\"data row1 col2\" >0.8831</td>\n",
              "      <td id=\"T_cc79f_row1_col3\" class=\"data row1 col3\" >0.7500</td>\n",
              "      <td id=\"T_cc79f_row1_col4\" class=\"data row1 col4\" >0.8111</td>\n",
              "      <td id=\"T_cc79f_row1_col5\" class=\"data row1 col5\" >0.7399</td>\n",
              "      <td id=\"T_cc79f_row1_col6\" class=\"data row1 col6\" >0.7446</td>\n",
              "    </tr>\n",
              "    <tr>\n",
              "      <th id=\"T_cc79f_level0_row2\" class=\"row_heading level0 row2\" >2</th>\n",
              "      <td id=\"T_cc79f_row2_col0\" class=\"data row2 col0\" >0.9112</td>\n",
              "      <td id=\"T_cc79f_row2_col1\" class=\"data row2 col1\" >0.9770</td>\n",
              "      <td id=\"T_cc79f_row2_col2\" class=\"data row2 col2\" >0.9677</td>\n",
              "      <td id=\"T_cc79f_row2_col3\" class=\"data row2 col3\" >0.7524</td>\n",
              "      <td id=\"T_cc79f_row2_col4\" class=\"data row2 col4\" >0.8466</td>\n",
              "      <td id=\"T_cc79f_row2_col5\" class=\"data row2 col5\" >0.7855</td>\n",
              "      <td id=\"T_cc79f_row2_col6\" class=\"data row2 col6\" >0.7978</td>\n",
              "    </tr>\n",
              "    <tr>\n",
              "      <th id=\"T_cc79f_level0_row3\" class=\"row_heading level0 row3\" >3</th>\n",
              "      <td id=\"T_cc79f_row3_col0\" class=\"data row3 col0\" >0.8990</td>\n",
              "      <td id=\"T_cc79f_row3_col1\" class=\"data row3 col1\" >0.9665</td>\n",
              "      <td id=\"T_cc79f_row3_col2\" class=\"data row3 col2\" >0.9555</td>\n",
              "      <td id=\"T_cc79f_row3_col3\" class=\"data row3 col3\" >0.7284</td>\n",
              "      <td id=\"T_cc79f_row3_col4\" class=\"data row3 col4\" >0.8266</td>\n",
              "      <td id=\"T_cc79f_row3_col5\" class=\"data row3 col5\" >0.7572</td>\n",
              "      <td id=\"T_cc79f_row3_col6\" class=\"data row3 col6\" >0.7710</td>\n",
              "    </tr>\n",
              "    <tr>\n",
              "      <th id=\"T_cc79f_level0_row4\" class=\"row_heading level0 row4\" >4</th>\n",
              "      <td id=\"T_cc79f_row4_col0\" class=\"data row4 col0\" >0.9031</td>\n",
              "      <td id=\"T_cc79f_row4_col1\" class=\"data row4 col1\" >0.9586</td>\n",
              "      <td id=\"T_cc79f_row4_col2\" class=\"data row4 col2\" >0.9312</td>\n",
              "      <td id=\"T_cc79f_row4_col3\" class=\"data row4 col3\" >0.7468</td>\n",
              "      <td id=\"T_cc79f_row4_col4\" class=\"data row4 col4\" >0.8288</td>\n",
              "      <td id=\"T_cc79f_row4_col5\" class=\"data row4 col5\" >0.7623</td>\n",
              "      <td id=\"T_cc79f_row4_col6\" class=\"data row4 col6\" >0.7714</td>\n",
              "    </tr>\n",
              "    <tr>\n",
              "      <th id=\"T_cc79f_level0_row5\" class=\"row_heading level0 row5\" >Mean</th>\n",
              "      <td id=\"T_cc79f_row5_col0\" class=\"data row5 col0\" >0.8971</td>\n",
              "      <td id=\"T_cc79f_row5_col1\" class=\"data row5 col1\" >0.9629</td>\n",
              "      <td id=\"T_cc79f_row5_col2\" class=\"data row5 col2\" >0.9265</td>\n",
              "      <td id=\"T_cc79f_row5_col3\" class=\"data row5 col3\" >0.7356</td>\n",
              "      <td id=\"T_cc79f_row5_col4\" class=\"data row5 col4\" >0.8198</td>\n",
              "      <td id=\"T_cc79f_row5_col5\" class=\"data row5 col5\" >0.7492</td>\n",
              "      <td id=\"T_cc79f_row5_col6\" class=\"data row5 col6\" >0.7592</td>\n",
              "    </tr>\n",
              "    <tr>\n",
              "      <th id=\"T_cc79f_level0_row6\" class=\"row_heading level0 row6\" >Std</th>\n",
              "      <td id=\"T_cc79f_row6_col0\" class=\"data row6 col0\" >0.0115</td>\n",
              "      <td id=\"T_cc79f_row6_col1\" class=\"data row6 col1\" >0.0081</td>\n",
              "      <td id=\"T_cc79f_row6_col2\" class=\"data row6 col2\" >0.0330</td>\n",
              "      <td id=\"T_cc79f_row6_col3\" class=\"data row6 col3\" >0.0195</td>\n",
              "      <td id=\"T_cc79f_row6_col4\" class=\"data row6 col4\" >0.0204</td>\n",
              "      <td id=\"T_cc79f_row6_col5\" class=\"data row6 col5\" >0.0282</td>\n",
              "      <td id=\"T_cc79f_row6_col6\" class=\"data row6 col6\" >0.0293</td>\n",
              "    </tr>\n",
              "  </tbody>\n",
              "</table>\n"
            ],
            "text/plain": [
              "<pandas.io.formats.style.Styler at 0x7f3059545520>"
            ]
          },
          "metadata": {},
          "output_type": "display_data"
        },
        {
          "data": {
            "application/vnd.jupyter.widget-view+json": {
              "model_id": "a3aabd3b4bda49b080d08274d2298e68",
              "version_major": 2,
              "version_minor": 0
            },
            "text/plain": [
              "Processing:   0%|          | 0/7 [00:00<?, ?it/s]"
            ]
          },
          "metadata": {
            "application/vnd.jupyter.widget-view+json": {
              "colab": {
                "custom_widget_manager": {
                  "url": "https://ssl.gstatic.com/colaboratory-static/widgets/colab-cdn-widget-manager/b3e629b1971e1542/manager.min.js"
                }
              }
            }
          },
          "output_type": "display_data"
        },
        {
          "name": "stdout",
          "output_type": "stream",
          "text": [
            "Fitting 5 folds for each of 10 candidates, totalling 50 fits\n"
          ]
        },
        {
          "data": {
            "text/html": [],
            "text/plain": [
              "<IPython.core.display.HTML object>"
            ]
          },
          "metadata": {},
          "output_type": "display_data"
        }
      ],
      "source": [
        "tuned_lgbm = tune_model(lgbm, optimize='Recall', fold=5)"
      ]
    },
    {
      "cell_type": "code",
      "execution_count": 70,
      "metadata": {
        "colab": {
          "base_uri": "https://localhost:8080/"
        },
        "id": "EA-5udX68tjq",
        "outputId": "30fdf306-4b05-451c-cc8e-bbb83f1f81dc"
      },
      "outputs": [
        {
          "data": {
            "text/plain": [
              "LGBMClassifier(bagging_fraction=0.4, bagging_freq=3, boosting_type='gbdt',\n",
              "               class_weight=None, colsample_bytree=1.0, feature_fraction=0.6,\n",
              "               importance_type='split', learning_rate=0.01, max_depth=-1,\n",
              "               min_child_samples=11, min_child_weight=0.001, min_split_gain=0,\n",
              "               n_estimators=40, n_jobs=-1, num_leaves=200, objective=None,\n",
              "               random_state=1024, reg_alpha=0.4, reg_lambda=0.01, silent='warn',\n",
              "               subsample=1.0, subsample_for_bin=200000, subsample_freq=0)"
            ]
          },
          "execution_count": 70,
          "metadata": {},
          "output_type": "execute_result"
        }
      ],
      "source": [
        "tuned_lgbm"
      ]
    },
    {
      "cell_type": "code",
      "execution_count": 71,
      "metadata": {
        "colab": {
          "base_uri": "https://localhost:8080/",
          "height": 294
        },
        "id": "Ej4l6uGrLSnm",
        "outputId": "c285d84f-2378-4084-ce11-1421a2edd294"
      },
      "outputs": [
        {
          "data": {
            "text/html": [],
            "text/plain": [
              "<IPython.core.display.HTML object>"
            ]
          },
          "metadata": {},
          "output_type": "display_data"
        },
        {
          "data": {
            "image/png": "[encoded data removed]",
            "text/plain": [
              "<Figure size 432x288 with 1 Axes>"
            ]
          },
          "metadata": {
            "needs_background": "light"
          },
          "output_type": "display_data"
        }
      ],
      "source": [
        "plot_model(tuned_lgbm)"
      ]
    },
    {
      "cell_type": "code",
      "execution_count": 72,
      "metadata": {
        "colab": {
          "base_uri": "https://localhost:8080/",
          "height": 297
        },
        "id": "9xflVDvp83WS",
        "outputId": "d81bfc9e-7cf4-4b10-953b-ba45ced22239"
      },
      "outputs": [
        {
          "data": {
            "text/html": [],
            "text/plain": [
              "<IPython.core.display.HTML object>"
            ]
          },
          "metadata": {},
          "output_type": "display_data"
        },
        {
          "data": {
            "image/png": "[encoded data removed]",
            "text/plain": [
              "<Figure size 432x288 with 1 Axes>"
            ]
          },
          "metadata": {
            "needs_background": "light"
          },
          "output_type": "display_data"
        }
      ],
      "source": [
        "plot_model(tuned_lgbm, plot = 'confusion_matrix')"
      ]
    },
    {
      "cell_type": "code",
      "execution_count": 73,
      "metadata": {
        "colab": {
          "base_uri": "https://localhost:8080/",
          "height": 478
        },
        "id": "hB3Vuk44LyQj",
        "outputId": "9814982c-f222-4616-f51a-efe7d4234fad"
      },
      "outputs": [
        {
          "data": {
            "text/html": [],
            "text/plain": [
              "<IPython.core.display.HTML object>"
            ]
          },
          "metadata": {},
          "output_type": "display_data"
        },
        {
          "data": {
            "image/png": "[encoded data removed]",
            "text/plain": [
              "<Figure size 800x500 with 1 Axes>"
            ]
          },
          "metadata": {
            "needs_background": "light"
          },
          "output_type": "display_data"
        }
      ],
      "source": [
        "plot_model(tuned_lgbm, plot='feature')"
      ]
    },
    {
      "cell_type": "code",
      "execution_count": 74,
      "metadata": {
        "colab": {
          "base_uri": "https://localhost:8080/",
          "height": 551
        },
        "id": "LeUiYcLrmg2E",
        "outputId": "6ff58a8f-03cb-49ba-a581-2e54071bcba9"
      },
      "outputs": [
        {
          "data": {
            "text/html": [
              "<style type=\"text/css\">\n",
              "</style>\n",
              "<table id=\"T_4998b_\" class=\"dataframe\">\n",
              "  <thead>\n",
              "    <tr>\n",
              "      <th class=\"blank level0\" >&nbsp;</th>\n",
              "      <th class=\"col_heading level0 col0\" >Model</th>\n",
              "      <th class=\"col_heading level0 col1\" >Accuracy</th>\n",
              "      <th class=\"col_heading level0 col2\" >AUC</th>\n",
              "      <th class=\"col_heading level0 col3\" >Recall</th>\n",
              "      <th class=\"col_heading level0 col4\" >Prec.</th>\n",
              "      <th class=\"col_heading level0 col5\" >F1</th>\n",
              "      <th class=\"col_heading level0 col6\" >Kappa</th>\n",
              "      <th class=\"col_heading level0 col7\" >MCC</th>\n",
              "    </tr>\n",
              "  </thead>\n",
              "  <tbody>\n",
              "    <tr>\n",
              "      <th id=\"T_4998b_level0_row0\" class=\"row_heading level0 row0\" >0</th>\n",
              "      <td id=\"T_4998b_row0_col0\" class=\"data row0 col0\" >Light Gradient Boosting Machine</td>\n",
              "      <td id=\"T_4998b_row0_col1\" class=\"data row0 col1\" >0.8871</td>\n",
              "      <td id=\"T_4998b_row0_col2\" class=\"data row0 col2\" >0.9620</td>\n",
              "      <td id=\"T_4998b_row0_col3\" class=\"data row0 col3\" >0.9153</td>\n",
              "      <td id=\"T_4998b_row0_col4\" class=\"data row0 col4\" >0.7168</td>\n",
              "      <td id=\"T_4998b_row0_col5\" class=\"data row0 col5\" >0.8040</td>\n",
              "      <td id=\"T_4998b_row0_col6\" class=\"data row0 col6\" >0.7264</td>\n",
              "      <td id=\"T_4998b_row0_col7\" class=\"data row0 col7\" >0.7371</td>\n",
              "    </tr>\n",
              "  </tbody>\n",
              "</table>\n"
            ],
            "text/plain": [
              "<pandas.io.formats.style.Styler at 0x7f30c5e550d0>"
            ]
          },
          "metadata": {},
          "output_type": "display_data"
        },
        {
          "data": {
            "text/html": [
              "\n",
              "  <div id=\"df-1b2253c6-f955-44f2-8143-216c0a03f015\">\n",
              "    <div class=\"colab-df-container\">\n",
              "      <div>\n",
              "<style scoped>\n",
              "    .dataframe tbody tr th:only-of-type {\n",
              "        vertical-align: middle;\n",
              "    }\n",
              "\n",
              "    .dataframe tbody tr th {\n",
              "        vertical-align: top;\n",
              "    }\n",
              "\n",
              "    .dataframe thead th {\n",
              "        text-align: right;\n",
              "    }\n",
              "</style>\n",
              "<table border=\"1\" class=\"dataframe\">\n",
              "  <thead>\n",
              "    <tr style=\"text-align: right;\">\n",
              "      <th></th>\n",
              "      <th>D_52</th>\n",
              "      <th>R_2</th>\n",
              "      <th>B_11</th>\n",
              "      <th>S_16</th>\n",
              "      <th>B_4</th>\n",
              "      <th>S_12</th>\n",
              "      <th>D_48</th>\n",
              "      <th>D_62</th>\n",
              "      <th>P_4</th>\n",
              "      <th>R_6</th>\n",
              "      <th>...</th>\n",
              "      <th>day_1</th>\n",
              "      <th>day_2</th>\n",
              "      <th>day_3</th>\n",
              "      <th>day_4</th>\n",
              "      <th>weekday_0</th>\n",
              "      <th>weekday_1</th>\n",
              "      <th>weekday_2</th>\n",
              "      <th>target</th>\n",
              "      <th>prediction_label</th>\n",
              "      <th>prediction_score</th>\n",
              "    </tr>\n",
              "  </thead>\n",
              "  <tbody>\n",
              "    <tr>\n",
              "      <th>4900</th>\n",
              "      <td>0.037139</td>\n",
              "      <td>0.003577</td>\n",
              "      <td>0.003508</td>\n",
              "      <td>0.003548</td>\n",
              "      <td>0.035503</td>\n",
              "      <td>0.193252</td>\n",
              "      <td>0.393777</td>\n",
              "      <td>0.019113</td>\n",
              "      <td>0.001953</td>\n",
              "      <td>0.005438</td>\n",
              "      <td>...</td>\n",
              "      <td>1</td>\n",
              "      <td>1</td>\n",
              "      <td>0</td>\n",
              "      <td>0</td>\n",
              "      <td>1</td>\n",
              "      <td>1</td>\n",
              "      <td>0</td>\n",
              "      <td>0</td>\n",
              "      <td>0</td>\n",
              "      <td>0.5400</td>\n",
              "    </tr>\n",
              "    <tr>\n",
              "      <th>4901</th>\n",
              "      <td>0.189200</td>\n",
              "      <td>0.002717</td>\n",
              "      <td>0.008693</td>\n",
              "      <td>0.002527</td>\n",
              "      <td>0.058121</td>\n",
              "      <td>0.192194</td>\n",
              "      <td>0.343525</td>\n",
              "      <td>0.019623</td>\n",
              "      <td>0.005109</td>\n",
              "      <td>0.006229</td>\n",
              "      <td>...</td>\n",
              "      <td>0</td>\n",
              "      <td>0</td>\n",
              "      <td>1</td>\n",
              "      <td>0</td>\n",
              "      <td>1</td>\n",
              "      <td>0</td>\n",
              "      <td>1</td>\n",
              "      <td>0</td>\n",
              "      <td>0</td>\n",
              "      <td>0.6459</td>\n",
              "    </tr>\n",
              "    <tr>\n",
              "      <th>4902</th>\n",
              "      <td>0.156391</td>\n",
              "      <td>0.005103</td>\n",
              "      <td>0.778628</td>\n",
              "      <td>0.003409</td>\n",
              "      <td>2.079235</td>\n",
              "      <td>0.191836</td>\n",
              "      <td>0.861715</td>\n",
              "      <td>0.160846</td>\n",
              "      <td>0.001158</td>\n",
              "      <td>0.008076</td>\n",
              "      <td>...</td>\n",
              "      <td>1</td>\n",
              "      <td>1</td>\n",
              "      <td>0</td>\n",
              "      <td>1</td>\n",
              "      <td>1</td>\n",
              "      <td>0</td>\n",
              "      <td>0</td>\n",
              "      <td>1</td>\n",
              "      <td>1</td>\n",
              "      <td>0.6358</td>\n",
              "    </tr>\n",
              "    <tr>\n",
              "      <th>4903</th>\n",
              "      <td>0.179387</td>\n",
              "      <td>0.005760</td>\n",
              "      <td>0.047320</td>\n",
              "      <td>0.009738</td>\n",
              "      <td>0.182999</td>\n",
              "      <td>0.221960</td>\n",
              "      <td>0.526386</td>\n",
              "      <td>0.393464</td>\n",
              "      <td>0.003621</td>\n",
              "      <td>0.003023</td>\n",
              "      <td>...</td>\n",
              "      <td>1</td>\n",
              "      <td>1</td>\n",
              "      <td>0</td>\n",
              "      <td>1</td>\n",
              "      <td>1</td>\n",
              "      <td>0</td>\n",
              "      <td>0</td>\n",
              "      <td>0</td>\n",
              "      <td>0</td>\n",
              "      <td>0.6374</td>\n",
              "    </tr>\n",
              "    <tr>\n",
              "      <th>4904</th>\n",
              "      <td>0.170885</td>\n",
              "      <td>0.003416</td>\n",
              "      <td>0.119618</td>\n",
              "      <td>0.002447</td>\n",
              "      <td>1.105729</td>\n",
              "      <td>0.186704</td>\n",
              "      <td>0.741130</td>\n",
              "      <td>0.016811</td>\n",
              "      <td>0.003779</td>\n",
              "      <td>0.005647</td>\n",
              "      <td>...</td>\n",
              "      <td>0</td>\n",
              "      <td>0</td>\n",
              "      <td>1</td>\n",
              "      <td>0</td>\n",
              "      <td>1</td>\n",
              "      <td>1</td>\n",
              "      <td>0</td>\n",
              "      <td>0</td>\n",
              "      <td>1</td>\n",
              "      <td>0.5416</td>\n",
              "    </tr>\n",
              "    <tr>\n",
              "      <th>...</th>\n",
              "      <td>...</td>\n",
              "      <td>...</td>\n",
              "      <td>...</td>\n",
              "      <td>...</td>\n",
              "      <td>...</td>\n",
              "      <td>...</td>\n",
              "      <td>...</td>\n",
              "      <td>...</td>\n",
              "      <td>...</td>\n",
              "      <td>...</td>\n",
              "      <td>...</td>\n",
              "      <td>...</td>\n",
              "      <td>...</td>\n",
              "      <td>...</td>\n",
              "      <td>...</td>\n",
              "      <td>...</td>\n",
              "      <td>...</td>\n",
              "      <td>...</td>\n",
              "      <td>...</td>\n",
              "      <td>...</td>\n",
              "      <td>...</td>\n",
              "    </tr>\n",
              "    <tr>\n",
              "      <th>6995</th>\n",
              "      <td>0.043543</td>\n",
              "      <td>0.007419</td>\n",
              "      <td>0.187914</td>\n",
              "      <td>0.123482</td>\n",
              "      <td>0.172628</td>\n",
              "      <td>0.188510</td>\n",
              "      <td>0.961766</td>\n",
              "      <td>0.023154</td>\n",
              "      <td>0.005584</td>\n",
              "      <td>0.000555</td>\n",
              "      <td>...</td>\n",
              "      <td>0</td>\n",
              "      <td>0</td>\n",
              "      <td>1</td>\n",
              "      <td>0</td>\n",
              "      <td>0</td>\n",
              "      <td>0</td>\n",
              "      <td>1</td>\n",
              "      <td>1</td>\n",
              "      <td>1</td>\n",
              "      <td>0.5913</td>\n",
              "    </tr>\n",
              "    <tr>\n",
              "      <th>6996</th>\n",
              "      <td>0.197251</td>\n",
              "      <td>0.007537</td>\n",
              "      <td>0.005559</td>\n",
              "      <td>0.001482</td>\n",
              "      <td>0.002256</td>\n",
              "      <td>0.187202</td>\n",
              "      <td>0.090737</td>\n",
              "      <td>0.185423</td>\n",
              "      <td>0.007311</td>\n",
              "      <td>0.002119</td>\n",
              "      <td>...</td>\n",
              "      <td>1</td>\n",
              "      <td>0</td>\n",
              "      <td>0</td>\n",
              "      <td>0</td>\n",
              "      <td>0</td>\n",
              "      <td>0</td>\n",
              "      <td>1</td>\n",
              "      <td>0</td>\n",
              "      <td>0</td>\n",
              "      <td>0.6649</td>\n",
              "    </tr>\n",
              "    <tr>\n",
              "      <th>6997</th>\n",
              "      <td>0.039238</td>\n",
              "      <td>0.002808</td>\n",
              "      <td>0.064582</td>\n",
              "      <td>0.001134</td>\n",
              "      <td>0.143383</td>\n",
              "      <td>0.188594</td>\n",
              "      <td>0.870326</td>\n",
              "      <td>0.009621</td>\n",
              "      <td>0.002234</td>\n",
              "      <td>0.007694</td>\n",
              "      <td>...</td>\n",
              "      <td>1</td>\n",
              "      <td>1</td>\n",
              "      <td>0</td>\n",
              "      <td>1</td>\n",
              "      <td>1</td>\n",
              "      <td>1</td>\n",
              "      <td>0</td>\n",
              "      <td>1</td>\n",
              "      <td>1</td>\n",
              "      <td>0.6487</td>\n",
              "    </tr>\n",
              "    <tr>\n",
              "      <th>6998</th>\n",
              "      <td>0.096724</td>\n",
              "      <td>0.009454</td>\n",
              "      <td>0.298776</td>\n",
              "      <td>0.004195</td>\n",
              "      <td>0.269470</td>\n",
              "      <td>0.188848</td>\n",
              "      <td>0.733120</td>\n",
              "      <td>0.027801</td>\n",
              "      <td>0.977300</td>\n",
              "      <td>0.009059</td>\n",
              "      <td>...</td>\n",
              "      <td>0</td>\n",
              "      <td>0</td>\n",
              "      <td>0</td>\n",
              "      <td>0</td>\n",
              "      <td>1</td>\n",
              "      <td>0</td>\n",
              "      <td>1</td>\n",
              "      <td>0</td>\n",
              "      <td>1</td>\n",
              "      <td>0.5706</td>\n",
              "    </tr>\n",
              "    <tr>\n",
              "      <th>6999</th>\n",
              "      <td>0.146047</td>\n",
              "      <td>0.000187</td>\n",
              "      <td>0.003391</td>\n",
              "      <td>0.007208</td>\n",
              "      <td>0.014587</td>\n",
              "      <td>0.035698</td>\n",
              "      <td>0.026190</td>\n",
              "      <td>0.322895</td>\n",
              "      <td>0.006181</td>\n",
              "      <td>0.001966</td>\n",
              "      <td>...</td>\n",
              "      <td>0</td>\n",
              "      <td>1</td>\n",
              "      <td>0</td>\n",
              "      <td>1</td>\n",
              "      <td>1</td>\n",
              "      <td>0</td>\n",
              "      <td>0</td>\n",
              "      <td>0</td>\n",
              "      <td>0</td>\n",
              "      <td>0.6652</td>\n",
              "    </tr>\n",
              "  </tbody>\n",
              "</table>\n",
              "<p>2100 rows × 183 columns</p>\n",
              "</div>\n",
              "      <button class=\"colab-df-convert\" onclick=\"convertToInteractive('df-1b2253c6-f955-44f2-8143-216c0a03f015')\"\n",
              "              title=\"Convert this dataframe to an interactive table.\"\n",
              "              style=\"display:none;\">\n",
              "        \n",
              "  <svg xmlns=\"http://www.w3.org/2000/svg\" height=\"24px\"viewBox=\"0 0 24 24\"\n",
              "       width=\"24px\">\n",
              "    <path d=\"M0 0h24v24H0V0z\" fill=\"none\"/>\n",
              "    <path d=\"M18.56 5.44l.94 2.06.94-2.06 2.06-.94-2.06-.94-.94-2.06-.94 2.06-2.06.94zm-11 1L8.5 8.5l.94-2.06 2.06-.94-2.06-.94L8.5 2.5l-.94 2.06-2.06.94zm10 10l.94 2.06.94-2.06 2.06-.94-2.06-.94-.94-2.06-.94 2.06-2.06.94z\"/><path d=\"M17.41 7.96l-1.37-1.37c-.4-.4-.92-.59-1.43-.59-.52 0-1.04.2-1.43.59L10.3 9.45l-7.72 7.72c-.78.78-.78 2.05 0 2.83L4 21.41c.39.39.9.59 1.41.59.51 0 1.02-.2 1.41-.59l7.78-7.78 2.81-2.81c.8-.78.8-2.07 0-2.86zM5.41 20L4 18.59l7.72-7.72 1.47 1.35L5.41 20z\"/>\n",
              "  </svg>\n",
              "      </button>\n",
              "      \n",
              "  <style>\n",
              "    .colab-df-container {\n",
              "      display:flex;\n",
              "      flex-wrap:wrap;\n",
              "      gap: 12px;\n",
              "    }\n",
              "\n",
              "    .colab-df-convert {\n",
              "      background-color: #E8F0FE;\n",
              "      border: none;\n",
              "      border-radius: 50%;\n",
              "      cursor: pointer;\n",
              "      display: none;\n",
              "      fill: #1967D2;\n",
              "      height: 32px;\n",
              "      padding: 0 0 0 0;\n",
              "      width: 32px;\n",
              "    }\n",
              "\n",
              "    .colab-df-convert:hover {\n",
              "      background-color: #E2EBFA;\n",
              "      box-shadow: 0px 1px 2px rgba(60, 64, 67, 0.3), 0px 1px 3px 1px rgba(60, 64, 67, 0.15);\n",
              "      fill: #174EA6;\n",
              "    }\n",
              "\n",
              "    [theme=dark] .colab-df-convert {\n",
              "      background-color: #3B4455;\n",
              "      fill: #D2E3FC;\n",
              "    }\n",
              "\n",
              "    [theme=dark] .colab-df-convert:hover {\n",
              "      background-color: #434B5C;\n",
              "      box-shadow: 0px 1px 3px 1px rgba(0, 0, 0, 0.15);\n",
              "      filter: drop-shadow(0px 1px 2px rgba(0, 0, 0, 0.3));\n",
              "      fill: #FFFFFF;\n",
              "    }\n",
              "  </style>\n",
              "\n",
              "      <script>\n",
              "        const buttonEl =\n",
              "          document.querySelector('#df-1b2253c6-f955-44f2-8143-216c0a03f015 button.colab-df-convert');\n",
              "        buttonEl.style.display =\n",
              "          google.colab.kernel.accessAllowed ? 'block' : 'none';\n",
              "\n",
              "        async function convertToInteractive(key) {\n",
              "          const element = document.querySelector('#df-1b2253c6-f955-44f2-8143-216c0a03f015');\n",
              "          const dataTable =\n",
              "            await google.colab.kernel.invokeFunction('convertToInteractive',\n",
              "                                                     [key], {});\n",
              "          if (!dataTable) return;\n",
              "\n",
              "          const docLinkHtml = 'Like what you see? Visit the ' +\n",
              "            '<a target=\"_blank\" href=https://colab.research.google.com/notebooks/data_table.ipynb>data table notebook</a>'\n",
              "            + ' to learn more about interactive tables.';\n",
              "          element.innerHTML = '';\n",
              "          dataTable['output_type'] = 'display_data';\n",
              "          await google.colab.output.renderOutput(dataTable, element);\n",
              "          const docLink = document.createElement('div');\n",
              "          docLink.innerHTML = docLinkHtml;\n",
              "          element.appendChild(docLink);\n",
              "        }\n",
              "      </script>\n",
              "    </div>\n",
              "  </div>\n",
              "  "
            ],
            "text/plain": [
              "          D_52       R_2      B_11      S_16       B_4      S_12      D_48  \\\n",
              "4900  0.037139  0.003577  0.003508  0.003548  0.035503  0.193252  0.393777   \n",
              "4901  0.189200  0.002717  0.008693  0.002527  0.058121  0.192194  0.343525   \n",
              "4902  0.156391  0.005103  0.778628  0.003409  2.079235  0.191836  0.861715   \n",
              "4903  0.179387  0.005760  0.047320  0.009738  0.182999  0.221960  0.526386   \n",
              "4904  0.170885  0.003416  0.119618  0.002447  1.105729  0.186704  0.741130   \n",
              "...        ...       ...       ...       ...       ...       ...       ...   \n",
              "6995  0.043543  0.007419  0.187914  0.123482  0.172628  0.188510  0.961766   \n",
              "6996  0.197251  0.007537  0.005559  0.001482  0.002256  0.187202  0.090737   \n",
              "6997  0.039238  0.002808  0.064582  0.001134  0.143383  0.188594  0.870326   \n",
              "6998  0.096724  0.009454  0.298776  0.004195  0.269470  0.188848  0.733120   \n",
              "6999  0.146047  0.000187  0.003391  0.007208  0.014587  0.035698  0.026190   \n",
              "\n",
              "          D_62       P_4       R_6  ...  day_1  day_2  day_3  day_4  \\\n",
              "4900  0.019113  0.001953  0.005438  ...      1      1      0      0   \n",
              "4901  0.019623  0.005109  0.006229  ...      0      0      1      0   \n",
              "4902  0.160846  0.001158  0.008076  ...      1      1      0      1   \n",
              "4903  0.393464  0.003621  0.003023  ...      1      1      0      1   \n",
              "4904  0.016811  0.003779  0.005647  ...      0      0      1      0   \n",
              "...        ...       ...       ...  ...    ...    ...    ...    ...   \n",
              "6995  0.023154  0.005584  0.000555  ...      0      0      1      0   \n",
              "6996  0.185423  0.007311  0.002119  ...      1      0      0      0   \n",
              "6997  0.009621  0.002234  0.007694  ...      1      1      0      1   \n",
              "6998  0.027801  0.977300  0.009059  ...      0      0      0      0   \n",
              "6999  0.322895  0.006181  0.001966  ...      0      1      0      1   \n",
              "\n",
              "      weekday_0  weekday_1  weekday_2  target  prediction_label  \\\n",
              "4900          1          1          0       0                 0   \n",
              "4901          1          0          1       0                 0   \n",
              "4902          1          0          0       1                 1   \n",
              "4903          1          0          0       0                 0   \n",
              "4904          1          1          0       0                 1   \n",
              "...         ...        ...        ...     ...               ...   \n",
              "6995          0          0          1       1                 1   \n",
              "6996          0          0          1       0                 0   \n",
              "6997          1          1          0       1                 1   \n",
              "6998          1          0          1       0                 1   \n",
              "6999          1          0          0       0                 0   \n",
              "\n",
              "      prediction_score  \n",
              "4900            0.5400  \n",
              "4901            0.6459  \n",
              "4902            0.6358  \n",
              "4903            0.6374  \n",
              "4904            0.5416  \n",
              "...                ...  \n",
              "6995            0.5913  \n",
              "6996            0.6649  \n",
              "6997            0.6487  \n",
              "6998            0.5706  \n",
              "6999            0.6652  \n",
              "\n",
              "[2100 rows x 183 columns]"
            ]
          },
          "execution_count": 74,
          "metadata": {},
          "output_type": "execute_result"
        }
      ],
      "source": [
        "# Make predictions on the test set\n",
        "predict_model(tuned_lgbm)"
      ]
    },
    {
      "cell_type": "code",
      "execution_count": 75,
      "metadata": {
        "colab": {
          "base_uri": "https://localhost:8080/"
        },
        "id": "w0d4ScmrZ9ow",
        "outputId": "fb83b473-937a-44b2-94ad-2eeaa139c784"
      },
      "outputs": [
        {
          "data": {
            "text/plain": [
              "Pipeline(memory=Memory(location=/tmp/joblib),\n",
              "         steps=[('numerical_imputer',\n",
              "                 TransformerWrapper(exclude=None,\n",
              "                                    include=['D_52', 'R_2', 'B_11', 'S_16',\n",
              "                                             'B_4', 'S_12', 'D_48', 'D_62',\n",
              "                                             'P_4', 'R_6', 'D_145', 'D_126_0',\n",
              "                                             'D_126_1', 'B_10', 'D_83', 'R_15',\n",
              "                                             'D_75', 'B_30_0', 'B_30_1', 'R_17',\n",
              "                                             'R_21', 'D_89', 'R_5', 'D_58',\n",
              "                                             'D_39', 'D_139', 'D_118', 'R_24',\n",
              "                                             'D_141', 'S_8', ...],\n",
              "                                    transformer=S...\n",
              "                                colsample_bytree=1.0, feature_fraction=0.6,\n",
              "                                importance_type='split', learning_rate=0.01,\n",
              "                                max_depth=-1, min_child_samples=11,\n",
              "                                min_child_weight=0.001, min_split_gain=0,\n",
              "                                n_estimators=40, n_jobs=-1, num_leaves=200,\n",
              "                                objective=None, random_state=1024,\n",
              "                                reg_alpha=0.4, reg_lambda=0.01, silent='warn',\n",
              "                                subsample=1.0, subsample_for_bin=200000,\n",
              "                                subsample_freq=0))],\n",
              "         verbose=False)"
            ]
          },
          "execution_count": 75,
          "metadata": {},
          "output_type": "execute_result"
        }
      ],
      "source": [
        "finalize_model(tuned_lgbm)"
      ]
    },
    {
      "cell_type": "code",
      "execution_count": 115,
      "metadata": {
        "colab": {
          "base_uri": "https://localhost:8080/"
        },
        "id": "K8V_7B1XaROB",
        "outputId": "0ef2d931-0db1-419e-bbe1-a2b82fccb68b"
      },
      "outputs": [
        {
          "name": "stdout",
          "output_type": "stream",
          "text": [
            "Transformation Pipeline and Model Successfully Saved\n"
          ]
        },
        {
          "data": {
            "text/plain": [
              "(Pipeline(memory=Memory(location=/tmp/joblib),\n",
              "          steps=[('numerical_imputer',\n",
              "                  TransformerWrapper(exclude=None,\n",
              "                                     include=['D_52', 'R_2', 'B_11', 'S_16',\n",
              "                                              'B_4', 'S_12', 'D_48', 'D_62',\n",
              "                                              'P_4', 'R_6', 'D_145', 'D_126_0',\n",
              "                                              'D_126_1', 'B_10', 'D_83', 'R_15',\n",
              "                                              'D_75', 'B_30_0', 'B_30_1', 'R_17',\n",
              "                                              'R_21', 'D_89', 'R_5', 'D_58',\n",
              "                                              'D_39', 'D_139', 'D_118', 'R_24',\n",
              "                                              'D_141', 'S_8', ...],\n",
              "                                     transformer=S...\n",
              "                                 colsample_bytree=1.0, feature_fraction=0.6,\n",
              "                                 importance_type='split', learning_rate=0.01,\n",
              "                                 max_depth=-1, min_child_samples=11,\n",
              "                                 min_child_weight=0.001, min_split_gain=0,\n",
              "                                 n_estimators=40, n_jobs=-1, num_leaves=200,\n",
              "                                 objective=None, random_state=1024,\n",
              "                                 reg_alpha=0.4, reg_lambda=0.01, silent='warn',\n",
              "                                 subsample=1.0, subsample_for_bin=200000,\n",
              "                                 subsample_freq=0))],\n",
              "          verbose=False), 'model_01_28_23.pkl')"
            ]
          },
          "execution_count": 115,
          "metadata": {},
          "output_type": "execute_result"
        }
      ],
      "source": [
        "# Save the model\n",
        "save_model(tuned_lgbm, 'model_01_28_23')"
      ]
    }
  ],
  "metadata": {
    "accelerator": "GPU",
    "colab": {
      "machine_shape": "hm",
      "provenance": []
    },
    "gpuClass": "premium",
    "kernelspec": {
      "display_name": "Python 3",
      "name": "python3"
    },
    "language_info": {
      "name": "python"
    },
    "widgets": {
      "application/vnd.jupyter.widget-state+json": {
        "067632d5e5d34a69b3b126e3d61e3abe": {
          "model_module": "@jupyter-widgets/base",
          "model_module_version": "1.2.0",
          "model_name": "LayoutModel",
          "state": {
            "_model_module": "@jupyter-widgets/base",
            "_model_module_version": "1.2.0",
            "_model_name": "LayoutModel",
            "_view_count": null,
            "_view_module": "@jupyter-widgets/base",
            "_view_module_version": "1.2.0",
            "_view_name": "LayoutView",
            "align_content": null,
            "align_items": null,
            "align_self": null,
            "border": null,
            "bottom": null,
            "display": null,
            "flex": null,
            "flex_flow": null,
            "grid_area": null,
            "grid_auto_columns": null,
            "grid_auto_flow": null,
            "grid_auto_rows": null,
            "grid_column": null,
            "grid_gap": null,
            "grid_row": null,
            "grid_template_areas": null,
            "grid_template_columns": null,
            "grid_template_rows": null,
            "height": null,
            "justify_content": null,
            "justify_items": null,
            "left": null,
            "margin": null,
            "max_height": null,
            "max_width": null,
            "min_height": null,
            "min_width": null,
            "object_fit": null,
            "object_position": null,
            "order": null,
            "overflow": null,
            "overflow_x": null,
            "overflow_y": null,
            "padding": null,
            "right": null,
            "top": null,
            "visibility": null,
            "width": null
          }
        },
        "1058046e0a574cb39df8c6aa38960657": {
          "model_module": "@jupyter-widgets/base",
          "model_module_version": "1.2.0",
          "model_name": "LayoutModel",
          "state": {
            "_model_module": "@jupyter-widgets/base",
            "_model_module_version": "1.2.0",
            "_model_name": "LayoutModel",
            "_view_count": null,
            "_view_module": "@jupyter-widgets/base",
            "_view_module_version": "1.2.0",
            "_view_name": "LayoutView",
            "align_content": null,
            "align_items": null,
            "align_self": null,
            "border": null,
            "bottom": null,
            "display": null,
            "flex": null,
            "flex_flow": null,
            "grid_area": null,
            "grid_auto_columns": null,
            "grid_auto_flow": null,
            "grid_auto_rows": null,
            "grid_column": null,
            "grid_gap": null,
            "grid_row": null,
            "grid_template_areas": null,
            "grid_template_columns": null,
            "grid_template_rows": null,
            "height": null,
            "justify_content": null,
            "justify_items": null,
            "left": null,
            "margin": null,
            "max_height": null,
            "max_width": null,
            "min_height": null,
            "min_width": null,
            "object_fit": null,
            "object_position": null,
            "order": null,
            "overflow": null,
            "overflow_x": null,
            "overflow_y": null,
            "padding": null,
            "right": null,
            "top": null,
            "visibility": null,
            "width": null
          }
        },
        "133564f29cff4f36b971bb0f643444d1": {
          "model_module": "@jupyter-widgets/controls",
          "model_module_version": "1.5.0",
          "model_name": "DescriptionStyleModel",
          "state": {
            "_model_module": "@jupyter-widgets/controls",
            "_model_module_version": "1.5.0",
            "_model_name": "DescriptionStyleModel",
            "_view_count": null,
            "_view_module": "@jupyter-widgets/base",
            "_view_module_version": "1.2.0",
            "_view_name": "StyleView",
            "description_width": ""
          }
        },
        "1b64c584fd4a49d6b3195a3b3f3e9f1e": {
          "model_module": "@jupyter-widgets/controls",
          "model_module_version": "1.5.0",
          "model_name": "DescriptionStyleModel",
          "state": {
            "_model_module": "@jupyter-widgets/controls",
            "_model_module_version": "1.5.0",
            "_model_name": "DescriptionStyleModel",
            "_view_count": null,
            "_view_module": "@jupyter-widgets/base",
            "_view_module_version": "1.2.0",
            "_view_name": "StyleView",
            "description_width": ""
          }
        },
        "1b6919e3a6bf474b971467ace0f91f7e": {
          "model_module": "@jupyter-widgets/controls",
          "model_module_version": "1.5.0",
          "model_name": "DescriptionStyleModel",
          "state": {
            "_model_module": "@jupyter-widgets/controls",
            "_model_module_version": "1.5.0",
            "_model_name": "DescriptionStyleModel",
            "_view_count": null,
            "_view_module": "@jupyter-widgets/base",
            "_view_module_version": "1.2.0",
            "_view_name": "StyleView",
            "description_width": ""
          }
        },
        "2102c664744b4499a49d05858ba5350a": {
          "model_module": "@jupyter-widgets/base",
          "model_module_version": "1.2.0",
          "model_name": "LayoutModel",
          "state": {
            "_model_module": "@jupyter-widgets/base",
            "_model_module_version": "1.2.0",
            "_model_name": "LayoutModel",
            "_view_count": null,
            "_view_module": "@jupyter-widgets/base",
            "_view_module_version": "1.2.0",
            "_view_name": "LayoutView",
            "align_content": null,
            "align_items": null,
            "align_self": null,
            "border": null,
            "bottom": null,
            "display": null,
            "flex": null,
            "flex_flow": null,
            "grid_area": null,
            "grid_auto_columns": null,
            "grid_auto_flow": null,
            "grid_auto_rows": null,
            "grid_column": null,
            "grid_gap": null,
            "grid_row": null,
            "grid_template_areas": null,
            "grid_template_columns": null,
            "grid_template_rows": null,
            "height": null,
            "justify_content": null,
            "justify_items": null,
            "left": null,
            "margin": null,
            "max_height": null,
            "max_width": null,
            "min_height": null,
            "min_width": null,
            "object_fit": null,
            "object_position": null,
            "order": null,
            "overflow": null,
            "overflow_x": null,
            "overflow_y": null,
            "padding": null,
            "right": null,
            "top": null,
            "visibility": "hidden",
            "width": null
          }
        },
        "338d2da4164f4b30863ce890d6dc62fb": {
          "model_module": "@jupyter-widgets/controls",
          "model_module_version": "1.5.0",
          "model_name": "HBoxModel",
          "state": {
            "_dom_classes": [],
            "_model_module": "@jupyter-widgets/controls",
            "_model_module_version": "1.5.0",
            "_model_name": "HBoxModel",
            "_view_count": null,
            "_view_module": "@jupyter-widgets/controls",
            "_view_module_version": "1.5.0",
            "_view_name": "HBoxView",
            "box_style": "",
            "children": [
              "IPY_MODEL_f3a1bee153dc4e90a8fd2338d44e39e2",
              "IPY_MODEL_791a255e5ca441e596d7b8c27f43f50e",
              "IPY_MODEL_f43fc877279e4a21ada1c3f04565e83f"
            ],
            "layout": "IPY_MODEL_b512f93057f4448fb52537c89aaeaa6d"
          }
        },
        "3c9ff93d9c2d4250b4d9012d06e7815b": {
          "model_module": "@jupyter-widgets/base",
          "model_module_version": "1.2.0",
          "model_name": "LayoutModel",
          "state": {
            "_model_module": "@jupyter-widgets/base",
            "_model_module_version": "1.2.0",
            "_model_name": "LayoutModel",
            "_view_count": null,
            "_view_module": "@jupyter-widgets/base",
            "_view_module_version": "1.2.0",
            "_view_name": "LayoutView",
            "align_content": null,
            "align_items": null,
            "align_self": null,
            "border": null,
            "bottom": null,
            "display": null,
            "flex": null,
            "flex_flow": null,
            "grid_area": null,
            "grid_auto_columns": null,
            "grid_auto_flow": null,
            "grid_auto_rows": null,
            "grid_column": null,
            "grid_gap": null,
            "grid_row": null,
            "grid_template_areas": null,
            "grid_template_columns": null,
            "grid_template_rows": null,
            "height": null,
            "justify_content": null,
            "justify_items": null,
            "left": null,
            "margin": null,
            "max_height": null,
            "max_width": null,
            "min_height": null,
            "min_width": null,
            "object_fit": null,
            "object_position": null,
            "order": null,
            "overflow": null,
            "overflow_x": null,
            "overflow_y": null,
            "padding": null,
            "right": null,
            "top": null,
            "visibility": "hidden",
            "width": null
          }
        },
        "42c40cd8fa3d4e3ab582eee678f34ee2": {
          "model_module": "@jupyter-widgets/controls",
          "model_module_version": "1.5.0",
          "model_name": "HTMLModel",
          "state": {
            "_dom_classes": [],
            "_model_module": "@jupyter-widgets/controls",
            "_model_module_version": "1.5.0",
            "_model_name": "HTMLModel",
            "_view_count": null,
            "_view_module": "@jupyter-widgets/controls",
            "_view_module_version": "1.5.0",
            "_view_name": "HTMLView",
            "description": "",
            "description_tooltip": null,
            "layout": "IPY_MODEL_d1225b34dc4741b483e27e96ab41b26b",
            "placeholder": "​",
            "style": "IPY_MODEL_5c5c0c8e2fac430ab5bf7fd9f75033ce",
            "value": "Processing: 100%"
          }
        },
        "48ba61841a9a4b3c93265d1fbb1c51e2": {
          "model_module": "@jupyter-widgets/base",
          "model_module_version": "1.2.0",
          "model_name": "LayoutModel",
          "state": {
            "_model_module": "@jupyter-widgets/base",
            "_model_module_version": "1.2.0",
            "_model_name": "LayoutModel",
            "_view_count": null,
            "_view_module": "@jupyter-widgets/base",
            "_view_module_version": "1.2.0",
            "_view_name": "LayoutView",
            "align_content": null,
            "align_items": null,
            "align_self": null,
            "border": null,
            "bottom": null,
            "display": null,
            "flex": null,
            "flex_flow": null,
            "grid_area": null,
            "grid_auto_columns": null,
            "grid_auto_flow": null,
            "grid_auto_rows": null,
            "grid_column": null,
            "grid_gap": null,
            "grid_row": null,
            "grid_template_areas": null,
            "grid_template_columns": null,
            "grid_template_rows": null,
            "height": null,
            "justify_content": null,
            "justify_items": null,
            "left": null,
            "margin": null,
            "max_height": null,
            "max_width": null,
            "min_height": null,
            "min_width": null,
            "object_fit": null,
            "object_position": null,
            "order": null,
            "overflow": null,
            "overflow_x": null,
            "overflow_y": null,
            "padding": null,
            "right": null,
            "top": null,
            "visibility": null,
            "width": null
          }
        },
        "49dde43b45524a108ea793cb4e9e6762": {
          "model_module": "@jupyter-widgets/controls",
          "model_module_version": "1.5.0",
          "model_name": "HTMLModel",
          "state": {
            "_dom_classes": [],
            "_model_module": "@jupyter-widgets/controls",
            "_model_module_version": "1.5.0",
            "_model_name": "HTMLModel",
            "_view_count": null,
            "_view_module": "@jupyter-widgets/controls",
            "_view_module_version": "1.5.0",
            "_view_name": "HTMLView",
            "description": "",
            "description_tooltip": null,
            "layout": "IPY_MODEL_a93910f628dd4f958489045c8576d577",
            "placeholder": "​",
            "style": "IPY_MODEL_4a721d40ee1641549f98a016205f5757",
            "value": " 7/7 [00:11&lt;00:00,  1.28s/it]"
          }
        },
        "4a721d40ee1641549f98a016205f5757": {
          "model_module": "@jupyter-widgets/controls",
          "model_module_version": "1.5.0",
          "model_name": "DescriptionStyleModel",
          "state": {
            "_model_module": "@jupyter-widgets/controls",
            "_model_module_version": "1.5.0",
            "_model_name": "DescriptionStyleModel",
            "_view_count": null,
            "_view_module": "@jupyter-widgets/base",
            "_view_module_version": "1.2.0",
            "_view_name": "StyleView",
            "description_width": ""
          }
        },
        "4ec69a10f243462bae303f73dabfe3f6": {
          "model_module": "@jupyter-widgets/controls",
          "model_module_version": "1.5.0",
          "model_name": "DescriptionStyleModel",
          "state": {
            "_model_module": "@jupyter-widgets/controls",
            "_model_module_version": "1.5.0",
            "_model_name": "DescriptionStyleModel",
            "_view_count": null,
            "_view_module": "@jupyter-widgets/base",
            "_view_module_version": "1.2.0",
            "_view_name": "StyleView",
            "description_width": ""
          }
        },
        "52ae5105b22741a7bfd6ccabe58795cb": {
          "model_module": "@jupyter-widgets/base",
          "model_module_version": "1.2.0",
          "model_name": "LayoutModel",
          "state": {
            "_model_module": "@jupyter-widgets/base",
            "_model_module_version": "1.2.0",
            "_model_name": "LayoutModel",
            "_view_count": null,
            "_view_module": "@jupyter-widgets/base",
            "_view_module_version": "1.2.0",
            "_view_name": "LayoutView",
            "align_content": null,
            "align_items": null,
            "align_self": null,
            "border": null,
            "bottom": null,
            "display": null,
            "flex": null,
            "flex_flow": null,
            "grid_area": null,
            "grid_auto_columns": null,
            "grid_auto_flow": null,
            "grid_auto_rows": null,
            "grid_column": null,
            "grid_gap": null,
            "grid_row": null,
            "grid_template_areas": null,
            "grid_template_columns": null,
            "grid_template_rows": null,
            "height": null,
            "justify_content": null,
            "justify_items": null,
            "left": null,
            "margin": null,
            "max_height": null,
            "max_width": null,
            "min_height": null,
            "min_width": null,
            "object_fit": null,
            "object_position": null,
            "order": null,
            "overflow": null,
            "overflow_x": null,
            "overflow_y": null,
            "padding": null,
            "right": null,
            "top": null,
            "visibility": null,
            "width": null
          }
        },
        "5c5c0c8e2fac430ab5bf7fd9f75033ce": {
          "model_module": "@jupyter-widgets/controls",
          "model_module_version": "1.5.0",
          "model_name": "DescriptionStyleModel",
          "state": {
            "_model_module": "@jupyter-widgets/controls",
            "_model_module_version": "1.5.0",
            "_model_name": "DescriptionStyleModel",
            "_view_count": null,
            "_view_module": "@jupyter-widgets/base",
            "_view_module_version": "1.2.0",
            "_view_name": "StyleView",
            "description_width": ""
          }
        },
        "791a255e5ca441e596d7b8c27f43f50e": {
          "model_module": "@jupyter-widgets/controls",
          "model_module_version": "1.5.0",
          "model_name": "FloatProgressModel",
          "state": {
            "_dom_classes": [],
            "_model_module": "@jupyter-widgets/controls",
            "_model_module_version": "1.5.0",
            "_model_name": "FloatProgressModel",
            "_view_count": null,
            "_view_module": "@jupyter-widgets/controls",
            "_view_module_version": "1.5.0",
            "_view_name": "ProgressView",
            "bar_style": "",
            "description": "",
            "description_tooltip": null,
            "layout": "IPY_MODEL_1058046e0a574cb39df8c6aa38960657",
            "max": 17,
            "min": 0,
            "orientation": "horizontal",
            "style": "IPY_MODEL_ee21f131481a458cab5dd8dd9c4b0989",
            "value": 17
          }
        },
        "7b42291b312f4659a7ba6406a7a9225f": {
          "model_module": "@jupyter-widgets/controls",
          "model_module_version": "1.5.0",
          "model_name": "FloatProgressModel",
          "state": {
            "_dom_classes": [],
            "_model_module": "@jupyter-widgets/controls",
            "_model_module_version": "1.5.0",
            "_model_name": "FloatProgressModel",
            "_view_count": null,
            "_view_module": "@jupyter-widgets/controls",
            "_view_module_version": "1.5.0",
            "_view_name": "ProgressView",
            "bar_style": "",
            "description": "",
            "description_tooltip": null,
            "layout": "IPY_MODEL_48ba61841a9a4b3c93265d1fbb1c51e2",
            "max": 7,
            "min": 0,
            "orientation": "horizontal",
            "style": "IPY_MODEL_a4307b4c0fd4464fa9751ab24b796881",
            "value": 7
          }
        },
        "82c7eb14a95f457fa993f7ab72314bda": {
          "model_module": "@jupyter-widgets/base",
          "model_module_version": "1.2.0",
          "model_name": "LayoutModel",
          "state": {
            "_model_module": "@jupyter-widgets/base",
            "_model_module_version": "1.2.0",
            "_model_name": "LayoutModel",
            "_view_count": null,
            "_view_module": "@jupyter-widgets/base",
            "_view_module_version": "1.2.0",
            "_view_name": "LayoutView",
            "align_content": null,
            "align_items": null,
            "align_self": null,
            "border": null,
            "bottom": null,
            "display": null,
            "flex": null,
            "flex_flow": null,
            "grid_area": null,
            "grid_auto_columns": null,
            "grid_auto_flow": null,
            "grid_auto_rows": null,
            "grid_column": null,
            "grid_gap": null,
            "grid_row": null,
            "grid_template_areas": null,
            "grid_template_columns": null,
            "grid_template_rows": null,
            "height": null,
            "justify_content": null,
            "justify_items": null,
            "left": null,
            "margin": null,
            "max_height": null,
            "max_width": null,
            "min_height": null,
            "min_width": null,
            "object_fit": null,
            "object_position": null,
            "order": null,
            "overflow": null,
            "overflow_x": null,
            "overflow_y": null,
            "padding": null,
            "right": null,
            "top": null,
            "visibility": null,
            "width": null
          }
        },
        "917e69f546cf4b1893b4eedd04cebeab": {
          "model_module": "@jupyter-widgets/controls",
          "model_module_version": "1.5.0",
          "model_name": "FloatProgressModel",
          "state": {
            "_dom_classes": [],
            "_model_module": "@jupyter-widgets/controls",
            "_model_module_version": "1.5.0",
            "_model_name": "FloatProgressModel",
            "_view_count": null,
            "_view_module": "@jupyter-widgets/controls",
            "_view_module_version": "1.5.0",
            "_view_name": "ProgressView",
            "bar_style": "",
            "description": "",
            "description_tooltip": null,
            "layout": "IPY_MODEL_e5d8eb1a0b124417b55d80d8280ac1e0",
            "max": 4,
            "min": 0,
            "orientation": "horizontal",
            "style": "IPY_MODEL_97f5f428cc0d4c18a1efe46e365b7872",
            "value": 4
          }
        },
        "97f5f428cc0d4c18a1efe46e365b7872": {
          "model_module": "@jupyter-widgets/controls",
          "model_module_version": "1.5.0",
          "model_name": "ProgressStyleModel",
          "state": {
            "_model_module": "@jupyter-widgets/controls",
            "_model_module_version": "1.5.0",
            "_model_name": "ProgressStyleModel",
            "_view_count": null,
            "_view_module": "@jupyter-widgets/base",
            "_view_module_version": "1.2.0",
            "_view_name": "StyleView",
            "bar_color": null,
            "description_width": ""
          }
        },
        "9e875413fbfc411f8b0c40c8e786faed": {
          "model_module": "@jupyter-widgets/base",
          "model_module_version": "1.2.0",
          "model_name": "LayoutModel",
          "state": {
            "_model_module": "@jupyter-widgets/base",
            "_model_module_version": "1.2.0",
            "_model_name": "LayoutModel",
            "_view_count": null,
            "_view_module": "@jupyter-widgets/base",
            "_view_module_version": "1.2.0",
            "_view_name": "LayoutView",
            "align_content": null,
            "align_items": null,
            "align_self": null,
            "border": null,
            "bottom": null,
            "display": null,
            "flex": null,
            "flex_flow": null,
            "grid_area": null,
            "grid_auto_columns": null,
            "grid_auto_flow": null,
            "grid_auto_rows": null,
            "grid_column": null,
            "grid_gap": null,
            "grid_row": null,
            "grid_template_areas": null,
            "grid_template_columns": null,
            "grid_template_rows": null,
            "height": null,
            "justify_content": null,
            "justify_items": null,
            "left": null,
            "margin": null,
            "max_height": null,
            "max_width": null,
            "min_height": null,
            "min_width": null,
            "object_fit": null,
            "object_position": null,
            "order": null,
            "overflow": null,
            "overflow_x": null,
            "overflow_y": null,
            "padding": null,
            "right": null,
            "top": null,
            "visibility": null,
            "width": null
          }
        },
        "a3aabd3b4bda49b080d08274d2298e68": {
          "model_module": "@jupyter-widgets/controls",
          "model_module_version": "1.5.0",
          "model_name": "HBoxModel",
          "state": {
            "_dom_classes": [],
            "_model_module": "@jupyter-widgets/controls",
            "_model_module_version": "1.5.0",
            "_model_name": "HBoxModel",
            "_view_count": null,
            "_view_module": "@jupyter-widgets/controls",
            "_view_module_version": "1.5.0",
            "_view_name": "HBoxView",
            "box_style": "",
            "children": [
              "IPY_MODEL_df7d02f7dad2408e85bd51fc3240abde",
              "IPY_MODEL_7b42291b312f4659a7ba6406a7a9225f",
              "IPY_MODEL_49dde43b45524a108ea793cb4e9e6762"
            ],
            "layout": "IPY_MODEL_3c9ff93d9c2d4250b4d9012d06e7815b"
          }
        },
        "a4307b4c0fd4464fa9751ab24b796881": {
          "model_module": "@jupyter-widgets/controls",
          "model_module_version": "1.5.0",
          "model_name": "ProgressStyleModel",
          "state": {
            "_model_module": "@jupyter-widgets/controls",
            "_model_module_version": "1.5.0",
            "_model_name": "ProgressStyleModel",
            "_view_count": null,
            "_view_module": "@jupyter-widgets/base",
            "_view_module_version": "1.2.0",
            "_view_name": "StyleView",
            "bar_color": null,
            "description_width": ""
          }
        },
        "a93910f628dd4f958489045c8576d577": {
          "model_module": "@jupyter-widgets/base",
          "model_module_version": "1.2.0",
          "model_name": "LayoutModel",
          "state": {
            "_model_module": "@jupyter-widgets/base",
            "_model_module_version": "1.2.0",
            "_model_name": "LayoutModel",
            "_view_count": null,
            "_view_module": "@jupyter-widgets/base",
            "_view_module_version": "1.2.0",
            "_view_name": "LayoutView",
            "align_content": null,
            "align_items": null,
            "align_self": null,
            "border": null,
            "bottom": null,
            "display": null,
            "flex": null,
            "flex_flow": null,
            "grid_area": null,
            "grid_auto_columns": null,
            "grid_auto_flow": null,
            "grid_auto_rows": null,
            "grid_column": null,
            "grid_gap": null,
            "grid_row": null,
            "grid_template_areas": null,
            "grid_template_columns": null,
            "grid_template_rows": null,
            "height": null,
            "justify_content": null,
            "justify_items": null,
            "left": null,
            "margin": null,
            "max_height": null,
            "max_width": null,
            "min_height": null,
            "min_width": null,
            "object_fit": null,
            "object_position": null,
            "order": null,
            "overflow": null,
            "overflow_x": null,
            "overflow_y": null,
            "padding": null,
            "right": null,
            "top": null,
            "visibility": null,
            "width": null
          }
        },
        "b512f93057f4448fb52537c89aaeaa6d": {
          "model_module": "@jupyter-widgets/base",
          "model_module_version": "1.2.0",
          "model_name": "LayoutModel",
          "state": {
            "_model_module": "@jupyter-widgets/base",
            "_model_module_version": "1.2.0",
            "_model_name": "LayoutModel",
            "_view_count": null,
            "_view_module": "@jupyter-widgets/base",
            "_view_module_version": "1.2.0",
            "_view_name": "LayoutView",
            "align_content": null,
            "align_items": null,
            "align_self": null,
            "border": null,
            "bottom": null,
            "display": null,
            "flex": null,
            "flex_flow": null,
            "grid_area": null,
            "grid_auto_columns": null,
            "grid_auto_flow": null,
            "grid_auto_rows": null,
            "grid_column": null,
            "grid_gap": null,
            "grid_row": null,
            "grid_template_areas": null,
            "grid_template_columns": null,
            "grid_template_rows": null,
            "height": null,
            "justify_content": null,
            "justify_items": null,
            "left": null,
            "margin": null,
            "max_height": null,
            "max_width": null,
            "min_height": null,
            "min_width": null,
            "object_fit": null,
            "object_position": null,
            "order": null,
            "overflow": null,
            "overflow_x": null,
            "overflow_y": null,
            "padding": null,
            "right": null,
            "top": null,
            "visibility": "hidden",
            "width": null
          }
        },
        "d1225b34dc4741b483e27e96ab41b26b": {
          "model_module": "@jupyter-widgets/base",
          "model_module_version": "1.2.0",
          "model_name": "LayoutModel",
          "state": {
            "_model_module": "@jupyter-widgets/base",
            "_model_module_version": "1.2.0",
            "_model_name": "LayoutModel",
            "_view_count": null,
            "_view_module": "@jupyter-widgets/base",
            "_view_module_version": "1.2.0",
            "_view_name": "LayoutView",
            "align_content": null,
            "align_items": null,
            "align_self": null,
            "border": null,
            "bottom": null,
            "display": null,
            "flex": null,
            "flex_flow": null,
            "grid_area": null,
            "grid_auto_columns": null,
            "grid_auto_flow": null,
            "grid_auto_rows": null,
            "grid_column": null,
            "grid_gap": null,
            "grid_row": null,
            "grid_template_areas": null,
            "grid_template_columns": null,
            "grid_template_rows": null,
            "height": null,
            "justify_content": null,
            "justify_items": null,
            "left": null,
            "margin": null,
            "max_height": null,
            "max_width": null,
            "min_height": null,
            "min_width": null,
            "object_fit": null,
            "object_position": null,
            "order": null,
            "overflow": null,
            "overflow_x": null,
            "overflow_y": null,
            "padding": null,
            "right": null,
            "top": null,
            "visibility": null,
            "width": null
          }
        },
        "df7d02f7dad2408e85bd51fc3240abde": {
          "model_module": "@jupyter-widgets/controls",
          "model_module_version": "1.5.0",
          "model_name": "HTMLModel",
          "state": {
            "_dom_classes": [],
            "_model_module": "@jupyter-widgets/controls",
            "_model_module_version": "1.5.0",
            "_model_name": "HTMLModel",
            "_view_count": null,
            "_view_module": "@jupyter-widgets/controls",
            "_view_module_version": "1.5.0",
            "_view_name": "HTMLView",
            "description": "",
            "description_tooltip": null,
            "layout": "IPY_MODEL_9e875413fbfc411f8b0c40c8e786faed",
            "placeholder": "​",
            "style": "IPY_MODEL_4ec69a10f243462bae303f73dabfe3f6",
            "value": "Processing: 100%"
          }
        },
        "e5d8eb1a0b124417b55d80d8280ac1e0": {
          "model_module": "@jupyter-widgets/base",
          "model_module_version": "1.2.0",
          "model_name": "LayoutModel",
          "state": {
            "_model_module": "@jupyter-widgets/base",
            "_model_module_version": "1.2.0",
            "_model_name": "LayoutModel",
            "_view_count": null,
            "_view_module": "@jupyter-widgets/base",
            "_view_module_version": "1.2.0",
            "_view_name": "LayoutView",
            "align_content": null,
            "align_items": null,
            "align_self": null,
            "border": null,
            "bottom": null,
            "display": null,
            "flex": null,
            "flex_flow": null,
            "grid_area": null,
            "grid_auto_columns": null,
            "grid_auto_flow": null,
            "grid_auto_rows": null,
            "grid_column": null,
            "grid_gap": null,
            "grid_row": null,
            "grid_template_areas": null,
            "grid_template_columns": null,
            "grid_template_rows": null,
            "height": null,
            "justify_content": null,
            "justify_items": null,
            "left": null,
            "margin": null,
            "max_height": null,
            "max_width": null,
            "min_height": null,
            "min_width": null,
            "object_fit": null,
            "object_position": null,
            "order": null,
            "overflow": null,
            "overflow_x": null,
            "overflow_y": null,
            "padding": null,
            "right": null,
            "top": null,
            "visibility": null,
            "width": null
          }
        },
        "ee21f131481a458cab5dd8dd9c4b0989": {
          "model_module": "@jupyter-widgets/controls",
          "model_module_version": "1.5.0",
          "model_name": "ProgressStyleModel",
          "state": {
            "_model_module": "@jupyter-widgets/controls",
            "_model_module_version": "1.5.0",
            "_model_name": "ProgressStyleModel",
            "_view_count": null,
            "_view_module": "@jupyter-widgets/base",
            "_view_module_version": "1.2.0",
            "_view_name": "StyleView",
            "bar_color": null,
            "description_width": ""
          }
        },
        "ef17ddc44e9848ad9083f3d33dce3e65": {
          "model_module": "@jupyter-widgets/controls",
          "model_module_version": "1.5.0",
          "model_name": "HBoxModel",
          "state": {
            "_dom_classes": [],
            "_model_module": "@jupyter-widgets/controls",
            "_model_module_version": "1.5.0",
            "_model_name": "HBoxModel",
            "_view_count": null,
            "_view_module": "@jupyter-widgets/controls",
            "_view_module_version": "1.5.0",
            "_view_name": "HBoxView",
            "box_style": "",
            "children": [
              "IPY_MODEL_42c40cd8fa3d4e3ab582eee678f34ee2",
              "IPY_MODEL_917e69f546cf4b1893b4eedd04cebeab",
              "IPY_MODEL_fb0586c3c5654d9fb777d35233f5016f"
            ],
            "layout": "IPY_MODEL_2102c664744b4499a49d05858ba5350a"
          }
        },
        "f3a1bee153dc4e90a8fd2338d44e39e2": {
          "model_module": "@jupyter-widgets/controls",
          "model_module_version": "1.5.0",
          "model_name": "HTMLModel",
          "state": {
            "_dom_classes": [],
            "_model_module": "@jupyter-widgets/controls",
            "_model_module_version": "1.5.0",
            "_model_name": "HTMLModel",
            "_view_count": null,
            "_view_module": "@jupyter-widgets/controls",
            "_view_module_version": "1.5.0",
            "_view_name": "HTMLView",
            "description": "",
            "description_tooltip": null,
            "layout": "IPY_MODEL_52ae5105b22741a7bfd6ccabe58795cb",
            "placeholder": "​",
            "style": "IPY_MODEL_133564f29cff4f36b971bb0f643444d1",
            "value": "Processing: 100%"
          }
        },
        "f43fc877279e4a21ada1c3f04565e83f": {
          "model_module": "@jupyter-widgets/controls",
          "model_module_version": "1.5.0",
          "model_name": "HTMLModel",
          "state": {
            "_dom_classes": [],
            "_model_module": "@jupyter-widgets/controls",
            "_model_module_version": "1.5.0",
            "_model_name": "HTMLModel",
            "_view_count": null,
            "_view_module": "@jupyter-widgets/controls",
            "_view_module_version": "1.5.0",
            "_view_name": "HTMLView",
            "description": "",
            "description_tooltip": null,
            "layout": "IPY_MODEL_82c7eb14a95f457fa993f7ab72314bda",
            "placeholder": "​",
            "style": "IPY_MODEL_1b6919e3a6bf474b971467ace0f91f7e",
            "value": " 17/17 [00:30&lt;00:00,  1.19s/it]"
          }
        },
        "fb0586c3c5654d9fb777d35233f5016f": {
          "model_module": "@jupyter-widgets/controls",
          "model_module_version": "1.5.0",
          "model_name": "HTMLModel",
          "state": {
            "_dom_classes": [],
            "_model_module": "@jupyter-widgets/controls",
            "_model_module_version": "1.5.0",
            "_model_name": "HTMLModel",
            "_view_count": null,
            "_view_module": "@jupyter-widgets/controls",
            "_view_module_version": "1.5.0",
            "_view_name": "HTMLView",
            "description": "",
            "description_tooltip": null,
            "layout": "IPY_MODEL_067632d5e5d34a69b3b126e3d61e3abe",
            "placeholder": "​",
            "style": "IPY_MODEL_1b64c584fd4a49d6b3195a3b3f3e9f1e",
            "value": " 4/4 [00:05&lt;00:00,  1.30s/it]"
          }
        }
      }
    }
  },
  "nbformat": 4,
  "nbformat_minor": 0
}
